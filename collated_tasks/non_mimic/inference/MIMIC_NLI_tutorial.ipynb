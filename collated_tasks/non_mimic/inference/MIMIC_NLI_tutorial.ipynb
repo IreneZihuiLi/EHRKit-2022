{
 "cells": [
  {
   "cell_type": "markdown",
   "metadata": {
    "id": "syn79_dWOfJv"
   },
   "source": [
    "# Introduction"
   ]
  },
  {
   "cell_type": "markdown",
   "metadata": {
    "id": "TGukCBaZOmOG"
   },
   "source": [
    "In this tutorial, we explore medical natural language inference task. In this task, we want to classify a pair of medical-related sentences as entailment, contradiction, or neutral. Adaped from Bert for Text Classification on GLUE [notebook](https://colab.research.google.com/github/huggingface/notebooks/blob/master/examples/text_classification.ipynb)."
   ]
  },
  {
   "cell_type": "markdown",
   "metadata": {
    "id": "00YlVOdA3XE-"
   },
   "source": [
    "This notebook uses python3 and transformer 4.12.2"
   ]
  },
  {
   "cell_type": "markdown",
   "metadata": {
    "id": "5Igax_NMQf3z"
   },
   "source": [
    "# Dataset\n",
    "\n"
   ]
  },
  {
   "cell_type": "markdown",
   "metadata": {
    "id": "3SRLyUFaQmBU"
   },
   "source": [
    "The dataset used in this tutorial is created from MIMIC-III. Thus, make sure you have the corresponding credentials before proceeding. <br>\n",
    "\n",
    "Download original NLI data [here](https://physionet.org/content/mednli/1.0.0/ ). <br>\n",
    "\n",
    "Download MedNLI test set [here](https://physionet.org/content/mednli-bionlp19/1.0.1/). <br>\n",
    "\n",
    "Upload to Google Drive.\n",
    "\n"
   ]
  },
  {
   "cell_type": "markdown",
   "metadata": {
    "id": "jFJU5D-TP-Bo"
   },
   "source": [
    "# Preparation"
   ]
  },
  {
   "cell_type": "markdown",
   "metadata": {
    "id": "pvXCLKpFQaEO"
   },
   "source": [
    "Mount Google Drive to access files stored in Drive."
   ]
  },
  {
   "cell_type": "code",
   "execution_count": null,
   "metadata": {
    "colab": {
     "base_uri": "https://localhost:8080/"
    },
    "id": "qSUiLcOVk1au",
    "outputId": "ced8193e-8e42-4d60-8f16-21401878a8e7"
   },
   "outputs": [
    {
     "name": "stdout",
     "output_type": "stream",
     "text": [
      "Mounted at /content/drive\n"
     ]
    }
   ],
   "source": [
    "### Google Colab Mount Drive ###\n",
    "\n",
    "# Load the Drive helper and mount\n",
    "from google.colab import drive\n",
    "\n",
    "# This will prompt for authorization.\n",
    "drive.mount('/content/drive')"
   ]
  },
  {
   "cell_type": "code",
   "execution_count": null,
   "metadata": {
    "colab": {
     "base_uri": "https://localhost:8080/"
    },
    "id": "9_3-yPkflHU1",
    "outputId": "dd1a670a-9f0d-4e91-b68d-f428900a544e"
   },
   "outputs": [
    {
     "name": "stdout",
     "output_type": "stream",
     "text": [
      "/content/drive/MyDrive\n"
     ]
    }
   ],
   "source": [
    "%cd drive/MyDrive"
   ]
  },
  {
   "cell_type": "markdown",
   "metadata": {
    "id": "AmwnGz6BQB9D"
   },
   "source": [
    "Go to original dataset directory.\n"
   ]
  },
  {
   "cell_type": "code",
   "execution_count": null,
   "metadata": {
    "colab": {
     "base_uri": "https://localhost:8080/"
    },
    "id": "Cdop_Hrxmhod",
    "outputId": "040d43e3-88c5-4e3b-b384-1e3ef7e58adf"
   },
   "outputs": [
    {
     "name": "stdout",
     "output_type": "stream",
     "text": [
      "/content/drive/MyDrive/nli-original\n"
     ]
    }
   ],
   "source": [
    "# cd into original data directory\n",
    "%cd nli-original/"
   ]
  },
  {
   "cell_type": "markdown",
   "metadata": {
    "id": "1-LQPQucQTXv"
   },
   "source": [
    "The directory should contain train/dev/test split each in a jsonl file. More on json lines [here](https://jsonlines.org). (mli_test_v1.jsonl mli_dev_v1.jsonl  mli_train_v1.jsonl)"
   ]
  },
  {
   "cell_type": "code",
   "execution_count": null,
   "metadata": {
    "colab": {
     "base_uri": "https://localhost:8080/"
    },
    "id": "SItcdD3rQJcm",
    "outputId": "57439e29-0de6-4d15-c1d1-dd3c0b85c6c9"
   },
   "outputs": [
    {
     "name": "stdout",
     "output_type": "stream",
     "text": [
      "LICENSE.txt\t  mli_test_v1.jsonl   README.txt      test-1\n",
      "mli_dev_v1.jsonl  mli_train_v1.jsonl  SHA256SUMS.txt\n"
     ]
    }
   ],
   "source": [
    "!ls"
   ]
  },
  {
   "cell_type": "markdown",
   "metadata": {
    "id": "hG18pYzRQnaB"
   },
   "source": [
    "Insall relevant packages."
   ]
  },
  {
   "cell_type": "code",
   "execution_count": null,
   "metadata": {
    "id": "POFHl0KdQSOC"
   },
   "outputs": [],
   "source": [
    "! pip install datasets transformers"
   ]
  },
  {
   "cell_type": "code",
   "execution_count": null,
   "metadata": {
    "colab": {
     "base_uri": "https://localhost:8080/",
     "height": 265,
     "referenced_widgets": [
      "b2d00c3de07047ec93bc0d8cbb7dc500",
      "c9cc4d0cf30a4e8eb3aa6e693532e3c2",
      "8c34c3af8e154af596492553602516ca",
      "ad5fe3bbe7794bfe9fd8844e94181eee",
      "d2cc920c95f34834a1fb28e211076d1e",
      "e83cb4000ce746feaed596b8be8c715c",
      "6eb22e62480b4178b5392cd0bbbc6f61",
      "23e6d3038a224584b5febb69b0e1c36c",
      "65d7340dede84e3281e7af8564cda247",
      "61c0608314a0496f95c808eeae371a93",
      "9f4ea48b71d34d5fbd16226aab12604a",
      "fbe97f7690d749628561ab34acf70177",
      "31b3e8fc77844aa080081fcbe23398d6",
      "8b9d4fca97c040ab85857171694570c6",
      "fec89c3d2a444988929d7354586750e0",
      "0303e364915741cca60cf96ee4263db5"
     ]
    },
    "id": "v9oYx9r6QqW8",
    "outputId": "b11dfebf-9d5b-46a7-8c9a-9cb9b407182e"
   },
   "outputs": [
    {
     "name": "stdout",
     "output_type": "stream",
     "text": [
      "Login successful\n",
      "Your token has been saved to /root/.huggingface/token\n",
      "\u001b[1m\u001b[31mAuthenticated through git-crendential store but this isn't the helper defined on your machine.\n",
      "You will have to re-authenticate when pushing to the Hugging Face Hub. Run the following command in your terminal to set it as the default\n",
      "\n",
      "git config --global credential.helper store\u001b[0m\n"
     ]
    }
   ],
   "source": [
    "from huggingface_hub import notebook_login\n",
    "\n",
    "notebook_login()"
   ]
  },
  {
   "cell_type": "code",
   "execution_count": null,
   "metadata": {
    "colab": {
     "base_uri": "https://localhost:8080/"
    },
    "id": "mx5GB0j1QurL",
    "outputId": "a177b450-0ec5-4c20-d38e-0e1b8737fa2f"
   },
   "outputs": [
    {
     "name": "stdout",
     "output_type": "stream",
     "text": [
      "Reading package lists... Done\n",
      "Building dependency tree       \n",
      "Reading state information... Done\n",
      "The following NEW packages will be installed:\n",
      "  git-lfs\n",
      "0 upgraded, 1 newly installed, 0 to remove and 37 not upgraded.\n",
      "Need to get 2,129 kB of archives.\n",
      "After this operation, 7,662 kB of additional disk space will be used.\n",
      "Get:1 http://archive.ubuntu.com/ubuntu bionic/universe amd64 git-lfs amd64 2.3.4-1 [2,129 kB]\n",
      "Fetched 2,129 kB in 2s (913 kB/s)\n",
      "Selecting previously unselected package git-lfs.\n",
      "(Reading database ... 155219 files and directories currently installed.)\n",
      "Preparing to unpack .../git-lfs_2.3.4-1_amd64.deb ...\n",
      "Unpacking git-lfs (2.3.4-1) ...\n",
      "Setting up git-lfs (2.3.4-1) ...\n",
      "Processing triggers for man-db (2.8.3-2ubuntu0.1) ...\n"
     ]
    }
   ],
   "source": [
    "!apt install git-lfs"
   ]
  },
  {
   "cell_type": "code",
   "execution_count": null,
   "metadata": {
    "colab": {
     "base_uri": "https://localhost:8080/"
    },
    "id": "vwyo_RUJQvbz",
    "outputId": "6737404d-a9ce-4a30-bf94-1eaee40376b6"
   },
   "outputs": [
    {
     "name": "stdout",
     "output_type": "stream",
     "text": [
      "4.12.3\n"
     ]
    }
   ],
   "source": [
    "import transformers\n",
    "\n",
    "print(transformers.__version__)"
   ]
  },
  {
   "cell_type": "markdown",
   "metadata": {
    "id": "uQbjEqqJ8kgJ"
   },
   "source": [
    "Check availability of GPU."
   ]
  },
  {
   "cell_type": "code",
   "execution_count": null,
   "metadata": {
    "colab": {
     "base_uri": "https://localhost:8080/"
    },
    "id": "7hDjcsC_8j_P",
    "outputId": "d5e86206-20b5-4793-914a-9a4aaa86ebe9"
   },
   "outputs": [
    {
     "name": "stdout",
     "output_type": "stream",
     "text": [
      "There are 1 GPU(s) available.\n",
      "We will use the GPU: Tesla K80\n"
     ]
    }
   ],
   "source": [
    "import torch\n",
    "# If there's a GPU available...\n",
    "if torch.cuda.is_available():    \n",
    "    # Tell PyTorch to use the GPU.    \n",
    "    device = torch.device(\"cuda\")\n",
    "    print('There are %d GPU(s) available.' % torch.cuda.device_count())\n",
    "    print('We will use the GPU:', torch.cuda.get_device_name(0))\n",
    "# If not...\n",
    "else:\n",
    "    print('No GPU available, using the CPU instead.')\n",
    "    device = torch.device(\"cpu\")"
   ]
  },
  {
   "cell_type": "markdown",
   "metadata": {
    "id": "vkcX6_9CQ0WL"
   },
   "source": [
    "# Loading Dataset"
   ]
  },
  {
   "cell_type": "markdown",
   "metadata": {
    "id": "3xNjp8DFRXHk"
   },
   "source": [
    "Select a pretrained model from HuggingFace model hub [here](https://huggingface.co/models).  <br>\n",
    "Make sure in the config file, \"architectures\": \"BertForMaskedLM\" <br>\n",
    "Some model choices: <br>\n",
    "[bert-base-uncased](https://huggingface.co/bert-base-uncased) <br>\n",
    "PubmedBERT ([abstract](https://huggingface.co/microsoft/BiomedNLP-PubMedBERT-base-uncased-abstract) or [fulltext](https://huggingface.co/microsoft/BiomedNLP-PubMedBERT-base-uncased-abstract-fulltext)) <br>"
   ]
  },
  {
   "cell_type": "code",
   "execution_count": null,
   "metadata": {
    "id": "hc1XNTuDQ2e1"
   },
   "outputs": [],
   "source": [
    "# model_checkpoint = microsoft/BiomedNLP-PubMedBERT-base-uncased-abstract\n",
    "# model_checkpoint = microsoft/BiomedNLP-PubMedBERT-base-uncased-abstract-fulltext\n",
    "# model_checkpoint = \"bert-base-uncased\"\n",
    "\n",
    "# in this example, we use PubMedBert fulltext\n",
    "model_checkpoint = \"microsoft/BiomedNLP-PubMedBERT-base-uncased-abstract-fulltext\"\n",
    "\n",
    "batch_size = 8"
   ]
  },
  {
   "cell_type": "code",
   "execution_count": null,
   "metadata": {
    "id": "rv4ahk3kRP0V"
   },
   "outputs": [],
   "source": [
    "from datasets import load_dataset, load_metric, DatasetDict, Metric"
   ]
  },
  {
   "cell_type": "markdown",
   "metadata": {
    "id": "jUk-OISzRsiK"
   },
   "source": [
    "Inspect available metrics."
   ]
  },
  {
   "cell_type": "code",
   "execution_count": null,
   "metadata": {
    "colab": {
     "base_uri": "https://localhost:8080/"
    },
    "id": "bYRmJr_1RrE_",
    "outputId": "f260a9f2-fbe3-410e-cb4f-16ace2d2ef6b"
   },
   "outputs": [
    {
     "data": {
      "text/plain": [
       "['accuracy',\n",
       " 'bertscore',\n",
       " 'bleu',\n",
       " 'bleurt',\n",
       " 'cer',\n",
       " 'chrf',\n",
       " 'comet',\n",
       " 'competition_math',\n",
       " 'coval',\n",
       " 'cuad',\n",
       " 'f1',\n",
       " 'gleu',\n",
       " 'glue',\n",
       " 'google_bleu',\n",
       " 'indic_glue',\n",
       " 'matthews_correlation',\n",
       " 'meteor',\n",
       " 'pearsonr',\n",
       " 'precision',\n",
       " 'recall',\n",
       " 'rouge',\n",
       " 'sacrebleu',\n",
       " 'sari',\n",
       " 'seqeval',\n",
       " 'spearmanr',\n",
       " 'squad',\n",
       " 'squad_v2',\n",
       " 'super_glue',\n",
       " 'ter',\n",
       " 'wer',\n",
       " 'wiki_split',\n",
       " 'xnli']"
      ]
     },
     "execution_count": 10,
     "metadata": {},
     "output_type": "execute_result"
    }
   ],
   "source": [
    "from datasets import list_metrics\n",
    "metrics_list = list_metrics()\n",
    "metrics_list"
   ]
  },
  {
   "cell_type": "markdown",
   "metadata": {
    "id": "0F3EBYsjRxUk"
   },
   "source": [
    "\n",
    "Since the evaluation metric for the original task is accuracy, we will use the same metric."
   ]
  },
  {
   "cell_type": "code",
   "execution_count": null,
   "metadata": {
    "colab": {
     "base_uri": "https://localhost:8080/",
     "height": 49,
     "referenced_widgets": [
      "f148ebc401a841c9877ad00b6e1dabd0",
      "2265d2a6274e44b787b29c899a44f4c1",
      "1b9e0e86711a45068a899f57f8e08518",
      "bd5ff05958f24f7eb1c54846cd6541a2",
      "866d2af3f834436ab1cda5c3fca88a0d",
      "869a2773da074e3aadd59d6f1248287f",
      "fe5c85b9fbd543f29893495ac8c42b27",
      "3f0851761efc46d4a15ea9cc8b1cb5c3",
      "259d0e61165d4e16ba77212f51487186",
      "1fb5f18968f5492a96b51de1e1c0d4fb",
      "4dc3c5e6224b497f8354de992a1384b0"
     ]
    },
    "id": "72vKQCRVRQ_g",
    "outputId": "b5222194-43d5-493f-f59d-af58e9d02bd9"
   },
   "outputs": [
    {
     "data": {
      "application/vnd.jupyter.widget-view+json": {
       "model_id": "f148ebc401a841c9877ad00b6e1dabd0",
       "version_major": 2,
       "version_minor": 0
      },
      "text/plain": [
       "Downloading:   0%|          | 0.00/1.42k [00:00<?, ?B/s]"
      ]
     },
     "metadata": {},
     "output_type": "display_data"
    }
   ],
   "source": [
    "metric = load_metric('accuracy')"
   ]
  },
  {
   "cell_type": "code",
   "execution_count": null,
   "metadata": {
    "colab": {
     "base_uri": "https://localhost:8080/"
    },
    "id": "OftQyZLERcFF",
    "outputId": "3bfb581f-534d-4f47-d8b0-5fd5943e2e98"
   },
   "outputs": [
    {
     "data": {
      "text/plain": [
       "Metric(name: \"accuracy\", features: {'predictions': Value(dtype='int32', id=None), 'references': Value(dtype='int32', id=None)}, usage: \"\"\"\n",
       "Args:\n",
       "    predictions: Predicted labels, as returned by a model.\n",
       "    references: Ground truth labels.\n",
       "    normalize: If False, return the number of correctly classified samples.\n",
       "        Otherwise, return the fraction of correctly classified samples.\n",
       "    sample_weight: Sample weights.\n",
       "Returns:\n",
       "    accuracy: Accuracy score.\n",
       "Examples:\n",
       "\n",
       "    >>> accuracy_metric = datasets.load_metric(\"accuracy\")\n",
       "    >>> results = accuracy_metric.compute(references=[0, 1], predictions=[0, 1])\n",
       "    >>> print(results)\n",
       "    {'accuracy': 1.0}\n",
       "\"\"\", stored examples: 0)"
      ]
     },
     "execution_count": 13,
     "metadata": {},
     "output_type": "execute_result"
    }
   ],
   "source": [
    "metric"
   ]
  },
  {
   "cell_type": "markdown",
   "metadata": {
    "id": "S-WZyLFAR3FM"
   },
   "source": [
    "An example use of metric."
   ]
  },
  {
   "cell_type": "code",
   "execution_count": null,
   "metadata": {
    "colab": {
     "base_uri": "https://localhost:8080/"
    },
    "id": "DcMUEFNfS9dI",
    "outputId": "b5643125-44f7-4490-abff-82c25943bf5b"
   },
   "outputs": [
    {
     "name": "stdout",
     "output_type": "stream",
     "text": [
      "{'accuracy': 0.375}\n"
     ]
    }
   ],
   "source": [
    "import numpy as np\n",
    "fake_preds = np.random.randint(0, 3, size=(64,))\n",
    "fake_labels = np.random.randint(0, 3, size=(64,))\n",
    "print(metric.compute(predictions=fake_preds, references=fake_labels))"
   ]
  },
  {
   "cell_type": "markdown",
   "metadata": {
    "id": "N5dda0ayR5wX"
   },
   "source": [
    "Load data into a DatasetDict directly from jsonl files."
   ]
  },
  {
   "cell_type": "code",
   "execution_count": null,
   "metadata": {
    "id": "Xgk67F8XRc7z"
   },
   "outputs": [],
   "source": [
    "train_file = 'mli_train_v1.jsonl'\n",
    "dev_file = 'mli_dev_v1.jsonl'\n",
    "test_file = 'mli_test_v1.jsonl'"
   ]
  },
  {
   "cell_type": "code",
   "execution_count": null,
   "metadata": {
    "colab": {
     "base_uri": "https://localhost:8080/",
     "height": 182,
     "referenced_widgets": [
      "25ac361b61f54c4e8b1f7e91fcad30d7",
      "c46db95e76e84286b5e3d03297ef794c",
      "bd249b1f1e6d4b3a86c12370aa9d490f",
      "8f782208def94e52b7e0e5fc4a99c592",
      "04c886721df5497dbe17816338a6f859",
      "eee2b84261bd41d68bb523397b029145",
      "5ce9850feb5241c693b9d86e24021f0c",
      "9138d6444a5e42afbd71c6d31f3d996e",
      "b68bce2564b848d28ca6a23762d62ef1",
      "75d40e3c3cf2434eba067f88067b31e3",
      "4c7a398f08784d59a519be375e386bc9",
      "a592297176de4c5897aed6b6b2096593",
      "6f0765f108f34daaafddb61467aeb084",
      "bd6d1a2609f9463c99899b0a7b078507",
      "97c875479c2f450bbafaa8799d4619b5",
      "d13b5cf0c4294fb1a77f95978d95a644",
      "c614a350235d4d0cb3c36b1ef95cc5b6",
      "d7e7c8457d9d4e5a9d8deb3e83efb415",
      "3a3451443eb3455eb23eaac1d160f9d4",
      "9f7b03649ae44afca7a0aed3a78acb62",
      "e6c746c86c944ffab60020ab265722ea",
      "6c8c4601d6eb49be98220adc91f3c69f",
      "48266e5b64c347859ee00967d43926c6",
      "d2d23f2611394776b9d39955a04f074b",
      "dde1972b7a854edb813fc5d017369749",
      "7f76d7b8210643b3a5f95d102bb43283",
      "6ab30b4f36f947a7a9816af8df51a1c0",
      "c4a8c7aaf3d84e06889e1e41e71f7cf6",
      "44c5b43f17424f4c97103602c2ca0af0",
      "924c067263ef4992a087ab94ce428a57",
      "cfabdb1af2d14010a9119665acbf2c6c",
      "629f06d646264dcb968f970c4cfc1b5f",
      "870497bf625f413c89ba6c92f138a4b0"
     ]
    },
    "id": "OQiHhe1dSRVQ",
    "outputId": "8993fbb8-2993-4388-95f1-c27dec0ffe51"
   },
   "outputs": [
    {
     "name": "stderr",
     "output_type": "stream",
     "text": [
      "Using custom data configuration default-a0d3fe7e9550c67c\n"
     ]
    },
    {
     "name": "stdout",
     "output_type": "stream",
     "text": [
      "Downloading and preparing dataset json/default to /root/.cache/huggingface/datasets/json/default-a0d3fe7e9550c67c/0.0.0...\n"
     ]
    },
    {
     "data": {
      "application/vnd.jupyter.widget-view+json": {
       "model_id": "25ac361b61f54c4e8b1f7e91fcad30d7",
       "version_major": 2,
       "version_minor": 0
      },
      "text/plain": [
       "  0%|          | 0/3 [00:00<?, ?it/s]"
      ]
     },
     "metadata": {},
     "output_type": "display_data"
    },
    {
     "data": {
      "application/vnd.jupyter.widget-view+json": {
       "model_id": "a592297176de4c5897aed6b6b2096593",
       "version_major": 2,
       "version_minor": 0
      },
      "text/plain": [
       "  0%|          | 0/3 [00:00<?, ?it/s]"
      ]
     },
     "metadata": {},
     "output_type": "display_data"
    },
    {
     "name": "stdout",
     "output_type": "stream",
     "text": [
      "Dataset json downloaded and prepared to /root/.cache/huggingface/datasets/json/default-a0d3fe7e9550c67c/0.0.0. Subsequent calls will reuse this data.\n"
     ]
    },
    {
     "data": {
      "application/vnd.jupyter.widget-view+json": {
       "model_id": "48266e5b64c347859ee00967d43926c6",
       "version_major": 2,
       "version_minor": 0
      },
      "text/plain": [
       "  0%|          | 0/3 [00:00<?, ?it/s]"
      ]
     },
     "metadata": {},
     "output_type": "display_data"
    }
   ],
   "source": [
    "dataset = DatasetDict.from_json({'train': train_file, 'dev': dev_file, 'test': test_file})"
   ]
  },
  {
   "cell_type": "code",
   "execution_count": null,
   "metadata": {
    "colab": {
     "base_uri": "https://localhost:8080/"
    },
    "id": "TQgEQuEoSWwI",
    "outputId": "b0fc98d5-bd1c-44ba-be47-6113c48025ac"
   },
   "outputs": [
    {
     "data": {
      "text/plain": [
       "DatasetDict({\n",
       "    train: Dataset({\n",
       "        features: ['sentence1', 'pairID', 'sentence1_parse', 'sentence1_binary_parse', 'sentence2', 'sentence2_parse', 'sentence2_binary_parse', 'gold_label'],\n",
       "        num_rows: 11232\n",
       "    })\n",
       "    dev: Dataset({\n",
       "        features: ['sentence1', 'pairID', 'sentence1_parse', 'sentence1_binary_parse', 'sentence2', 'sentence2_parse', 'sentence2_binary_parse', 'gold_label'],\n",
       "        num_rows: 1395\n",
       "    })\n",
       "    test: Dataset({\n",
       "        features: ['sentence1', 'pairID', 'sentence1_parse', 'sentence1_binary_parse', 'sentence2', 'sentence2_parse', 'sentence2_binary_parse', 'gold_label'],\n",
       "        num_rows: 1422\n",
       "    })\n",
       "})"
      ]
     },
     "execution_count": 17,
     "metadata": {},
     "output_type": "execute_result"
    }
   ],
   "source": [
    "dataset"
   ]
  },
  {
   "cell_type": "code",
   "execution_count": null,
   "metadata": {
    "colab": {
     "base_uri": "https://localhost:8080/"
    },
    "id": "s7VaTxPRSXRj",
    "outputId": "57893245-a95b-41cf-beda-2375a3768ce6"
   },
   "outputs": [
    {
     "data": {
      "text/plain": [
       "{'gold_label': 'entailment',\n",
       " 'pairID': '23eb94b8-66c7-11e7-a8dc-f45c89b91419',\n",
       " 'sentence1': 'Labs were notable for Cr 1.7 (baseline 0.5 per old records) and lactate 2.4.',\n",
       " 'sentence1_binary_parse': '( Labs ( ( were ( notable ( for ( ( ( ( Cr 1.7 ) ( -LRB- ( ( ( baseline 0.5 ) ( per ( old records ) ) ) -RRB- ) ) ) and ) ( lactate 2.4 ) ) ) ) ) . ) )',\n",
       " 'sentence1_parse': '(ROOT (S (NP (NNPS Labs)) (VP (VBD were) (ADJP (JJ notable) (PP (IN for) (NP (NP (NP (NN Cr) (CD 1.7)) (PRN (-LRB- -LRB-) (NP (NP (NN baseline) (CD 0.5)) (PP (IN per) (NP (JJ old) (NNS records)))) (-RRB- -RRB-))) (CC and) (NP (NN lactate) (CD 2.4)))))) (. .)))',\n",
       " 'sentence2': ' Patient has elevated Cr',\n",
       " 'sentence2_binary_parse': '( Patient ( has ( elevated Cr ) ) )',\n",
       " 'sentence2_parse': '(ROOT (S (NP (NN Patient)) (VP (VBZ has) (NP (JJ elevated) (NN Cr)))))'}"
      ]
     },
     "execution_count": 18,
     "metadata": {},
     "output_type": "execute_result"
    }
   ],
   "source": [
    "dataset['train'][0]"
   ]
  },
  {
   "cell_type": "markdown",
   "metadata": {
    "id": "2ElFcQvBCpB4"
   },
   "source": [
    "The following function helps to better visualize each data instance."
   ]
  },
  {
   "cell_type": "code",
   "execution_count": null,
   "metadata": {
    "id": "k4Qkt_i-CoYt"
   },
   "outputs": [],
   "source": [
    "def show_one(example):\n",
    "  print(f\"Sentence 1: {example['sentence1']}\")\n",
    "  print(f\"Sentence 2: {example['sentence2']}\")\n",
    "  print(f\"Ground truth: {example['gold_label']}\")"
   ]
  },
  {
   "cell_type": "code",
   "execution_count": null,
   "metadata": {
    "colab": {
     "base_uri": "https://localhost:8080/"
    },
    "id": "eBbWkWvSC-6C",
    "outputId": "c2552dea-aa5a-4b37-9224-7a6e4840f7cd"
   },
   "outputs": [
    {
     "name": "stdout",
     "output_type": "stream",
     "text": [
      "Sentence 1: Nystagmus and twiching of R arm was noted.\n",
      "Sentence 2:  The patient had abnormal neuro exam.\n",
      "Ground truth: entailment\n"
     ]
    }
   ],
   "source": [
    "show_one(dataset['train'][3])"
   ]
  },
  {
   "cell_type": "markdown",
   "metadata": {
    "id": "nh0Mym8uTyX5"
   },
   "source": [
    "# Preprocessing"
   ]
  },
  {
   "cell_type": "code",
   "execution_count": null,
   "metadata": {
    "colab": {
     "base_uri": "https://localhost:8080/",
     "height": 112,
     "referenced_widgets": [
      "6813c5dcea2c44669269a63a0782cdef",
      "62661c612b82495bab5b0c1cbe1a54f6",
      "2f046b7838ef4d469310688cc6a12c0d",
      "cecf3310ef4849e2ac92eefd3650e47a",
      "ea4691c517db4a02a7cad4b0c273e5bc",
      "1f40f1100b5c4e0e9ec7469d85052324",
      "60b51237afcd4a3fabe4b926c8bd03c3",
      "b3f674b815c44ab29360be4350cdc5a1",
      "cbe2aaeab6b34ef58f712dec891b16f3",
      "f4940e1744214affa8dfe870c5228dab",
      "a5d1727891314721ab62ad8125ede2ef",
      "15d9142d783543128cd29c131b10196f",
      "8e118f8f502b4b51bd4086815a4640de",
      "9bee536f8156458b9dee921504702b26",
      "305f36cc08c34290853ec6d337a9fa62",
      "608640443e84480598cf0477eba609a3",
      "7371263e1a084be09132462df9a81316",
      "7510473fa9e847cabcb54884d6070d73",
      "a32836ef0e7241c9bb533d5d9a13e143",
      "3cdfc6b48e2d43b5bb3b0a96c986562b",
      "efb9c693b43b4bcf835a4c60a71a10de",
      "772c75c6b5e64f31bf1af422ad0b11bf",
      "3d49e131175b4f50bc0a349580bc8a3c",
      "88504949c31f4b8f958d0c35bc5e4850",
      "714291fc48b240c39bac96f7972ade36",
      "11b4e597b21947cda0f5b8403a7a0018",
      "a0725267a6c840c1908522a9c87933f7",
      "77c7085d517f468296933bd87843a39c",
      "2110fc3b0536435597a0816a73d92345",
      "f9220ee3bb3c494fbdb8ccf9d931b045",
      "0c2eeae4c6d24b46b2f2a274847d4a4c",
      "140dbe118d1b4e759976ac308760641a",
      "fb71cb2b42d745519e93dcba6125a744"
     ]
    },
    "id": "tazqwmqySaG9",
    "outputId": "cb2d2505-deaa-4c67-8175-eb9fe539b5fc"
   },
   "outputs": [
    {
     "data": {
      "application/vnd.jupyter.widget-view+json": {
       "model_id": "6813c5dcea2c44669269a63a0782cdef",
       "version_major": 2,
       "version_minor": 0
      },
      "text/plain": [
       "Downloading:   0%|          | 0.00/28.0 [00:00<?, ?B/s]"
      ]
     },
     "metadata": {},
     "output_type": "display_data"
    },
    {
     "data": {
      "application/vnd.jupyter.widget-view+json": {
       "model_id": "15d9142d783543128cd29c131b10196f",
       "version_major": 2,
       "version_minor": 0
      },
      "text/plain": [
       "Downloading:   0%|          | 0.00/385 [00:00<?, ?B/s]"
      ]
     },
     "metadata": {},
     "output_type": "display_data"
    },
    {
     "data": {
      "application/vnd.jupyter.widget-view+json": {
       "model_id": "3d49e131175b4f50bc0a349580bc8a3c",
       "version_major": 2,
       "version_minor": 0
      },
      "text/plain": [
       "Downloading:   0%|          | 0.00/221k [00:00<?, ?B/s]"
      ]
     },
     "metadata": {},
     "output_type": "display_data"
    }
   ],
   "source": [
    "from transformers import AutoTokenizer\n",
    "    \n",
    "tokenizer = AutoTokenizer.from_pretrained(model_checkpoint, use_fast=True)"
   ]
  },
  {
   "cell_type": "markdown",
   "metadata": {
    "id": "d0f1ebXZUFYr"
   },
   "source": [
    "In preprocess function, in addition to tokenize sentences, we also convert label to ids. <br>\n",
    "\n",
    "Important parameters for Bert model: <br>\n",
    "input_ids: indices of input sequence tokens in the vocabulary <br>\n",
    "attention_masks: mask to avod performing attention on padding token indices <br>\n",
    "labels: labels for computing loss <br>\n",
    "\n",
    "In [Default data collator](https://huggingface.co/transformers/main_classes/data_collator.html#default-data-collator), no additional preprocessing is done. Thus, property names of the input object will be used as corresponding inputs to the model. Make sure the column name is titled correctly as 'label'. <br>\n",
    "Alternatively, you can also write your own DataCollator. "
   ]
  },
  {
   "cell_type": "code",
   "execution_count": null,
   "metadata": {
    "id": "8Pw5-5f5T0PD"
   },
   "outputs": [],
   "source": [
    "def preprocess_function(examples):\n",
    "    output = tokenizer(examples['sentence1'], examples['sentence2'], truncation=True, max_length=128)\n",
    "    label_to_id = {'entailment': 0, 'contradiction': 1, 'neutral': 2}\n",
    "    output['label'] = list(map(lambda x : label_to_id[x], examples['gold_label']))\n",
    "    return output"
   ]
  },
  {
   "cell_type": "markdown",
   "metadata": {
    "id": "kjQGoyaFSiHr"
   },
   "source": [
    "Insepct keys to make sure input_ids, attention_masks and labels are included."
   ]
  },
  {
   "cell_type": "code",
   "execution_count": null,
   "metadata": {
    "colab": {
     "base_uri": "https://localhost:8080/"
    },
    "id": "O1ZKYCHMUMTe",
    "outputId": "c0e39dd4-abf3-443c-d26c-e7f3b45f5eef"
   },
   "outputs": [
    {
     "data": {
      "text/plain": [
       "dict_keys(['input_ids', 'token_type_ids', 'attention_mask', 'label'])"
      ]
     },
     "execution_count": 21,
     "metadata": {},
     "output_type": "execute_result"
    }
   ],
   "source": [
    "preprocess_function(dataset['train'][:5]).keys()"
   ]
  },
  {
   "cell_type": "markdown",
   "metadata": {
    "id": "05jU1vKWSnC0"
   },
   "source": [
    "Preprocess all splits of the dataset."
   ]
  },
  {
   "cell_type": "code",
   "execution_count": null,
   "metadata": {
    "colab": {
     "base_uri": "https://localhost:8080/",
     "height": 112,
     "referenced_widgets": [
      "7ce43ae9f0324244b20cc0b22fbc5930",
      "f2e7562840bd477d864b8ab73a7362db",
      "1b5fb416ff1e413d855cf32edf289b17",
      "5108f5f57a6549b3987241aa997a4c0d",
      "e984368e83f940dc865e0d48aaf1c4db",
      "f3833ba786a7450ea6c6837d7bf4fd5e",
      "f60a9bbf94e64b2fba3c980c3dcfa6ee",
      "e2fbbe70fb154ffc8fe3a16b8bd1c1bf",
      "a00f90801f054b9189c85b4a118e452a",
      "394b936e3cd043cab722c366fdeca863",
      "af3d3bbbc5dd44f8a09334e7ff88a02f",
      "8063ab8970344ceda9f7cf29884dd7c6",
      "8445e8c80b354df1a10c5c635d195833",
      "a7f9a84111c946a9bb6f1dde46ea2c44",
      "644393913a74451ca43d7a970fee4302",
      "3bf8acf3d9544584848925ff69813a6e",
      "5137354c74b04f54adb4f69b263d1835",
      "6fc6221395174cf3b19470e28f195d25",
      "388caed079114e2eb10b9a65ca84ffcc",
      "57b3e0ef7e334ed2b3bf4f7a3ce7d433",
      "c6e7e6a3cc704ba896f1c00fd26c6884",
      "c52052720faf433989e2635291d2a26b",
      "6a8ccef69a254cda916e741faf451b45",
      "c3b828d90e63485aa360be9d6a04504c",
      "fde9230c4a8149ddafd6070f05228f14",
      "808c6f31ea884cd9a027e8761e669700",
      "6d8ce074d36c46a1850b3ff8ff66fe26",
      "72247f5402b14d7c89e1dd31c3c59335",
      "b33a73047c64418ab2d7c421f7a23a70",
      "f6bc52d8a0654c54a69147e34077794e",
      "64fa91d7f9194fee8fe1ffdbdf03a1ea",
      "6f7935bc6b16481a81ef775e3a9d2118",
      "ea96da89533742899b320317ff15e22d"
     ]
    },
    "id": "gT67xCxuV10W",
    "outputId": "83a77ec6-9c07-45b7-fe61-9a37a0cfa3de"
   },
   "outputs": [
    {
     "data": {
      "application/vnd.jupyter.widget-view+json": {
       "model_id": "7ce43ae9f0324244b20cc0b22fbc5930",
       "version_major": 2,
       "version_minor": 0
      },
      "text/plain": [
       "  0%|          | 0/12 [00:00<?, ?ba/s]"
      ]
     },
     "metadata": {},
     "output_type": "display_data"
    },
    {
     "data": {
      "application/vnd.jupyter.widget-view+json": {
       "model_id": "8063ab8970344ceda9f7cf29884dd7c6",
       "version_major": 2,
       "version_minor": 0
      },
      "text/plain": [
       "  0%|          | 0/2 [00:00<?, ?ba/s]"
      ]
     },
     "metadata": {},
     "output_type": "display_data"
    },
    {
     "data": {
      "application/vnd.jupyter.widget-view+json": {
       "model_id": "6a8ccef69a254cda916e741faf451b45",
       "version_major": 2,
       "version_minor": 0
      },
      "text/plain": [
       "  0%|          | 0/2 [00:00<?, ?ba/s]"
      ]
     },
     "metadata": {},
     "output_type": "display_data"
    }
   ],
   "source": [
    "encoded_dataset = dataset.map(preprocess_function, batched=True)"
   ]
  },
  {
   "cell_type": "code",
   "execution_count": null,
   "metadata": {
    "colab": {
     "base_uri": "https://localhost:8080/"
    },
    "id": "Po3JlfPcWA3n",
    "outputId": "0d0a9edf-09c9-4e31-d880-96b41fae4cff"
   },
   "outputs": [
    {
     "data": {
      "text/plain": [
       "{'attention_mask': [1,\n",
       "  1,\n",
       "  1,\n",
       "  1,\n",
       "  1,\n",
       "  1,\n",
       "  1,\n",
       "  1,\n",
       "  1,\n",
       "  1,\n",
       "  1,\n",
       "  1,\n",
       "  1,\n",
       "  1,\n",
       "  1,\n",
       "  1,\n",
       "  1,\n",
       "  1,\n",
       "  1,\n",
       "  1,\n",
       "  1,\n",
       "  1,\n",
       "  1,\n",
       "  1,\n",
       "  1,\n",
       "  1,\n",
       "  1,\n",
       "  1,\n",
       "  1,\n",
       "  1],\n",
       " 'gold_label': 'entailment',\n",
       " 'input_ids': [2,\n",
       "  17919,\n",
       "  1985,\n",
       "  11892,\n",
       "  1958,\n",
       "  2345,\n",
       "  21,\n",
       "  18,\n",
       "  27,\n",
       "  12,\n",
       "  3703,\n",
       "  20,\n",
       "  18,\n",
       "  25,\n",
       "  2079,\n",
       "  4156,\n",
       "  7123,\n",
       "  13,\n",
       "  1930,\n",
       "  9456,\n",
       "  22,\n",
       "  18,\n",
       "  24,\n",
       "  18,\n",
       "  3,\n",
       "  2774,\n",
       "  2258,\n",
       "  4664,\n",
       "  2345,\n",
       "  3],\n",
       " 'label': 0,\n",
       " 'pairID': '23eb94b8-66c7-11e7-a8dc-f45c89b91419',\n",
       " 'sentence1': 'Labs were notable for Cr 1.7 (baseline 0.5 per old records) and lactate 2.4.',\n",
       " 'sentence1_binary_parse': '( Labs ( ( were ( notable ( for ( ( ( ( Cr 1.7 ) ( -LRB- ( ( ( baseline 0.5 ) ( per ( old records ) ) ) -RRB- ) ) ) and ) ( lactate 2.4 ) ) ) ) ) . ) )',\n",
       " 'sentence1_parse': '(ROOT (S (NP (NNPS Labs)) (VP (VBD were) (ADJP (JJ notable) (PP (IN for) (NP (NP (NP (NN Cr) (CD 1.7)) (PRN (-LRB- -LRB-) (NP (NP (NN baseline) (CD 0.5)) (PP (IN per) (NP (JJ old) (NNS records)))) (-RRB- -RRB-))) (CC and) (NP (NN lactate) (CD 2.4)))))) (. .)))',\n",
       " 'sentence2': ' Patient has elevated Cr',\n",
       " 'sentence2_binary_parse': '( Patient ( has ( elevated Cr ) ) )',\n",
       " 'sentence2_parse': '(ROOT (S (NP (NN Patient)) (VP (VBZ has) (NP (JJ elevated) (NN Cr)))))',\n",
       " 'token_type_ids': [0,\n",
       "  0,\n",
       "  0,\n",
       "  0,\n",
       "  0,\n",
       "  0,\n",
       "  0,\n",
       "  0,\n",
       "  0,\n",
       "  0,\n",
       "  0,\n",
       "  0,\n",
       "  0,\n",
       "  0,\n",
       "  0,\n",
       "  0,\n",
       "  0,\n",
       "  0,\n",
       "  0,\n",
       "  0,\n",
       "  0,\n",
       "  0,\n",
       "  0,\n",
       "  0,\n",
       "  0,\n",
       "  1,\n",
       "  1,\n",
       "  1,\n",
       "  1,\n",
       "  1]}"
      ]
     },
     "execution_count": 36,
     "metadata": {},
     "output_type": "execute_result"
    }
   ],
   "source": [
    "encoded_dataset['train'][0]"
   ]
  },
  {
   "cell_type": "markdown",
   "metadata": {
    "id": "Xuh5BVN_V2Fy"
   },
   "source": [
    "# Finetuning"
   ]
  },
  {
   "cell_type": "code",
   "execution_count": null,
   "metadata": {
    "id": "UOuYH-k1UNSh"
   },
   "outputs": [],
   "source": [
    "from transformers import AutoModelForSequenceClassification, TrainingArguments, Trainer"
   ]
  },
  {
   "cell_type": "code",
   "execution_count": null,
   "metadata": {
    "colab": {
     "base_uri": "https://localhost:8080/",
     "height": 151,
     "referenced_widgets": [
      "3b1ae2f3a6104a3498ccf1a1d7090c53",
      "797b14975fd94c308d213c268d4ff0d8",
      "16bffc88a8eb428bbfd3d544efc95da3",
      "55e0e63410d447c0861bcccbba4be977",
      "776efc0f188b4b10ba678b494562bc23",
      "2842aa161c2a4634985308a1f783a0f1",
      "d2df1b07e0e144a99c21eb40216ed6e3",
      "c9ee10818a1c499b95c28970f4a28783",
      "bc53cbfe3c03467893b766c39fa19e19",
      "f6900059413f4907812c259d03620750",
      "a82d2da6afb842868d643397977ae5f0"
     ]
    },
    "id": "BROKaiN8VQmP",
    "outputId": "f1425270-1d5c-40cb-f76b-846d634b3963"
   },
   "outputs": [
    {
     "data": {
      "application/vnd.jupyter.widget-view+json": {
       "model_id": "3b1ae2f3a6104a3498ccf1a1d7090c53",
       "version_major": 2,
       "version_minor": 0
      },
      "text/plain": [
       "Downloading:   0%|          | 0.00/420M [00:00<?, ?B/s]"
      ]
     },
     "metadata": {},
     "output_type": "display_data"
    },
    {
     "name": "stderr",
     "output_type": "stream",
     "text": [
      "Some weights of the model checkpoint at microsoft/BiomedNLP-PubMedBERT-base-uncased-abstract-fulltext were not used when initializing BertForSequenceClassification: ['cls.predictions.decoder.weight', 'cls.predictions.transform.dense.bias', 'cls.predictions.bias', 'cls.predictions.transform.LayerNorm.weight', 'cls.predictions.decoder.bias', 'cls.seq_relationship.bias', 'cls.predictions.transform.dense.weight', 'cls.predictions.transform.LayerNorm.bias', 'cls.seq_relationship.weight']\n",
      "- This IS expected if you are initializing BertForSequenceClassification from the checkpoint of a model trained on another task or with another architecture (e.g. initializing a BertForSequenceClassification model from a BertForPreTraining model).\n",
      "- This IS NOT expected if you are initializing BertForSequenceClassification from the checkpoint of a model that you expect to be exactly identical (initializing a BertForSequenceClassification model from a BertForSequenceClassification model).\n",
      "Some weights of BertForSequenceClassification were not initialized from the model checkpoint at microsoft/BiomedNLP-PubMedBERT-base-uncased-abstract-fulltext and are newly initialized: ['classifier.bias', 'classifier.weight']\n",
      "You should probably TRAIN this model on a down-stream task to be able to use it for predictions and inference.\n"
     ]
    }
   ],
   "source": [
    "num_labels = 3\n",
    "model = AutoModelForSequenceClassification.from_pretrained(model_checkpoint, num_labels=num_labels)"
   ]
  },
  {
   "cell_type": "markdown",
   "metadata": {
    "id": "mczu4jqySu1h"
   },
   "source": [
    "Inspect model architecture."
   ]
  },
  {
   "cell_type": "code",
   "execution_count": null,
   "metadata": {
    "colab": {
     "base_uri": "https://localhost:8080/"
    },
    "id": "5_hP-iq3VTrZ",
    "outputId": "96c66632-b887-41f0-fb58-002bc5630b29"
   },
   "outputs": [
    {
     "data": {
      "text/plain": [
       "BertForSequenceClassification(\n",
       "  (bert): BertModel(\n",
       "    (embeddings): BertEmbeddings(\n",
       "      (word_embeddings): Embedding(30522, 768, padding_idx=0)\n",
       "      (position_embeddings): Embedding(512, 768)\n",
       "      (token_type_embeddings): Embedding(2, 768)\n",
       "      (LayerNorm): LayerNorm((768,), eps=1e-12, elementwise_affine=True)\n",
       "      (dropout): Dropout(p=0.1, inplace=False)\n",
       "    )\n",
       "    (encoder): BertEncoder(\n",
       "      (layer): ModuleList(\n",
       "        (0): BertLayer(\n",
       "          (attention): BertAttention(\n",
       "            (self): BertSelfAttention(\n",
       "              (query): Linear(in_features=768, out_features=768, bias=True)\n",
       "              (key): Linear(in_features=768, out_features=768, bias=True)\n",
       "              (value): Linear(in_features=768, out_features=768, bias=True)\n",
       "              (dropout): Dropout(p=0.1, inplace=False)\n",
       "            )\n",
       "            (output): BertSelfOutput(\n",
       "              (dense): Linear(in_features=768, out_features=768, bias=True)\n",
       "              (LayerNorm): LayerNorm((768,), eps=1e-12, elementwise_affine=True)\n",
       "              (dropout): Dropout(p=0.1, inplace=False)\n",
       "            )\n",
       "          )\n",
       "          (intermediate): BertIntermediate(\n",
       "            (dense): Linear(in_features=768, out_features=3072, bias=True)\n",
       "          )\n",
       "          (output): BertOutput(\n",
       "            (dense): Linear(in_features=3072, out_features=768, bias=True)\n",
       "            (LayerNorm): LayerNorm((768,), eps=1e-12, elementwise_affine=True)\n",
       "            (dropout): Dropout(p=0.1, inplace=False)\n",
       "          )\n",
       "        )\n",
       "        (1): BertLayer(\n",
       "          (attention): BertAttention(\n",
       "            (self): BertSelfAttention(\n",
       "              (query): Linear(in_features=768, out_features=768, bias=True)\n",
       "              (key): Linear(in_features=768, out_features=768, bias=True)\n",
       "              (value): Linear(in_features=768, out_features=768, bias=True)\n",
       "              (dropout): Dropout(p=0.1, inplace=False)\n",
       "            )\n",
       "            (output): BertSelfOutput(\n",
       "              (dense): Linear(in_features=768, out_features=768, bias=True)\n",
       "              (LayerNorm): LayerNorm((768,), eps=1e-12, elementwise_affine=True)\n",
       "              (dropout): Dropout(p=0.1, inplace=False)\n",
       "            )\n",
       "          )\n",
       "          (intermediate): BertIntermediate(\n",
       "            (dense): Linear(in_features=768, out_features=3072, bias=True)\n",
       "          )\n",
       "          (output): BertOutput(\n",
       "            (dense): Linear(in_features=3072, out_features=768, bias=True)\n",
       "            (LayerNorm): LayerNorm((768,), eps=1e-12, elementwise_affine=True)\n",
       "            (dropout): Dropout(p=0.1, inplace=False)\n",
       "          )\n",
       "        )\n",
       "        (2): BertLayer(\n",
       "          (attention): BertAttention(\n",
       "            (self): BertSelfAttention(\n",
       "              (query): Linear(in_features=768, out_features=768, bias=True)\n",
       "              (key): Linear(in_features=768, out_features=768, bias=True)\n",
       "              (value): Linear(in_features=768, out_features=768, bias=True)\n",
       "              (dropout): Dropout(p=0.1, inplace=False)\n",
       "            )\n",
       "            (output): BertSelfOutput(\n",
       "              (dense): Linear(in_features=768, out_features=768, bias=True)\n",
       "              (LayerNorm): LayerNorm((768,), eps=1e-12, elementwise_affine=True)\n",
       "              (dropout): Dropout(p=0.1, inplace=False)\n",
       "            )\n",
       "          )\n",
       "          (intermediate): BertIntermediate(\n",
       "            (dense): Linear(in_features=768, out_features=3072, bias=True)\n",
       "          )\n",
       "          (output): BertOutput(\n",
       "            (dense): Linear(in_features=3072, out_features=768, bias=True)\n",
       "            (LayerNorm): LayerNorm((768,), eps=1e-12, elementwise_affine=True)\n",
       "            (dropout): Dropout(p=0.1, inplace=False)\n",
       "          )\n",
       "        )\n",
       "        (3): BertLayer(\n",
       "          (attention): BertAttention(\n",
       "            (self): BertSelfAttention(\n",
       "              (query): Linear(in_features=768, out_features=768, bias=True)\n",
       "              (key): Linear(in_features=768, out_features=768, bias=True)\n",
       "              (value): Linear(in_features=768, out_features=768, bias=True)\n",
       "              (dropout): Dropout(p=0.1, inplace=False)\n",
       "            )\n",
       "            (output): BertSelfOutput(\n",
       "              (dense): Linear(in_features=768, out_features=768, bias=True)\n",
       "              (LayerNorm): LayerNorm((768,), eps=1e-12, elementwise_affine=True)\n",
       "              (dropout): Dropout(p=0.1, inplace=False)\n",
       "            )\n",
       "          )\n",
       "          (intermediate): BertIntermediate(\n",
       "            (dense): Linear(in_features=768, out_features=3072, bias=True)\n",
       "          )\n",
       "          (output): BertOutput(\n",
       "            (dense): Linear(in_features=3072, out_features=768, bias=True)\n",
       "            (LayerNorm): LayerNorm((768,), eps=1e-12, elementwise_affine=True)\n",
       "            (dropout): Dropout(p=0.1, inplace=False)\n",
       "          )\n",
       "        )\n",
       "        (4): BertLayer(\n",
       "          (attention): BertAttention(\n",
       "            (self): BertSelfAttention(\n",
       "              (query): Linear(in_features=768, out_features=768, bias=True)\n",
       "              (key): Linear(in_features=768, out_features=768, bias=True)\n",
       "              (value): Linear(in_features=768, out_features=768, bias=True)\n",
       "              (dropout): Dropout(p=0.1, inplace=False)\n",
       "            )\n",
       "            (output): BertSelfOutput(\n",
       "              (dense): Linear(in_features=768, out_features=768, bias=True)\n",
       "              (LayerNorm): LayerNorm((768,), eps=1e-12, elementwise_affine=True)\n",
       "              (dropout): Dropout(p=0.1, inplace=False)\n",
       "            )\n",
       "          )\n",
       "          (intermediate): BertIntermediate(\n",
       "            (dense): Linear(in_features=768, out_features=3072, bias=True)\n",
       "          )\n",
       "          (output): BertOutput(\n",
       "            (dense): Linear(in_features=3072, out_features=768, bias=True)\n",
       "            (LayerNorm): LayerNorm((768,), eps=1e-12, elementwise_affine=True)\n",
       "            (dropout): Dropout(p=0.1, inplace=False)\n",
       "          )\n",
       "        )\n",
       "        (5): BertLayer(\n",
       "          (attention): BertAttention(\n",
       "            (self): BertSelfAttention(\n",
       "              (query): Linear(in_features=768, out_features=768, bias=True)\n",
       "              (key): Linear(in_features=768, out_features=768, bias=True)\n",
       "              (value): Linear(in_features=768, out_features=768, bias=True)\n",
       "              (dropout): Dropout(p=0.1, inplace=False)\n",
       "            )\n",
       "            (output): BertSelfOutput(\n",
       "              (dense): Linear(in_features=768, out_features=768, bias=True)\n",
       "              (LayerNorm): LayerNorm((768,), eps=1e-12, elementwise_affine=True)\n",
       "              (dropout): Dropout(p=0.1, inplace=False)\n",
       "            )\n",
       "          )\n",
       "          (intermediate): BertIntermediate(\n",
       "            (dense): Linear(in_features=768, out_features=3072, bias=True)\n",
       "          )\n",
       "          (output): BertOutput(\n",
       "            (dense): Linear(in_features=3072, out_features=768, bias=True)\n",
       "            (LayerNorm): LayerNorm((768,), eps=1e-12, elementwise_affine=True)\n",
       "            (dropout): Dropout(p=0.1, inplace=False)\n",
       "          )\n",
       "        )\n",
       "        (6): BertLayer(\n",
       "          (attention): BertAttention(\n",
       "            (self): BertSelfAttention(\n",
       "              (query): Linear(in_features=768, out_features=768, bias=True)\n",
       "              (key): Linear(in_features=768, out_features=768, bias=True)\n",
       "              (value): Linear(in_features=768, out_features=768, bias=True)\n",
       "              (dropout): Dropout(p=0.1, inplace=False)\n",
       "            )\n",
       "            (output): BertSelfOutput(\n",
       "              (dense): Linear(in_features=768, out_features=768, bias=True)\n",
       "              (LayerNorm): LayerNorm((768,), eps=1e-12, elementwise_affine=True)\n",
       "              (dropout): Dropout(p=0.1, inplace=False)\n",
       "            )\n",
       "          )\n",
       "          (intermediate): BertIntermediate(\n",
       "            (dense): Linear(in_features=768, out_features=3072, bias=True)\n",
       "          )\n",
       "          (output): BertOutput(\n",
       "            (dense): Linear(in_features=3072, out_features=768, bias=True)\n",
       "            (LayerNorm): LayerNorm((768,), eps=1e-12, elementwise_affine=True)\n",
       "            (dropout): Dropout(p=0.1, inplace=False)\n",
       "          )\n",
       "        )\n",
       "        (7): BertLayer(\n",
       "          (attention): BertAttention(\n",
       "            (self): BertSelfAttention(\n",
       "              (query): Linear(in_features=768, out_features=768, bias=True)\n",
       "              (key): Linear(in_features=768, out_features=768, bias=True)\n",
       "              (value): Linear(in_features=768, out_features=768, bias=True)\n",
       "              (dropout): Dropout(p=0.1, inplace=False)\n",
       "            )\n",
       "            (output): BertSelfOutput(\n",
       "              (dense): Linear(in_features=768, out_features=768, bias=True)\n",
       "              (LayerNorm): LayerNorm((768,), eps=1e-12, elementwise_affine=True)\n",
       "              (dropout): Dropout(p=0.1, inplace=False)\n",
       "            )\n",
       "          )\n",
       "          (intermediate): BertIntermediate(\n",
       "            (dense): Linear(in_features=768, out_features=3072, bias=True)\n",
       "          )\n",
       "          (output): BertOutput(\n",
       "            (dense): Linear(in_features=3072, out_features=768, bias=True)\n",
       "            (LayerNorm): LayerNorm((768,), eps=1e-12, elementwise_affine=True)\n",
       "            (dropout): Dropout(p=0.1, inplace=False)\n",
       "          )\n",
       "        )\n",
       "        (8): BertLayer(\n",
       "          (attention): BertAttention(\n",
       "            (self): BertSelfAttention(\n",
       "              (query): Linear(in_features=768, out_features=768, bias=True)\n",
       "              (key): Linear(in_features=768, out_features=768, bias=True)\n",
       "              (value): Linear(in_features=768, out_features=768, bias=True)\n",
       "              (dropout): Dropout(p=0.1, inplace=False)\n",
       "            )\n",
       "            (output): BertSelfOutput(\n",
       "              (dense): Linear(in_features=768, out_features=768, bias=True)\n",
       "              (LayerNorm): LayerNorm((768,), eps=1e-12, elementwise_affine=True)\n",
       "              (dropout): Dropout(p=0.1, inplace=False)\n",
       "            )\n",
       "          )\n",
       "          (intermediate): BertIntermediate(\n",
       "            (dense): Linear(in_features=768, out_features=3072, bias=True)\n",
       "          )\n",
       "          (output): BertOutput(\n",
       "            (dense): Linear(in_features=3072, out_features=768, bias=True)\n",
       "            (LayerNorm): LayerNorm((768,), eps=1e-12, elementwise_affine=True)\n",
       "            (dropout): Dropout(p=0.1, inplace=False)\n",
       "          )\n",
       "        )\n",
       "        (9): BertLayer(\n",
       "          (attention): BertAttention(\n",
       "            (self): BertSelfAttention(\n",
       "              (query): Linear(in_features=768, out_features=768, bias=True)\n",
       "              (key): Linear(in_features=768, out_features=768, bias=True)\n",
       "              (value): Linear(in_features=768, out_features=768, bias=True)\n",
       "              (dropout): Dropout(p=0.1, inplace=False)\n",
       "            )\n",
       "            (output): BertSelfOutput(\n",
       "              (dense): Linear(in_features=768, out_features=768, bias=True)\n",
       "              (LayerNorm): LayerNorm((768,), eps=1e-12, elementwise_affine=True)\n",
       "              (dropout): Dropout(p=0.1, inplace=False)\n",
       "            )\n",
       "          )\n",
       "          (intermediate): BertIntermediate(\n",
       "            (dense): Linear(in_features=768, out_features=3072, bias=True)\n",
       "          )\n",
       "          (output): BertOutput(\n",
       "            (dense): Linear(in_features=3072, out_features=768, bias=True)\n",
       "            (LayerNorm): LayerNorm((768,), eps=1e-12, elementwise_affine=True)\n",
       "            (dropout): Dropout(p=0.1, inplace=False)\n",
       "          )\n",
       "        )\n",
       "        (10): BertLayer(\n",
       "          (attention): BertAttention(\n",
       "            (self): BertSelfAttention(\n",
       "              (query): Linear(in_features=768, out_features=768, bias=True)\n",
       "              (key): Linear(in_features=768, out_features=768, bias=True)\n",
       "              (value): Linear(in_features=768, out_features=768, bias=True)\n",
       "              (dropout): Dropout(p=0.1, inplace=False)\n",
       "            )\n",
       "            (output): BertSelfOutput(\n",
       "              (dense): Linear(in_features=768, out_features=768, bias=True)\n",
       "              (LayerNorm): LayerNorm((768,), eps=1e-12, elementwise_affine=True)\n",
       "              (dropout): Dropout(p=0.1, inplace=False)\n",
       "            )\n",
       "          )\n",
       "          (intermediate): BertIntermediate(\n",
       "            (dense): Linear(in_features=768, out_features=3072, bias=True)\n",
       "          )\n",
       "          (output): BertOutput(\n",
       "            (dense): Linear(in_features=3072, out_features=768, bias=True)\n",
       "            (LayerNorm): LayerNorm((768,), eps=1e-12, elementwise_affine=True)\n",
       "            (dropout): Dropout(p=0.1, inplace=False)\n",
       "          )\n",
       "        )\n",
       "        (11): BertLayer(\n",
       "          (attention): BertAttention(\n",
       "            (self): BertSelfAttention(\n",
       "              (query): Linear(in_features=768, out_features=768, bias=True)\n",
       "              (key): Linear(in_features=768, out_features=768, bias=True)\n",
       "              (value): Linear(in_features=768, out_features=768, bias=True)\n",
       "              (dropout): Dropout(p=0.1, inplace=False)\n",
       "            )\n",
       "            (output): BertSelfOutput(\n",
       "              (dense): Linear(in_features=768, out_features=768, bias=True)\n",
       "              (LayerNorm): LayerNorm((768,), eps=1e-12, elementwise_affine=True)\n",
       "              (dropout): Dropout(p=0.1, inplace=False)\n",
       "            )\n",
       "          )\n",
       "          (intermediate): BertIntermediate(\n",
       "            (dense): Linear(in_features=768, out_features=3072, bias=True)\n",
       "          )\n",
       "          (output): BertOutput(\n",
       "            (dense): Linear(in_features=3072, out_features=768, bias=True)\n",
       "            (LayerNorm): LayerNorm((768,), eps=1e-12, elementwise_affine=True)\n",
       "            (dropout): Dropout(p=0.1, inplace=False)\n",
       "          )\n",
       "        )\n",
       "      )\n",
       "    )\n",
       "    (pooler): BertPooler(\n",
       "      (dense): Linear(in_features=768, out_features=768, bias=True)\n",
       "      (activation): Tanh()\n",
       "    )\n",
       "  )\n",
       "  (dropout): Dropout(p=0.1, inplace=False)\n",
       "  (classifier): Linear(in_features=768, out_features=3, bias=True)\n",
       ")"
      ]
     },
     "execution_count": 39,
     "metadata": {},
     "output_type": "execute_result"
    }
   ],
   "source": [
    "model"
   ]
  },
  {
   "cell_type": "markdown",
   "metadata": {
    "id": "Q171oChNSxns"
   },
   "source": [
    "Training arguments."
   ]
  },
  {
   "cell_type": "code",
   "execution_count": null,
   "metadata": {
    "colab": {
     "base_uri": "https://localhost:8080/"
    },
    "id": "TtxQtQdzVX1E",
    "outputId": "d7a39e12-9d60-4253-eb47-2b59f83b4f81"
   },
   "outputs": [
    {
     "name": "stderr",
     "output_type": "stream",
     "text": [
      "PyTorch: setting up devices\n",
      "The default value for the training argument `--report_to` will change in v5 (from all installed integrations to none). In v5, you will need to use `--report_to all` to get the same behavior as now. You should start updating your code and make this info disappear :-).\n"
     ]
    }
   ],
   "source": [
    "args = TrainingArguments(\n",
    "    f\"../finetune-medical-nli\",\n",
    "    evaluation_strategy = \"epoch\",\n",
    "    save_strategy = \"epoch\",\n",
    "    logging_strategy = \"epoch\", # log training loss\n",
    "    learning_rate=2e-5,\n",
    "    per_device_train_batch_size=batch_size,\n",
    "    per_device_eval_batch_size=batch_size,\n",
    "    num_train_epochs=10,\n",
    "    weight_decay=0.01,\n",
    "    load_best_model_at_end=True,\n",
    "    metric_for_best_model='accuracy',\n",
    ")"
   ]
  },
  {
   "cell_type": "markdown",
   "metadata": {
    "id": "IjKwZXOaS-YF"
   },
   "source": [
    "Function to compute accuracy of predictions."
   ]
  },
  {
   "cell_type": "code",
   "execution_count": null,
   "metadata": {
    "id": "si89_rtjVpRu"
   },
   "outputs": [],
   "source": [
    "import numpy as np\n",
    "def compute_metrics(eval_pred):\n",
    "    predictions, labels = eval_pred\n",
    "    predictions = np.argmax(predictions, axis=1)\n",
    "    return metric.compute(predictions=predictions, references=labels)"
   ]
  },
  {
   "cell_type": "markdown",
   "metadata": {
    "id": "wzJxXu9UTleX"
   },
   "source": [
    "Initialize bert trainer."
   ]
  },
  {
   "cell_type": "code",
   "execution_count": null,
   "metadata": {
    "id": "HAtpItkwVv-8"
   },
   "outputs": [],
   "source": [
    "trainer = Trainer(\n",
    "    model,\n",
    "    args,\n",
    "    train_dataset=encoded_dataset[\"train\"],\n",
    "    eval_dataset=encoded_dataset[\"dev\"],\n",
    "    tokenizer=tokenizer,\n",
    "    compute_metrics=compute_metrics\n",
    ")"
   ]
  },
  {
   "cell_type": "markdown",
   "metadata": {
    "id": "TH_pTxQETI5h"
   },
   "source": [
    "Train the model."
   ]
  },
  {
   "cell_type": "code",
   "execution_count": null,
   "metadata": {
    "colab": {
     "base_uri": "https://localhost:8080/",
     "height": 1000
    },
    "id": "Yx-2j0MbVzF1",
    "outputId": "7f8d711b-bb4e-4faa-de66-ff55d6126d86"
   },
   "outputs": [
    {
     "name": "stderr",
     "output_type": "stream",
     "text": [
      "The following columns in the training set  don't have a corresponding argument in `BertForSequenceClassification.forward` and have been ignored: gold_label, sentence2_binary_parse, sentence1, sentence1_parse, pairID, sentence1_binary_parse, sentence2_parse, sentence2.\n",
      "***** Running training *****\n",
      "  Num examples = 11232\n",
      "  Num Epochs = 10\n",
      "  Instantaneous batch size per device = 8\n",
      "  Total train batch size (w. parallel, distributed & accumulation) = 8\n",
      "  Gradient Accumulation steps = 1\n",
      "  Total optimization steps = 14040\n"
     ]
    },
    {
     "data": {
      "text/html": [
       "\n",
       "    <div>\n",
       "      \n",
       "      <progress value='14040' max='14040' style='width:300px; height:20px; vertical-align: middle;'></progress>\n",
       "      [14040/14040 1:06:22, Epoch 10/10]\n",
       "    </div>\n",
       "    <table border=\"1\" class=\"dataframe\">\n",
       "  <thead>\n",
       "    <tr style=\"text-align: left;\">\n",
       "      <th>Epoch</th>\n",
       "      <th>Training Loss</th>\n",
       "      <th>Validation Loss</th>\n",
       "      <th>Accuracy</th>\n",
       "    </tr>\n",
       "  </thead>\n",
       "  <tbody>\n",
       "    <tr>\n",
       "      <td>1</td>\n",
       "      <td>0.582500</td>\n",
       "      <td>0.432031</td>\n",
       "      <td>0.842294</td>\n",
       "    </tr>\n",
       "    <tr>\n",
       "      <td>2</td>\n",
       "      <td>0.382800</td>\n",
       "      <td>0.509577</td>\n",
       "      <td>0.837276</td>\n",
       "    </tr>\n",
       "    <tr>\n",
       "      <td>3</td>\n",
       "      <td>0.297000</td>\n",
       "      <td>0.648013</td>\n",
       "      <td>0.849462</td>\n",
       "    </tr>\n",
       "    <tr>\n",
       "      <td>4</td>\n",
       "      <td>0.222900</td>\n",
       "      <td>0.777256</td>\n",
       "      <td>0.855914</td>\n",
       "    </tr>\n",
       "    <tr>\n",
       "      <td>5</td>\n",
       "      <td>0.162300</td>\n",
       "      <td>0.841790</td>\n",
       "      <td>0.860215</td>\n",
       "    </tr>\n",
       "    <tr>\n",
       "      <td>6</td>\n",
       "      <td>0.104000</td>\n",
       "      <td>0.938593</td>\n",
       "      <td>0.860215</td>\n",
       "    </tr>\n",
       "    <tr>\n",
       "      <td>7</td>\n",
       "      <td>0.068300</td>\n",
       "      <td>1.013631</td>\n",
       "      <td>0.860215</td>\n",
       "    </tr>\n",
       "    <tr>\n",
       "      <td>8</td>\n",
       "      <td>0.044400</td>\n",
       "      <td>1.069693</td>\n",
       "      <td>0.864516</td>\n",
       "    </tr>\n",
       "    <tr>\n",
       "      <td>9</td>\n",
       "      <td>0.026400</td>\n",
       "      <td>1.118391</td>\n",
       "      <td>0.871685</td>\n",
       "    </tr>\n",
       "    <tr>\n",
       "      <td>10</td>\n",
       "      <td>0.022900</td>\n",
       "      <td>1.134652</td>\n",
       "      <td>0.870251</td>\n",
       "    </tr>\n",
       "  </tbody>\n",
       "</table><p>"
      ],
      "text/plain": [
       "<IPython.core.display.HTML object>"
      ]
     },
     "metadata": {},
     "output_type": "display_data"
    },
    {
     "name": "stderr",
     "output_type": "stream",
     "text": [
      "The following columns in the evaluation set  don't have a corresponding argument in `BertForSequenceClassification.forward` and have been ignored: gold_label, sentence2_binary_parse, sentence1, sentence1_parse, pairID, sentence1_binary_parse, sentence2_parse, sentence2.\n",
      "***** Running Evaluation *****\n",
      "  Num examples = 1395\n",
      "  Batch size = 8\n",
      "Saving model checkpoint to ../finetune-medical-nli/checkpoint-1404\n",
      "Configuration saved in ../finetune-medical-nli/checkpoint-1404/config.json\n",
      "Model weights saved in ../finetune-medical-nli/checkpoint-1404/pytorch_model.bin\n",
      "tokenizer config file saved in ../finetune-medical-nli/checkpoint-1404/tokenizer_config.json\n",
      "Special tokens file saved in ../finetune-medical-nli/checkpoint-1404/special_tokens_map.json\n",
      "The following columns in the evaluation set  don't have a corresponding argument in `BertForSequenceClassification.forward` and have been ignored: gold_label, sentence2_binary_parse, sentence1, sentence1_parse, pairID, sentence1_binary_parse, sentence2_parse, sentence2.\n",
      "***** Running Evaluation *****\n",
      "  Num examples = 1395\n",
      "  Batch size = 8\n",
      "Saving model checkpoint to ../finetune-medical-nli/checkpoint-2808\n",
      "Configuration saved in ../finetune-medical-nli/checkpoint-2808/config.json\n",
      "Model weights saved in ../finetune-medical-nli/checkpoint-2808/pytorch_model.bin\n",
      "tokenizer config file saved in ../finetune-medical-nli/checkpoint-2808/tokenizer_config.json\n",
      "Special tokens file saved in ../finetune-medical-nli/checkpoint-2808/special_tokens_map.json\n",
      "The following columns in the evaluation set  don't have a corresponding argument in `BertForSequenceClassification.forward` and have been ignored: gold_label, sentence2_binary_parse, sentence1, sentence1_parse, pairID, sentence1_binary_parse, sentence2_parse, sentence2.\n",
      "***** Running Evaluation *****\n",
      "  Num examples = 1395\n",
      "  Batch size = 8\n",
      "Saving model checkpoint to ../finetune-medical-nli/checkpoint-4212\n",
      "Configuration saved in ../finetune-medical-nli/checkpoint-4212/config.json\n",
      "Model weights saved in ../finetune-medical-nli/checkpoint-4212/pytorch_model.bin\n",
      "tokenizer config file saved in ../finetune-medical-nli/checkpoint-4212/tokenizer_config.json\n",
      "Special tokens file saved in ../finetune-medical-nli/checkpoint-4212/special_tokens_map.json\n",
      "The following columns in the evaluation set  don't have a corresponding argument in `BertForSequenceClassification.forward` and have been ignored: gold_label, sentence2_binary_parse, sentence1, sentence1_parse, pairID, sentence1_binary_parse, sentence2_parse, sentence2.\n",
      "***** Running Evaluation *****\n",
      "  Num examples = 1395\n",
      "  Batch size = 8\n",
      "Saving model checkpoint to ../finetune-medical-nli/checkpoint-5616\n",
      "Configuration saved in ../finetune-medical-nli/checkpoint-5616/config.json\n",
      "Model weights saved in ../finetune-medical-nli/checkpoint-5616/pytorch_model.bin\n",
      "tokenizer config file saved in ../finetune-medical-nli/checkpoint-5616/tokenizer_config.json\n",
      "Special tokens file saved in ../finetune-medical-nli/checkpoint-5616/special_tokens_map.json\n",
      "The following columns in the evaluation set  don't have a corresponding argument in `BertForSequenceClassification.forward` and have been ignored: gold_label, sentence2_binary_parse, sentence1, sentence1_parse, pairID, sentence1_binary_parse, sentence2_parse, sentence2.\n",
      "***** Running Evaluation *****\n",
      "  Num examples = 1395\n",
      "  Batch size = 8\n",
      "Saving model checkpoint to ../finetune-medical-nli/checkpoint-7020\n",
      "Configuration saved in ../finetune-medical-nli/checkpoint-7020/config.json\n",
      "Model weights saved in ../finetune-medical-nli/checkpoint-7020/pytorch_model.bin\n",
      "tokenizer config file saved in ../finetune-medical-nli/checkpoint-7020/tokenizer_config.json\n",
      "Special tokens file saved in ../finetune-medical-nli/checkpoint-7020/special_tokens_map.json\n",
      "The following columns in the evaluation set  don't have a corresponding argument in `BertForSequenceClassification.forward` and have been ignored: gold_label, sentence2_binary_parse, sentence1, sentence1_parse, pairID, sentence1_binary_parse, sentence2_parse, sentence2.\n",
      "***** Running Evaluation *****\n",
      "  Num examples = 1395\n",
      "  Batch size = 8\n",
      "Saving model checkpoint to ../finetune-medical-nli/checkpoint-8424\n",
      "Configuration saved in ../finetune-medical-nli/checkpoint-8424/config.json\n",
      "Model weights saved in ../finetune-medical-nli/checkpoint-8424/pytorch_model.bin\n",
      "tokenizer config file saved in ../finetune-medical-nli/checkpoint-8424/tokenizer_config.json\n",
      "Special tokens file saved in ../finetune-medical-nli/checkpoint-8424/special_tokens_map.json\n",
      "The following columns in the evaluation set  don't have a corresponding argument in `BertForSequenceClassification.forward` and have been ignored: gold_label, sentence2_binary_parse, sentence1, sentence1_parse, pairID, sentence1_binary_parse, sentence2_parse, sentence2.\n",
      "***** Running Evaluation *****\n",
      "  Num examples = 1395\n",
      "  Batch size = 8\n",
      "Saving model checkpoint to ../finetune-medical-nli/checkpoint-9828\n",
      "Configuration saved in ../finetune-medical-nli/checkpoint-9828/config.json\n",
      "Model weights saved in ../finetune-medical-nli/checkpoint-9828/pytorch_model.bin\n",
      "tokenizer config file saved in ../finetune-medical-nli/checkpoint-9828/tokenizer_config.json\n",
      "Special tokens file saved in ../finetune-medical-nli/checkpoint-9828/special_tokens_map.json\n",
      "The following columns in the evaluation set  don't have a corresponding argument in `BertForSequenceClassification.forward` and have been ignored: gold_label, sentence2_binary_parse, sentence1, sentence1_parse, pairID, sentence1_binary_parse, sentence2_parse, sentence2.\n",
      "***** Running Evaluation *****\n",
      "  Num examples = 1395\n",
      "  Batch size = 8\n",
      "Saving model checkpoint to ../finetune-medical-nli/checkpoint-11232\n",
      "Configuration saved in ../finetune-medical-nli/checkpoint-11232/config.json\n",
      "Model weights saved in ../finetune-medical-nli/checkpoint-11232/pytorch_model.bin\n",
      "tokenizer config file saved in ../finetune-medical-nli/checkpoint-11232/tokenizer_config.json\n",
      "Special tokens file saved in ../finetune-medical-nli/checkpoint-11232/special_tokens_map.json\n",
      "The following columns in the evaluation set  don't have a corresponding argument in `BertForSequenceClassification.forward` and have been ignored: gold_label, sentence2_binary_parse, sentence1, sentence1_parse, pairID, sentence1_binary_parse, sentence2_parse, sentence2.\n",
      "***** Running Evaluation *****\n",
      "  Num examples = 1395\n",
      "  Batch size = 8\n",
      "Saving model checkpoint to ../finetune-medical-nli/checkpoint-12636\n",
      "Configuration saved in ../finetune-medical-nli/checkpoint-12636/config.json\n",
      "Model weights saved in ../finetune-medical-nli/checkpoint-12636/pytorch_model.bin\n",
      "tokenizer config file saved in ../finetune-medical-nli/checkpoint-12636/tokenizer_config.json\n",
      "Special tokens file saved in ../finetune-medical-nli/checkpoint-12636/special_tokens_map.json\n",
      "The following columns in the evaluation set  don't have a corresponding argument in `BertForSequenceClassification.forward` and have been ignored: gold_label, sentence2_binary_parse, sentence1, sentence1_parse, pairID, sentence1_binary_parse, sentence2_parse, sentence2.\n",
      "***** Running Evaluation *****\n",
      "  Num examples = 1395\n",
      "  Batch size = 8\n",
      "Saving model checkpoint to ../finetune-medical-nli/checkpoint-14040\n",
      "Configuration saved in ../finetune-medical-nli/checkpoint-14040/config.json\n",
      "Model weights saved in ../finetune-medical-nli/checkpoint-14040/pytorch_model.bin\n",
      "tokenizer config file saved in ../finetune-medical-nli/checkpoint-14040/tokenizer_config.json\n",
      "Special tokens file saved in ../finetune-medical-nli/checkpoint-14040/special_tokens_map.json\n",
      "\n",
      "\n",
      "Training completed. Do not forget to share your model on huggingface.co/models =)\n",
      "\n",
      "\n",
      "Loading best model from ../finetune-medical-nli/checkpoint-12636 (score: 0.8716845878136201).\n"
     ]
    },
    {
     "data": {
      "text/plain": [
       "TrainOutput(global_step=14040, training_loss=0.19136185306429523, metrics={'train_runtime': 3983.2319, 'train_samples_per_second': 28.198, 'train_steps_per_second': 3.525, 'total_flos': 3679690480691904.0, 'train_loss': 0.19136185306429523, 'epoch': 10.0})"
      ]
     },
     "execution_count": 50,
     "metadata": {},
     "output_type": "execute_result"
    }
   ],
   "source": [
    "trainer.train()"
   ]
  },
  {
   "cell_type": "markdown",
   "metadata": {
    "id": "bhyMo2DiTKMv"
   },
   "source": [
    "Check model performance on the dev set."
   ]
  },
  {
   "cell_type": "code",
   "execution_count": null,
   "metadata": {
    "id": "vlLCC0vUTHQt"
   },
   "outputs": [],
   "source": [
    "trainer.evaluate()"
   ]
  },
  {
   "cell_type": "markdown",
   "metadata": {
    "id": "kBge5-eF67O-"
   },
   "source": [
    "Since model configurations are saved at the end of each epoch, we can load any pretrained model to do evaluation and predictions. Note the checkpoint of your model choice."
   ]
  },
  {
   "cell_type": "markdown",
   "metadata": {
    "id": "jjpvgpEA8nVV"
   },
   "source": [
    "Performance on test set: <br>\n",
    "Epoch 8  model: 0.8411 <br>\n",
    "Epoch 9  model: 0.8404 <br>"
   ]
  },
  {
   "cell_type": "code",
   "execution_count": null,
   "metadata": {
    "id": "-uqjYtrw6yRN"
   },
   "outputs": [],
   "source": [
    "model_checkpoint = '../finetune-medical-nli/checkpoint-11232' # epoch 8\n",
    "#model_checkpoint = '../finetune-medical-nli/checkpoint-12636' # epoch 9"
   ]
  },
  {
   "cell_type": "code",
   "execution_count": null,
   "metadata": {
    "colab": {
     "base_uri": "https://localhost:8080/"
    },
    "id": "ftp9cXvv8Ia_",
    "outputId": "965492ed-308f-452c-e61e-860ac671fa04"
   },
   "outputs": [
    {
     "name": "stderr",
     "output_type": "stream",
     "text": [
      "loading configuration file ../finetune-medical-nli/checkpoint-11232/config.json\n",
      "Model config BertConfig {\n",
      "  \"_name_or_path\": \"microsoft/BiomedNLP-PubMedBERT-base-uncased-abstract-fulltext\",\n",
      "  \"architectures\": [\n",
      "    \"BertForSequenceClassification\"\n",
      "  ],\n",
      "  \"attention_probs_dropout_prob\": 0.1,\n",
      "  \"classifier_dropout\": null,\n",
      "  \"hidden_act\": \"gelu\",\n",
      "  \"hidden_dropout_prob\": 0.1,\n",
      "  \"hidden_size\": 768,\n",
      "  \"id2label\": {\n",
      "    \"0\": \"LABEL_0\",\n",
      "    \"1\": \"LABEL_1\",\n",
      "    \"2\": \"LABEL_2\"\n",
      "  },\n",
      "  \"initializer_range\": 0.02,\n",
      "  \"intermediate_size\": 3072,\n",
      "  \"label2id\": {\n",
      "    \"LABEL_0\": 0,\n",
      "    \"LABEL_1\": 1,\n",
      "    \"LABEL_2\": 2\n",
      "  },\n",
      "  \"layer_norm_eps\": 1e-12,\n",
      "  \"max_position_embeddings\": 512,\n",
      "  \"model_type\": \"bert\",\n",
      "  \"num_attention_heads\": 12,\n",
      "  \"num_hidden_layers\": 12,\n",
      "  \"pad_token_id\": 0,\n",
      "  \"position_embedding_type\": \"absolute\",\n",
      "  \"problem_type\": \"single_label_classification\",\n",
      "  \"torch_dtype\": \"float32\",\n",
      "  \"transformers_version\": \"4.12.3\",\n",
      "  \"type_vocab_size\": 2,\n",
      "  \"use_cache\": true,\n",
      "  \"vocab_size\": 30522\n",
      "}\n",
      "\n",
      "loading weights file ../finetune-medical-nli/checkpoint-11232/pytorch_model.bin\n",
      "All model checkpoint weights were used when initializing BertForSequenceClassification.\n",
      "\n",
      "All the weights of BertForSequenceClassification were initialized from the model checkpoint at ../finetune-medical-nli/checkpoint-11232.\n",
      "If your task is similar to the task the model of the checkpoint was trained on, you can already use BertForSequenceClassification for predictions without further training.\n",
      "Didn't find file ../finetune-medical-nli/checkpoint-11232/added_tokens.json. We won't load it.\n",
      "loading file ../finetune-medical-nli/checkpoint-11232/vocab.txt\n",
      "loading file ../finetune-medical-nli/checkpoint-11232/tokenizer.json\n",
      "loading file None\n",
      "loading file ../finetune-medical-nli/checkpoint-11232/special_tokens_map.json\n",
      "loading file ../finetune-medical-nli/checkpoint-11232/tokenizer_config.json\n"
     ]
    }
   ],
   "source": [
    "num_labels = 3\n",
    "model = AutoModelForSequenceClassification.from_pretrained(model_checkpoint, num_labels=num_labels)\n",
    "tokenizer = AutoTokenizer.from_pretrained(model_checkpoint)"
   ]
  },
  {
   "cell_type": "code",
   "execution_count": null,
   "metadata": {
    "colab": {
     "base_uri": "https://localhost:8080/"
    },
    "id": "s5kEyRCd8VzO",
    "outputId": "1977ae2b-2fa6-47d2-e3f7-dad299cd505a"
   },
   "outputs": [
    {
     "name": "stderr",
     "output_type": "stream",
     "text": [
      "PyTorch: setting up devices\n",
      "The default value for the training argument `--report_to` will change in v5 (from all installed integrations to none). In v5, you will need to use `--report_to all` to get the same behavior as now. You should start updating your code and make this info disappear :-).\n"
     ]
    }
   ],
   "source": [
    "batch_size = 8\n",
    "args = TrainingArguments(\n",
    "    f\"../finetune-medical-nli\",\n",
    "    evaluation_strategy = \"epoch\",\n",
    "    save_strategy = \"epoch\",\n",
    "    logging_strategy = \"epoch\", # log training loss\n",
    "    learning_rate=2e-5,\n",
    "    per_device_train_batch_size=batch_size,\n",
    "    per_device_eval_batch_size=batch_size,\n",
    "    num_train_epochs=10,\n",
    "    weight_decay=0.01,\n",
    "    load_best_model_at_end=True,\n",
    "    metric_for_best_model='accuracy',\n",
    ")"
   ]
  },
  {
   "cell_type": "code",
   "execution_count": null,
   "metadata": {
    "id": "-BTYSni-8W1M"
   },
   "outputs": [],
   "source": [
    "trainer = Trainer(\n",
    "    model,\n",
    "    args,\n",
    "    train_dataset=encoded_dataset[\"train\"],\n",
    "    eval_dataset=encoded_dataset[\"dev\"],\n",
    "    tokenizer=tokenizer,\n",
    "    compute_metrics=compute_metrics\n",
    ")"
   ]
  },
  {
   "cell_type": "code",
   "execution_count": null,
   "metadata": {
    "colab": {
     "base_uri": "https://localhost:8080/",
     "height": 122
    },
    "id": "PE7xmY029Wbn",
    "outputId": "7021f8e1-c4f0-4bc2-8e20-025d369b1cfe"
   },
   "outputs": [
    {
     "name": "stderr",
     "output_type": "stream",
     "text": [
      "The following columns in the evaluation set  don't have a corresponding argument in `BertForSequenceClassification.forward` and have been ignored: sentence2_parse, gold_label, sentence2, sentence2_binary_parse, sentence1_binary_parse, pairID, sentence1, sentence1_parse.\n",
      "***** Running Evaluation *****\n",
      "  Num examples = 1422\n",
      "  Batch size = 8\n"
     ]
    },
    {
     "data": {
      "text/html": [
       "\n",
       "    <div>\n",
       "      \n",
       "      <progress value='178' max='178' style='width:300px; height:20px; vertical-align: middle;'></progress>\n",
       "      [178/178 00:11]\n",
       "    </div>\n",
       "    "
      ],
      "text/plain": [
       "<IPython.core.display.HTML object>"
      ]
     },
     "metadata": {},
     "output_type": "display_data"
    }
   ],
   "source": [
    "test_predictions = trainer.evaluate(encoded_dataset['test'])"
   ]
  },
  {
   "cell_type": "code",
   "execution_count": null,
   "metadata": {
    "colab": {
     "base_uri": "https://localhost:8080/"
    },
    "id": "V7bf4s4r9hHO",
    "outputId": "9c1051c4-ec3d-4e93-8152-cb24fc6d057b"
   },
   "outputs": [
    {
     "data": {
      "text/plain": [
       "{'eval_accuracy': 0.8410689170182841,\n",
       " 'eval_loss': 1.3067668676376343,\n",
       " 'eval_runtime': 11.3992,\n",
       " 'eval_samples_per_second': 124.745,\n",
       " 'eval_steps_per_second': 15.615}"
      ]
     },
     "execution_count": 59,
     "metadata": {},
     "output_type": "execute_result"
    }
   ],
   "source": [
    "test_predictions"
   ]
  },
  {
   "cell_type": "markdown",
   "metadata": {
    "id": "i-oz2ElT_24n"
   },
   "source": [
    "Let's inspect the predictions of some test samples."
   ]
  },
  {
   "cell_type": "code",
   "execution_count": null,
   "metadata": {
    "colab": {
     "base_uri": "https://localhost:8080/",
     "height": 122
    },
    "id": "BcgNTmgDBzXL",
    "outputId": "1e16761f-0768-4ff1-8209-221c1b2b9fba"
   },
   "outputs": [
    {
     "name": "stderr",
     "output_type": "stream",
     "text": [
      "The following columns in the test set  don't have a corresponding argument in `BertForSequenceClassification.forward` and have been ignored: sentence2_parse, gold_label, sentence2, sentence2_binary_parse, sentence1_binary_parse, pairID, sentence1, sentence1_parse.\n",
      "***** Running Prediction *****\n",
      "  Num examples = 1422\n",
      "  Batch size = 8\n"
     ]
    },
    {
     "data": {
      "text/html": [
       "\n",
       "    <div>\n",
       "      \n",
       "      <progress value='407' max='178' style='width:300px; height:20px; vertical-align: middle;'></progress>\n",
       "      [178/178 12:50]\n",
       "    </div>\n",
       "    "
      ],
      "text/plain": [
       "<IPython.core.display.HTML object>"
      ]
     },
     "metadata": {},
     "output_type": "display_data"
    }
   ],
   "source": [
    "predictions = trainer.predict(encoded_dataset['test'])"
   ]
  },
  {
   "cell_type": "code",
   "execution_count": null,
   "metadata": {
    "id": "tqJr7b8RB8B3"
   },
   "outputs": [],
   "source": [
    "import numpy as np\n",
    "id_to_label = {0: 'entailment', 1: 'contradiction', 2: 'neutral'}\n",
    "def show_prediction(dataset, predictions, index):\n",
    "  show_one(dataset['test'][index])\n",
    "  prediction = np.argmax(predictions[0][index]) \n",
    "  print(f\"Predicted: {id_to_label[prediction]}\")"
   ]
  },
  {
   "cell_type": "code",
   "execution_count": null,
   "metadata": {
    "colab": {
     "base_uri": "https://localhost:8080/"
    },
    "id": "Oa7VrLdeCEi5",
    "outputId": "5997f5b0-c2ad-44fb-9d90-0abd25cd4e49"
   },
   "outputs": [
    {
     "name": "stdout",
     "output_type": "stream",
     "text": [
      "Sentence 1: In the ED, initial VS revealed T 98.9, HR 73, BP 121/90, RR 15, O2 sat 98% on RA.\n",
      "Sentence 2:  The patient is hemodynamically stable \n",
      "Ground truth: entailment\n",
      "Predicted: entailment\n"
     ]
    }
   ],
   "source": [
    "index = 0\n",
    "show_prediction(dataset, predictions, index)"
   ]
  },
  {
   "cell_type": "markdown",
   "metadata": {
    "id": "uqi78a1svird"
   },
   "source": [
    "# Evaluating on MedNLI"
   ]
  },
  {
   "cell_type": "markdown",
   "metadata": {
    "id": "6VUdlE4dUObk"
   },
   "source": [
    "Go into MedNLI directory."
   ]
  },
  {
   "cell_type": "code",
   "execution_count": null,
   "metadata": {
    "colab": {
     "base_uri": "https://localhost:8080/"
    },
    "id": "b4j24aTPUH8r",
    "outputId": "ee33d9ef-7ddd-4271-ce75-7ed478b1dcc1"
   },
   "outputs": [
    {
     "name": "stdout",
     "output_type": "stream",
     "text": [
      "/content/drive/My Drive\n"
     ]
    }
   ],
   "source": [
    "%cd .."
   ]
  },
  {
   "cell_type": "code",
   "execution_count": null,
   "metadata": {
    "colab": {
     "base_uri": "https://localhost:8080/"
    },
    "id": "mb1WGdfFUIuI",
    "outputId": "e95103cd-dd0c-4723-826f-42dcaa10c8ea"
   },
   "outputs": [
    {
     "name": "stdout",
     "output_type": "stream",
     "text": [
      "/content/drive/My Drive/mednli-for-shared-task-at-acl-bionlp-2019\n"
     ]
    }
   ],
   "source": [
    "%cd mednli-for-shared-task-at-acl-bionlp-2019/"
   ]
  },
  {
   "cell_type": "markdown",
   "metadata": {
    "id": "zBhBYx1OUTVY"
   },
   "source": [
    "The directory should contain test set sentences in mednli_bionlp19_shared_task.jsonl and the correct labels in mednli_bionlp19_shared_task_ground_truth.csv \n",
    "\n",
    "\n"
   ]
  },
  {
   "cell_type": "code",
   "execution_count": null,
   "metadata": {
    "colab": {
     "base_uri": "https://localhost:8080/"
    },
    "id": "VbpAksTDUL9E",
    "outputId": "717c2901-2ecb-4d51-e001-6d5a101b7438"
   },
   "outputs": [
    {
     "name": "stdout",
     "output_type": "stream",
     "text": [
      "finetune-medical-nli\t\t\t      mednli_bionlp19_shared_task.jsonl\n",
      "LICENSE.txt\t\t\t\t      README.txt\n",
      "mednli_bionlp19_shared_task_ground_truth.csv  SHA256SUMS.txt\n"
     ]
    }
   ],
   "source": [
    "!ls"
   ]
  },
  {
   "cell_type": "markdown",
   "metadata": {
    "id": "e_mNxA2LUkCo"
   },
   "source": [
    "Load MedNLI data."
   ]
  },
  {
   "cell_type": "code",
   "execution_count": null,
   "metadata": {
    "id": "3AwsdmJQVaiq"
   },
   "outputs": [],
   "source": [
    "mediqa_file = 'mednli_bionlp19_shared_task.jsonl'\n",
    "mediqa_label_file = 'mednli_bionlp19_shared_task_ground_truth.csv'"
   ]
  },
  {
   "cell_type": "markdown",
   "metadata": {
    "id": "-HD7aXYIWi8p"
   },
   "source": [
    "Load mednli_file and labels manually. Cannot load using load_dataset('json', mednli)"
   ]
  },
  {
   "cell_type": "markdown",
   "metadata": {
    "id": "h8okG-KpXum7"
   },
   "source": [
    "Load data first."
   ]
  },
  {
   "cell_type": "code",
   "execution_count": null,
   "metadata": {
    "id": "S4-Cw0tbWICm"
   },
   "outputs": [],
   "source": [
    "import json\n",
    "data = []\n",
    "with open(mediqa_file) as f:\n",
    "  for line in f:\n",
    "    data.append(json.loads(line))"
   ]
  },
  {
   "cell_type": "code",
   "execution_count": null,
   "metadata": {
    "colab": {
     "base_uri": "https://localhost:8080/"
    },
    "id": "qpEGMsqGYtnA",
    "outputId": "9f8a5141-3004-4658-c3e6-e99aaac549de"
   },
   "outputs": [
    {
     "data": {
      "text/plain": [
       "{'gold_label': '',\n",
       " 'pairID': 'mediqa-6784509e-5ca1-11e9-8844-f45c89b91419',\n",
       " 'sentence1': 'She arrived with her friend, very lethargic.',\n",
       " 'sentence1_binary_parse': '( She ( ( ( ( arrived ( with ( her friend ) ) ) , ) ( very lethargic ) ) . ) )',\n",
       " 'sentence1_parse': '(ROOT (S (NP (PRP She)) (VP (VBD arrived) (PP (IN with) (NP (PRP$ her) (NN friend))) (, ,) (ADJP (RB very) (JJ lethargic))) (. .)))',\n",
       " 'sentence2': ' she  appeared unenergetic',\n",
       " 'sentence2_binary_parse': '( she ( appeared unenergetic ) )',\n",
       " 'sentence2_parse': '(ROOT (S (NP (PRP she)) (VP (VBD appeared) (ADJP (JJ unenergetic)))))'}"
      ]
     },
     "execution_count": 108,
     "metadata": {},
     "output_type": "execute_result"
    }
   ],
   "source": [
    "data[0]"
   ]
  },
  {
   "cell_type": "code",
   "execution_count": null,
   "metadata": {
    "id": "FlGIqLdMXxTw"
   },
   "outputs": [],
   "source": [
    "import pandas as pd\n",
    "label_df = pd.read_csv(mediqa_label_file)\n",
    "# set pair_id as index\n",
    "label_df = label_df.set_index('pair_id')\n",
    "# create a dictionary of (id, label) pairs\n",
    "label_dic = label_df.to_dict()"
   ]
  },
  {
   "cell_type": "code",
   "execution_count": null,
   "metadata": {
    "colab": {
     "base_uri": "https://localhost:8080/"
    },
    "id": "lOn1QCGhbGKs",
    "outputId": "39273c35-2f74-4177-af03-387b0ec0372f"
   },
   "outputs": [
    {
     "data": {
      "text/plain": [
       "{'mediqa-6784509e-5ca1-11e9-8844-f45c89b91419': 'entailment',\n",
       " 'mediqa-678582f4-5ca1-11e9-af66-f45c89b91419': 'contradiction',\n",
       " 'mediqa-67858838-5ca1-11e9-ad79-f45c89b91419': 'neutral',\n",
       " 'mediqa-67858ba8-5ca1-11e9-8a1f-f45c89b91419': 'entailment',\n",
       " 'mediqa-67858f54-5ca1-11e9-baa4-f45c89b91419': 'contradiction',\n",
       " 'mediqa-678594ae-5ca1-11e9-a95d-f45c89b91419': 'neutral',\n",
       " 'mediqa-67859800-5ca1-11e9-a86a-f45c89b91419': 'entailment',\n",
       " 'mediqa-67859a76-5ca1-11e9-8140-f45c89b91419': 'contradiction',\n",
       " 'mediqa-67859d08-5ca1-11e9-b1d5-f45c89b91419': 'neutral',\n",
       " 'mediqa-67859f94-5ca1-11e9-9963-f45c89b91419': 'entailment',\n",
       " 'mediqa-6785a1e4-5ca1-11e9-adbf-f45c89b91419': 'contradiction',\n",
       " 'mediqa-6785a82c-5ca1-11e9-bc81-f45c89b91419': 'neutral',\n",
       " 'mediqa-6785ab58-5ca1-11e9-9698-f45c89b91419': 'entailment',\n",
       " 'mediqa-6785e9a6-5ca1-11e9-9365-f45c89b91419': 'contradiction',\n",
       " 'mediqa-6785f298-5ca1-11e9-a800-f45c89b91419': 'neutral',\n",
       " 'mediqa-6785f642-5ca1-11e9-9dd3-f45c89b91419': 'entailment',\n",
       " 'mediqa-6785f8de-5ca1-11e9-a8c2-f45c89b91419': 'contradiction',\n",
       " 'mediqa-6785fbd0-5ca1-11e9-940d-f45c89b91419': 'neutral',\n",
       " 'mediqa-6785ff1e-5ca1-11e9-a0da-f45c89b91419': 'entailment',\n",
       " 'mediqa-67860508-5ca1-11e9-b659-f45c89b91419': 'contradiction',\n",
       " 'mediqa-67860998-5ca1-11e9-8455-f45c89b91419': 'neutral',\n",
       " 'mediqa-67861050-5ca1-11e9-90cb-f45c89b91419': 'entailment',\n",
       " 'mediqa-67861302-5ca1-11e9-85cb-f45c89b91419': 'contradiction',\n",
       " 'mediqa-67861594-5ca1-11e9-a9b5-f45c89b91419': 'neutral',\n",
       " 'mediqa-678617ee-5ca1-11e9-bde4-f45c89b91419': 'entailment',\n",
       " 'mediqa-67861a6e-5ca1-11e9-8a26-f45c89b91419': 'contradiction',\n",
       " 'mediqa-67861c9e-5ca1-11e9-a923-f45c89b91419': 'neutral',\n",
       " 'mediqa-67861ed8-5ca1-11e9-9d55-f45c89b91419': 'entailment',\n",
       " 'mediqa-678622de-5ca1-11e9-b610-f45c89b91419': 'contradiction',\n",
       " 'mediqa-6786255e-5ca1-11e9-a601-f45c89b91419': 'neutral',\n",
       " 'mediqa-6786289c-5ca1-11e9-abbf-f45c89b91419': 'entailment',\n",
       " 'mediqa-67862b80-5ca1-11e9-8147-f45c89b91419': 'contradiction',\n",
       " 'mediqa-67863208-5ca1-11e9-a515-f45c89b91419': 'neutral',\n",
       " 'mediqa-678635e4-5ca1-11e9-9322-f45c89b91419': 'entailment',\n",
       " 'mediqa-678638d2-5ca1-11e9-8d91-f45c89b91419': 'contradiction',\n",
       " 'mediqa-67863b98-5ca1-11e9-a775-f45c89b91419': 'neutral',\n",
       " 'mediqa-67863e02-5ca1-11e9-9957-f45c89b91419': 'entailment',\n",
       " 'mediqa-678643d4-5ca1-11e9-8f33-f45c89b91419': 'contradiction',\n",
       " 'mediqa-67864714-5ca1-11e9-b267-f45c89b91419': 'neutral',\n",
       " 'mediqa-67864ae6-5ca1-11e9-94c9-f45c89b91419': 'entailment',\n",
       " 'mediqa-67864fde-5ca1-11e9-9883-f45c89b91419': 'contradiction',\n",
       " 'mediqa-678654ac-5ca1-11e9-8a25-f45c89b91419': 'neutral',\n",
       " 'mediqa-6786591e-5ca1-11e9-a45a-f45c89b91419': 'entailment',\n",
       " 'mediqa-67865cd8-5ca1-11e9-8538-f45c89b91419': 'contradiction',\n",
       " 'mediqa-67865fb0-5ca1-11e9-8338-f45c89b91419': 'neutral',\n",
       " 'mediqa-678661ec-5ca1-11e9-bd02-f45c89b91419': 'entailment',\n",
       " 'mediqa-6786649c-5ca1-11e9-8d84-f45c89b91419': 'contradiction',\n",
       " 'mediqa-6786671c-5ca1-11e9-9e3a-f45c89b91419': 'neutral',\n",
       " 'mediqa-67866c94-5ca1-11e9-bf12-f45c89b91419': 'entailment',\n",
       " 'mediqa-67867498-5ca1-11e9-a763-f45c89b91419': 'contradiction',\n",
       " 'mediqa-67867770-5ca1-11e9-bcc3-f45c89b91419': 'neutral',\n",
       " 'mediqa-67867b08-5ca1-11e9-b4d7-f45c89b91419': 'entailment',\n",
       " 'mediqa-67867d7e-5ca1-11e9-a37d-f45c89b91419': 'contradiction',\n",
       " 'mediqa-67868050-5ca1-11e9-85ab-f45c89b91419': 'neutral',\n",
       " 'mediqa-6786831e-5ca1-11e9-b541-f45c89b91419': 'entailment',\n",
       " 'mediqa-6786851c-5ca1-11e9-9ac3-f45c89b91419': 'contradiction',\n",
       " 'mediqa-67868742-5ca1-11e9-acd7-f45c89b91419': 'neutral',\n",
       " 'mediqa-67868b66-5ca1-11e9-ad1e-f45c89b91419': 'entailment',\n",
       " 'mediqa-67868da8-5ca1-11e9-89ea-f45c89b91419': 'contradiction',\n",
       " 'mediqa-67868fc6-5ca1-11e9-a8bd-f45c89b91419': 'neutral',\n",
       " 'mediqa-678691ba-5ca1-11e9-8970-f45c89b91419': 'entailment',\n",
       " 'mediqa-678693b8-5ca1-11e9-b500-f45c89b91419': 'contradiction',\n",
       " 'mediqa-6786987a-5ca1-11e9-ac3d-f45c89b91419': 'neutral',\n",
       " 'mediqa-67869bd0-5ca1-11e9-9cca-f45c89b91419': 'entailment',\n",
       " 'mediqa-67869e24-5ca1-11e9-93fe-f45c89b91419': 'contradiction',\n",
       " 'mediqa-6786a054-5ca1-11e9-bc1b-f45c89b91419': 'neutral',\n",
       " 'mediqa-6786a290-5ca1-11e9-a4b6-f45c89b91419': 'entailment',\n",
       " 'mediqa-6786a65a-5ca1-11e9-a722-f45c89b91419': 'contradiction',\n",
       " 'mediqa-6786a952-5ca1-11e9-9335-f45c89b91419': 'neutral',\n",
       " 'mediqa-6786ab8c-5ca1-11e9-a079-f45c89b91419': 'entailment',\n",
       " 'mediqa-6786ad9c-5ca1-11e9-9e3a-f45c89b91419': 'contradiction',\n",
       " 'mediqa-6786afa4-5ca1-11e9-9e9d-f45c89b91419': 'neutral',\n",
       " 'mediqa-6786b1ae-5ca1-11e9-a6ff-f45c89b91419': 'entailment',\n",
       " 'mediqa-6786b49c-5ca1-11e9-b3ec-f45c89b91419': 'contradiction',\n",
       " 'mediqa-6786b6c2-5ca1-11e9-89eb-f45c89b91419': 'neutral',\n",
       " 'mediqa-6786b8c0-5ca1-11e9-8133-f45c89b91419': 'entailment',\n",
       " 'mediqa-6786bc4c-5ca1-11e9-ac38-f45c89b91419': 'contradiction',\n",
       " 'mediqa-6786be92-5ca1-11e9-94cd-f45c89b91419': 'neutral',\n",
       " 'mediqa-6786c0cc-5ca1-11e9-8313-f45c89b91419': 'entailment',\n",
       " 'mediqa-6786c308-5ca1-11e9-b79b-f45c89b91419': 'contradiction',\n",
       " 'mediqa-6786c540-5ca1-11e9-9ec4-f45c89b91419': 'neutral',\n",
       " 'mediqa-6786c748-5ca1-11e9-a631-f45c89b91419': 'entailment',\n",
       " 'mediqa-6786c994-5ca1-11e9-a681-f45c89b91419': 'contradiction',\n",
       " 'mediqa-6786cb9e-5ca1-11e9-a0f2-f45c89b91419': 'neutral',\n",
       " 'mediqa-6786ceac-5ca1-11e9-a2ee-f45c89b91419': 'entailment',\n",
       " 'mediqa-6786d25e-5ca1-11e9-b7b9-f45c89b91419': 'contradiction',\n",
       " 'mediqa-6786d4a4-5ca1-11e9-b392-f45c89b91419': 'neutral',\n",
       " 'mediqa-6786d970-5ca1-11e9-81dd-f45c89b91419': 'entailment',\n",
       " 'mediqa-6786db98-5ca1-11e9-8a00-f45c89b91419': 'contradiction',\n",
       " 'mediqa-6786dd9e-5ca1-11e9-9ff3-f45c89b91419': 'neutral',\n",
       " 'mediqa-6786dfa6-5ca1-11e9-ad7d-f45c89b91419': 'entailment',\n",
       " 'mediqa-6786e1a6-5ca1-11e9-b244-f45c89b91419': 'contradiction',\n",
       " 'mediqa-6786e3a4-5ca1-11e9-bf82-f45c89b91419': 'neutral',\n",
       " 'mediqa-6786e59a-5ca1-11e9-b997-f45c89b91419': 'entailment',\n",
       " 'mediqa-6786e78c-5ca1-11e9-a9c7-f45c89b91419': 'contradiction',\n",
       " 'mediqa-6786eb08-5ca1-11e9-b23e-f45c89b91419': 'neutral',\n",
       " 'mediqa-6786ed4a-5ca1-11e9-abc4-f45c89b91419': 'entailment',\n",
       " 'mediqa-6786ef48-5ca1-11e9-ac4c-f45c89b91419': 'contradiction',\n",
       " 'mediqa-6786f206-5ca1-11e9-bccb-f45c89b91419': 'neutral',\n",
       " 'mediqa-6786f428-5ca1-11e9-81f7-f45c89b91419': 'entailment',\n",
       " 'mediqa-6786f63e-5ca1-11e9-a6d4-f45c89b91419': 'contradiction',\n",
       " 'mediqa-6786f82e-5ca1-11e9-9cff-f45c89b91419': 'neutral',\n",
       " 'mediqa-6786fa38-5ca1-11e9-90ab-f45c89b91419': 'entailment',\n",
       " 'mediqa-6786fc4a-5ca1-11e9-943a-f45c89b91419': 'contradiction',\n",
       " 'mediqa-6786fe52-5ca1-11e9-8ece-f45c89b91419': 'neutral',\n",
       " 'mediqa-678701c2-5ca1-11e9-b2b9-f45c89b91419': 'entailment',\n",
       " 'mediqa-678703e8-5ca1-11e9-9f97-f45c89b91419': 'contradiction',\n",
       " 'mediqa-678705f0-5ca1-11e9-857a-f45c89b91419': 'neutral',\n",
       " 'mediqa-678707f8-5ca1-11e9-8c5a-f45c89b91419': 'entailment',\n",
       " 'mediqa-67870a00-5ca1-11e9-b73f-f45c89b91419': 'contradiction',\n",
       " 'mediqa-67870c08-5ca1-11e9-b601-f45c89b91419': 'neutral',\n",
       " 'mediqa-67870de6-5ca1-11e9-bf12-f45c89b91419': 'entailment',\n",
       " 'mediqa-67871354-5ca1-11e9-9365-f45c89b91419': 'contradiction',\n",
       " 'mediqa-67871568-5ca1-11e9-b94f-f45c89b91419': 'neutral',\n",
       " 'mediqa-6787175c-5ca1-11e9-a99b-f45c89b91419': 'entailment',\n",
       " 'mediqa-67871982-5ca1-11e9-a505-f45c89b91419': 'contradiction',\n",
       " 'mediqa-67871b76-5ca1-11e9-8e5b-f45c89b91419': 'neutral',\n",
       " 'mediqa-67871ef8-5ca1-11e9-8fa8-f45c89b91419': 'entailment',\n",
       " 'mediqa-67872128-5ca1-11e9-8cd5-f45c89b91419': 'contradiction',\n",
       " 'mediqa-67872330-5ca1-11e9-aa8b-f45c89b91419': 'neutral',\n",
       " 'mediqa-67872546-5ca1-11e9-af3c-f45c89b91419': 'entailment',\n",
       " 'mediqa-67872758-5ca1-11e9-abdb-f45c89b91419': 'contradiction',\n",
       " 'mediqa-67872968-5ca1-11e9-b168-f45c89b91419': 'neutral',\n",
       " 'mediqa-67872bac-5ca1-11e9-be97-f45c89b91419': 'entailment',\n",
       " 'mediqa-67872e06-5ca1-11e9-a64f-f45c89b91419': 'contradiction',\n",
       " 'mediqa-67873138-5ca1-11e9-b7fd-f45c89b91419': 'neutral',\n",
       " 'mediqa-6787350c-5ca1-11e9-b38a-f45c89b91419': 'entailment',\n",
       " 'mediqa-6787375a-5ca1-11e9-b2d3-f45c89b91419': 'contradiction',\n",
       " 'mediqa-67873964-5ca1-11e9-9313-f45c89b91419': 'neutral',\n",
       " 'mediqa-67873b6c-5ca1-11e9-bf84-f45c89b91419': 'entailment',\n",
       " 'mediqa-67873d74-5ca1-11e9-ab58-f45c89b91419': 'contradiction',\n",
       " 'mediqa-67873fc8-5ca1-11e9-93a9-f45c89b91419': 'neutral',\n",
       " 'mediqa-678741c8-5ca1-11e9-a99b-f45c89b91419': 'entailment',\n",
       " 'mediqa-678743ba-5ca1-11e9-b814-f45c89b91419': 'contradiction',\n",
       " 'mediqa-678745c2-5ca1-11e9-9bc5-f45c89b91419': 'neutral',\n",
       " 'mediqa-678747ae-5ca1-11e9-af98-f45c89b91419': 'entailment',\n",
       " 'mediqa-67874bda-5ca1-11e9-ad82-f45c89b91419': 'contradiction',\n",
       " 'mediqa-67875098-5ca1-11e9-ac8d-f45c89b91419': 'neutral',\n",
       " 'mediqa-6787529e-5ca1-11e9-a8c9-f45c89b91419': 'entailment',\n",
       " 'mediqa-6787556e-5ca1-11e9-9675-f45c89b91419': 'contradiction',\n",
       " 'mediqa-6787578a-5ca1-11e9-974a-f45c89b91419': 'neutral',\n",
       " 'mediqa-678759a6-5ca1-11e9-a9c4-f45c89b91419': 'entailment',\n",
       " 'mediqa-67875bde-5ca1-11e9-b94d-f45c89b91419': 'contradiction',\n",
       " 'mediqa-67875e10-5ca1-11e9-81cc-f45c89b91419': 'neutral',\n",
       " 'mediqa-67876036-5ca1-11e9-b0c0-f45c89b91419': 'entailment',\n",
       " 'mediqa-678763b8-5ca1-11e9-bebb-f45c89b91419': 'contradiction',\n",
       " 'mediqa-67876608-5ca1-11e9-a584-f45c89b91419': 'neutral',\n",
       " 'mediqa-67876808-5ca1-11e9-a4e6-f45c89b91419': 'entailment',\n",
       " 'mediqa-678769e6-5ca1-11e9-b976-f45c89b91419': 'contradiction',\n",
       " 'mediqa-67876c7a-5ca1-11e9-bb04-f45c89b91419': 'neutral',\n",
       " 'mediqa-67876f1a-5ca1-11e9-a2d4-f45c89b91419': 'entailment',\n",
       " 'mediqa-6787716e-5ca1-11e9-8dc6-f45c89b91419': 'contradiction',\n",
       " 'mediqa-678774f4-5ca1-11e9-9e72-f45c89b91419': 'neutral',\n",
       " 'mediqa-678777ee-5ca1-11e9-a6c0-f45c89b91419': 'entailment',\n",
       " 'mediqa-67877ab0-5ca1-11e9-850f-f45c89b91419': 'contradiction',\n",
       " 'mediqa-67877d00-5ca1-11e9-966b-f45c89b91419': 'neutral',\n",
       " 'mediqa-67878002-5ca1-11e9-a235-f45c89b91419': 'entailment',\n",
       " 'mediqa-67878264-5ca1-11e9-ab24-f45c89b91419': 'contradiction',\n",
       " 'mediqa-67878608-5ca1-11e9-84db-f45c89b91419': 'neutral',\n",
       " 'mediqa-67878836-5ca1-11e9-ba2d-f45c89b91419': 'entailment',\n",
       " 'mediqa-67878a18-5ca1-11e9-b09f-f45c89b91419': 'contradiction',\n",
       " 'mediqa-67878c0a-5ca1-11e9-b874-f45c89b91419': 'neutral',\n",
       " 'mediqa-678790b0-5ca1-11e9-bc9e-f45c89b91419': 'entailment',\n",
       " 'mediqa-678792b8-5ca1-11e9-b475-f45c89b91419': 'contradiction',\n",
       " 'mediqa-678794ae-5ca1-11e9-8594-f45c89b91419': 'neutral',\n",
       " 'mediqa-67879702-5ca1-11e9-a587-f45c89b91419': 'entailment',\n",
       " 'mediqa-67879a74-5ca1-11e9-82b7-f45c89b91419': 'contradiction',\n",
       " 'mediqa-67879e3e-5ca1-11e9-9423-f45c89b91419': 'neutral',\n",
       " 'mediqa-6787a098-5ca1-11e9-92e4-f45c89b91419': 'entailment',\n",
       " 'mediqa-6787a2b0-5ca1-11e9-850a-f45c89b91419': 'contradiction',\n",
       " 'mediqa-6787a4c6-5ca1-11e9-a4e7-f45c89b91419': 'neutral',\n",
       " 'mediqa-6787a6d8-5ca1-11e9-b1de-f45c89b91419': 'entailment',\n",
       " 'mediqa-6787a8e6-5ca1-11e9-9be8-f45c89b91419': 'contradiction',\n",
       " 'mediqa-6787aae6-5ca1-11e9-a4e8-f45c89b91419': 'neutral',\n",
       " 'mediqa-6787acda-5ca1-11e9-a285-f45c89b91419': 'entailment',\n",
       " 'mediqa-6787b018-5ca1-11e9-ba3e-f45c89b91419': 'contradiction',\n",
       " 'mediqa-6787b248-5ca1-11e9-aa1d-f45c89b91419': 'neutral',\n",
       " 'mediqa-6787b45a-5ca1-11e9-8619-f45c89b91419': 'entailment',\n",
       " 'mediqa-6787b734-5ca1-11e9-b632-f45c89b91419': 'contradiction',\n",
       " 'mediqa-6787b964-5ca1-11e9-b305-f45c89b91419': 'neutral',\n",
       " 'mediqa-6787bb58-5ca1-11e9-8875-f45c89b91419': 'entailment',\n",
       " 'mediqa-6787bd58-5ca1-11e9-8795-f45c89b91419': 'contradiction',\n",
       " 'mediqa-6787bf54-5ca1-11e9-9f6f-f45c89b91419': 'neutral',\n",
       " 'mediqa-6787c152-5ca1-11e9-943e-f45c89b91419': 'entailment',\n",
       " 'mediqa-6787c3a8-5ca1-11e9-bd02-f45c89b91419': 'contradiction',\n",
       " 'mediqa-6787c724-5ca1-11e9-916f-f45c89b91419': 'neutral',\n",
       " 'mediqa-6787c968-5ca1-11e9-b71a-f45c89b91419': 'entailment',\n",
       " 'mediqa-6787ce36-5ca1-11e9-93a9-f45c89b91419': 'contradiction',\n",
       " 'mediqa-6787d048-5ca1-11e9-91f9-f45c89b91419': 'neutral',\n",
       " 'mediqa-6787d282-5ca1-11e9-9743-f45c89b91419': 'entailment',\n",
       " 'mediqa-6787d480-5ca1-11e9-8476-f45c89b91419': 'contradiction',\n",
       " 'mediqa-6787d6b0-5ca1-11e9-91be-f45c89b91419': 'neutral',\n",
       " 'mediqa-6787d9d2-5ca1-11e9-a3fd-f45c89b91419': 'entailment',\n",
       " 'mediqa-6787dc14-5ca1-11e9-a64e-f45c89b91419': 'contradiction',\n",
       " 'mediqa-6787de2e-5ca1-11e9-8817-f45c89b91419': 'neutral',\n",
       " 'mediqa-6787e1e6-5ca1-11e9-9897-f45c89b91419': 'entailment',\n",
       " 'mediqa-6787e466-5ca1-11e9-bea6-f45c89b91419': 'contradiction',\n",
       " 'mediqa-6787e6be-5ca1-11e9-8459-f45c89b91419': 'neutral',\n",
       " 'mediqa-6787e8d0-5ca1-11e9-85bc-f45c89b91419': 'entailment',\n",
       " 'mediqa-6787eaba-5ca1-11e9-93ab-f45c89b91419': 'contradiction',\n",
       " 'mediqa-6787eca4-5ca1-11e9-912a-f45c89b91419': 'neutral',\n",
       " 'mediqa-6787ee90-5ca1-11e9-a5a2-f45c89b91419': 'entailment',\n",
       " 'mediqa-6787f14a-5ca1-11e9-944c-f45c89b91419': 'contradiction',\n",
       " 'mediqa-6787f366-5ca1-11e9-9788-f45c89b91419': 'neutral',\n",
       " 'mediqa-6787f6de-5ca1-11e9-9554-f45c89b91419': 'entailment',\n",
       " 'mediqa-6787f942-5ca1-11e9-b3d4-f45c89b91419': 'contradiction',\n",
       " 'mediqa-6787fb74-5ca1-11e9-814a-f45c89b91419': 'neutral',\n",
       " 'mediqa-6787fda4-5ca1-11e9-97b9-f45c89b91419': 'entailment',\n",
       " 'mediqa-678800e8-5ca1-11e9-b41d-f45c89b91419': 'contradiction',\n",
       " 'mediqa-6788035e-5ca1-11e9-93db-f45c89b91419': 'neutral',\n",
       " 'mediqa-67880590-5ca1-11e9-88cc-f45c89b91419': 'entailment',\n",
       " 'mediqa-67880a1a-5ca1-11e9-ab83-f45c89b91419': 'contradiction',\n",
       " 'mediqa-67880f54-5ca1-11e9-aa4f-f45c89b91419': 'neutral',\n",
       " 'mediqa-67881190-5ca1-11e9-93d0-f45c89b91419': 'entailment',\n",
       " 'mediqa-6788139e-5ca1-11e9-a745-f45c89b91419': 'contradiction',\n",
       " 'mediqa-678815c6-5ca1-11e9-9f87-f45c89b91419': 'neutral',\n",
       " 'mediqa-678817d8-5ca1-11e9-8d66-f45c89b91419': 'entailment',\n",
       " 'mediqa-678819de-5ca1-11e9-8ef4-f45c89b91419': 'contradiction',\n",
       " 'mediqa-67881be6-5ca1-11e9-ad81-f45c89b91419': 'neutral',\n",
       " 'mediqa-67881dee-5ca1-11e9-a1d1-f45c89b91419': 'entailment',\n",
       " 'mediqa-6788216c-5ca1-11e9-99bb-f45c89b91419': 'contradiction',\n",
       " 'mediqa-678823b8-5ca1-11e9-a508-f45c89b91419': 'neutral',\n",
       " 'mediqa-678826b0-5ca1-11e9-8ba7-f45c89b91419': 'entailment',\n",
       " 'mediqa-67882912-5ca1-11e9-b65b-f45c89b91419': 'contradiction',\n",
       " 'mediqa-67882b38-5ca1-11e9-8766-f45c89b91419': 'neutral',\n",
       " 'mediqa-67882d54-5ca1-11e9-aff8-f45c89b91419': 'entailment',\n",
       " 'mediqa-67882f66-5ca1-11e9-90ac-f45c89b91419': 'contradiction',\n",
       " 'mediqa-6788316e-5ca1-11e9-b9be-f45c89b91419': 'neutral',\n",
       " 'mediqa-678834e8-5ca1-11e9-a6f8-f45c89b91419': 'entailment',\n",
       " 'mediqa-67883754-5ca1-11e9-8886-f45c89b91419': 'contradiction',\n",
       " 'mediqa-67883998-5ca1-11e9-9e2e-f45c89b91419': 'neutral',\n",
       " 'mediqa-67883ca4-5ca1-11e9-ba94-f45c89b91419': 'entailment',\n",
       " 'mediqa-67883efe-5ca1-11e9-b048-f45c89b91419': 'contradiction',\n",
       " 'mediqa-67884136-5ca1-11e9-ab60-f45c89b91419': 'neutral',\n",
       " 'mediqa-6788435c-5ca1-11e9-8628-f45c89b91419': 'entailment',\n",
       " 'mediqa-678846de-5ca1-11e9-ba69-f45c89b91419': 'contradiction',\n",
       " 'mediqa-6788492e-5ca1-11e9-b14c-f45c89b91419': 'neutral',\n",
       " 'mediqa-67884e08-5ca1-11e9-be10-f45c89b91419': 'entailment',\n",
       " 'mediqa-67885018-5ca1-11e9-85c6-f45c89b91419': 'contradiction',\n",
       " 'mediqa-6788520c-5ca1-11e9-9227-f45c89b91419': 'neutral',\n",
       " 'mediqa-67885414-5ca1-11e9-a1fb-f45c89b91419': 'entailment',\n",
       " 'mediqa-67885612-5ca1-11e9-9760-f45c89b91419': 'contradiction',\n",
       " 'mediqa-67885812-5ca1-11e9-85ba-f45c89b91419': 'neutral',\n",
       " 'mediqa-67885ae2-5ca1-11e9-89ec-f45c89b91419': 'entailment',\n",
       " 'mediqa-67885cfa-5ca1-11e9-941e-f45c89b91419': 'contradiction',\n",
       " 'mediqa-67886062-5ca1-11e9-83cf-f45c89b91419': 'neutral',\n",
       " 'mediqa-678862c6-5ca1-11e9-aae7-f45c89b91419': 'entailment',\n",
       " 'mediqa-678864f6-5ca1-11e9-b8e4-f45c89b91419': 'contradiction',\n",
       " 'mediqa-6788671a-5ca1-11e9-8b62-f45c89b91419': 'neutral',\n",
       " 'mediqa-67886922-5ca1-11e9-bc95-f45c89b91419': 'entailment',\n",
       " 'mediqa-67886b02-5ca1-11e9-be2e-f45c89b91419': 'contradiction',\n",
       " 'mediqa-67886ce2-5ca1-11e9-950b-f45c89b91419': 'neutral',\n",
       " 'mediqa-67886ecc-5ca1-11e9-8822-f45c89b91419': 'entailment',\n",
       " 'mediqa-678870ac-5ca1-11e9-8844-f45c89b91419': 'contradiction',\n",
       " 'mediqa-678873ae-5ca1-11e9-ab54-f45c89b91419': 'neutral',\n",
       " 'mediqa-678877dc-5ca1-11e9-89b9-f45c89b91419': 'entailment',\n",
       " 'mediqa-67887e50-5ca1-11e9-a3ab-f45c89b91419': 'contradiction',\n",
       " 'mediqa-678880f6-5ca1-11e9-94a3-f45c89b91419': 'neutral',\n",
       " 'mediqa-67888342-5ca1-11e9-a969-f45c89b91419': 'entailment',\n",
       " 'mediqa-67888574-5ca1-11e9-a761-f45c89b91419': 'contradiction',\n",
       " 'mediqa-67888790-5ca1-11e9-b396-f45c89b91419': 'neutral',\n",
       " 'mediqa-678889b8-5ca1-11e9-ac36-f45c89b91419': 'entailment',\n",
       " 'mediqa-67888ec0-5ca1-11e9-9f07-f45c89b91419': 'contradiction',\n",
       " 'mediqa-678890e6-5ca1-11e9-b8a1-f45c89b91419': 'neutral',\n",
       " 'mediqa-678892da-5ca1-11e9-8748-f45c89b91419': 'entailment',\n",
       " 'mediqa-67889654-5ca1-11e9-b29a-f45c89b91419': 'contradiction',\n",
       " 'mediqa-67889870-5ca1-11e9-b789-f45c89b91419': 'neutral',\n",
       " 'mediqa-67889a8a-5ca1-11e9-9382-f45c89b91419': 'entailment',\n",
       " 'mediqa-67889ca8-5ca1-11e9-abe2-f45c89b91419': 'contradiction',\n",
       " 'mediqa-67889f94-5ca1-11e9-9489-f45c89b91419': 'neutral',\n",
       " 'mediqa-6788a1dc-5ca1-11e9-b8cc-f45c89b91419': 'entailment',\n",
       " 'mediqa-6788a3f6-5ca1-11e9-b82a-f45c89b91419': 'contradiction',\n",
       " 'mediqa-6788a95a-5ca1-11e9-86e3-f45c89b91419': 'neutral',\n",
       " 'mediqa-6788abd0-5ca1-11e9-a8e5-f45c89b91419': 'entailment',\n",
       " 'mediqa-6788ae1e-5ca1-11e9-bbab-f45c89b91419': 'contradiction',\n",
       " 'mediqa-6788b22e-5ca1-11e9-a93e-f45c89b91419': 'neutral',\n",
       " 'mediqa-6788b49a-5ca1-11e9-a450-f45c89b91419': 'entailment',\n",
       " 'mediqa-6788b726-5ca1-11e9-bbf8-f45c89b91419': 'contradiction',\n",
       " 'mediqa-6788b97a-5ca1-11e9-8bd4-f45c89b91419': 'neutral',\n",
       " 'mediqa-6788bb8c-5ca1-11e9-960b-f45c89b91419': 'entailment',\n",
       " 'mediqa-6788be9c-5ca1-11e9-9e74-f45c89b91419': 'contradiction',\n",
       " 'mediqa-6788c0c0-5ca1-11e9-8423-f45c89b91419': 'neutral',\n",
       " 'mediqa-6788c2c8-5ca1-11e9-8fc2-f45c89b91419': 'entailment',\n",
       " 'mediqa-6788c642-5ca1-11e9-abac-f45c89b91419': 'contradiction',\n",
       " 'mediqa-6788c890-5ca1-11e9-9b28-f45c89b91419': 'neutral',\n",
       " 'mediqa-6788caae-5ca1-11e9-86f8-f45c89b91419': 'entailment',\n",
       " 'mediqa-6788ccbe-5ca1-11e9-a522-f45c89b91419': 'contradiction',\n",
       " 'mediqa-6788d1b6-5ca1-11e9-8129-f45c89b91419': 'neutral',\n",
       " 'mediqa-6788d3ee-5ca1-11e9-9f95-f45c89b91419': 'entailment',\n",
       " 'mediqa-6788d612-5ca1-11e9-be7a-f45c89b91419': 'contradiction',\n",
       " 'mediqa-6788d842-5ca1-11e9-8eb0-f45c89b91419': 'neutral',\n",
       " 'mediqa-6788da42-5ca1-11e9-bde4-f45c89b91419': 'entailment',\n",
       " 'mediqa-6788de52-5ca1-11e9-a505-f45c89b91419': 'contradiction',\n",
       " 'mediqa-6788e08a-5ca1-11e9-8edc-f45c89b91419': 'neutral',\n",
       " 'mediqa-6788e294-5ca1-11e9-a758-f45c89b91419': 'entailment',\n",
       " 'mediqa-6788e492-5ca1-11e9-944d-f45c89b91419': 'contradiction',\n",
       " 'mediqa-6788e69c-5ca1-11e9-90cb-f45c89b91419': 'neutral',\n",
       " 'mediqa-6788e8d4-5ca1-11e9-aa4b-f45c89b91419': 'entailment',\n",
       " 'mediqa-6788ead2-5ca1-11e9-afbf-f45c89b91419': 'contradiction',\n",
       " 'mediqa-6788ecba-5ca1-11e9-81a6-f45c89b91419': 'neutral',\n",
       " 'mediqa-6788eeb0-5ca1-11e9-9c39-f45c89b91419': 'entailment',\n",
       " 'mediqa-6788f0ae-5ca1-11e9-97ed-f45c89b91419': 'contradiction',\n",
       " 'mediqa-6788f2a2-5ca1-11e9-9c33-f45c89b91419': 'neutral',\n",
       " 'mediqa-6788f52c-5ca1-11e9-8acd-f45c89b91419': 'entailment',\n",
       " 'mediqa-6788f90a-5ca1-11e9-8898-f45c89b91419': 'contradiction',\n",
       " 'mediqa-6788fc48-5ca1-11e9-86b8-f45c89b91419': 'neutral',\n",
       " 'mediqa-6788fe98-5ca1-11e9-ba03-f45c89b91419': 'entailment',\n",
       " 'mediqa-678900da-5ca1-11e9-b8a6-f45c89b91419': 'contradiction',\n",
       " 'mediqa-678902f6-5ca1-11e9-8547-f45c89b91419': 'neutral',\n",
       " 'mediqa-67890512-5ca1-11e9-abcc-f45c89b91419': 'entailment',\n",
       " 'mediqa-67890738-5ca1-11e9-9f30-f45c89b91419': 'contradiction',\n",
       " 'mediqa-67890aba-5ca1-11e9-8bd3-f45c89b91419': 'neutral',\n",
       " 'mediqa-6789111a-5ca1-11e9-acb2-f45c89b91419': 'entailment',\n",
       " 'mediqa-67891354-5ca1-11e9-b6ab-f45c89b91419': 'contradiction',\n",
       " 'mediqa-67891570-5ca1-11e9-b3b7-f45c89b91419': 'neutral',\n",
       " 'mediqa-67891874-5ca1-11e9-8179-f45c89b91419': 'entailment',\n",
       " 'mediqa-67891ad2-5ca1-11e9-9fc4-f45c89b91419': 'contradiction',\n",
       " 'mediqa-67891d1a-5ca1-11e9-80a0-f45c89b91419': 'neutral',\n",
       " 'mediqa-67891f4a-5ca1-11e9-ba49-f45c89b91419': 'entailment',\n",
       " 'mediqa-678922b8-5ca1-11e9-8710-f45c89b91419': 'contradiction',\n",
       " 'mediqa-678924dc-5ca1-11e9-9da6-f45c89b91419': 'neutral',\n",
       " 'mediqa-678926fa-5ca1-11e9-b15a-f45c89b91419': 'entailment',\n",
       " 'mediqa-6789291e-5ca1-11e9-9e26-f45c89b91419': 'contradiction',\n",
       " 'mediqa-67892b34-5ca1-11e9-8c3d-f45c89b91419': 'neutral',\n",
       " 'mediqa-67892d30-5ca1-11e9-acc4-f45c89b91419': 'entailment',\n",
       " 'mediqa-67892f1a-5ca1-11e9-9395-f45c89b91419': 'contradiction',\n",
       " 'mediqa-67893110-5ca1-11e9-a779-f45c89b91419': 'neutral',\n",
       " 'mediqa-678933f0-5ca1-11e9-918e-f45c89b91419': 'entailment',\n",
       " 'mediqa-678937a8-5ca1-11e9-b010-f45c89b91419': 'contradiction',\n",
       " 'mediqa-67893a1e-5ca1-11e9-9788-f45c89b91419': 'neutral',\n",
       " 'mediqa-67893c38-5ca1-11e9-9f86-f45c89b91419': 'entailment',\n",
       " 'mediqa-67893e36-5ca1-11e9-a7e0-f45c89b91419': 'contradiction',\n",
       " 'mediqa-67894040-5ca1-11e9-9060-f45c89b91419': 'neutral',\n",
       " 'mediqa-67894248-5ca1-11e9-8a90-f45c89b91419': 'entailment',\n",
       " 'mediqa-67894464-5ca1-11e9-9f55-f45c89b91419': 'contradiction',\n",
       " 'mediqa-67894680-5ca1-11e9-8dc0-f45c89b91419': 'neutral',\n",
       " 'mediqa-678949a8-5ca1-11e9-96ed-f45c89b91419': 'entailment',\n",
       " 'mediqa-6789501c-5ca1-11e9-808f-f45c89b91419': 'contradiction',\n",
       " 'mediqa-67895288-5ca1-11e9-8c1c-f45c89b91419': 'neutral',\n",
       " 'mediqa-678954b8-5ca1-11e9-aec5-f45c89b91419': 'entailment',\n",
       " 'mediqa-678956e6-5ca1-11e9-a182-f45c89b91419': 'contradiction',\n",
       " 'mediqa-67895906-5ca1-11e9-908b-f45c89b91419': 'neutral',\n",
       " 'mediqa-67895b18-5ca1-11e9-8acc-f45c89b91419': 'entailment',\n",
       " 'mediqa-67895d1e-5ca1-11e9-bf9e-f45c89b91419': 'contradiction',\n",
       " 'mediqa-67896070-5ca1-11e9-8e41-f45c89b91419': 'neutral',\n",
       " 'mediqa-6789629e-5ca1-11e9-8d9e-f45c89b91419': 'entailment',\n",
       " 'mediqa-6789649c-5ca1-11e9-8aa1-f45c89b91419': 'contradiction',\n",
       " 'mediqa-67896692-5ca1-11e9-863f-f45c89b91419': 'neutral',\n",
       " 'mediqa-67896958-5ca1-11e9-b6b0-f45c89b91419': 'entailment',\n",
       " 'mediqa-67896b74-5ca1-11e9-98f1-f45c89b91419': 'contradiction',\n",
       " 'mediqa-67896d70-5ca1-11e9-9a0a-f45c89b91419': 'neutral',\n",
       " 'mediqa-67896f90-5ca1-11e9-aa7f-f45c89b91419': 'entailment',\n",
       " 'mediqa-6789719e-5ca1-11e9-9401-f45c89b91419': 'contradiction',\n",
       " 'mediqa-678973b0-5ca1-11e9-a6d1-f45c89b91419': 'neutral',\n",
       " 'mediqa-67897706-5ca1-11e9-a3c6-f45c89b91419': 'entailment',\n",
       " 'mediqa-6789793e-5ca1-11e9-adea-f45c89b91419': 'contradiction',\n",
       " 'mediqa-67897b46-5ca1-11e9-b725-f45c89b91419': 'neutral',\n",
       " 'mediqa-67897d46-5ca1-11e9-b72b-f45c89b91419': 'entailment',\n",
       " 'mediqa-67897f42-5ca1-11e9-8b26-f45c89b91419': 'contradiction',\n",
       " 'mediqa-67898140-5ca1-11e9-9058-f45c89b91419': 'neutral',\n",
       " 'mediqa-67898424-5ca1-11e9-9585-f45c89b91419': 'entailment',\n",
       " 'mediqa-67898674-5ca1-11e9-ad86-f45c89b91419': 'contradiction',\n",
       " 'mediqa-67898b66-5ca1-11e9-a475-f45c89b91419': 'neutral',\n",
       " 'mediqa-67898d7a-5ca1-11e9-b0cb-f45c89b91419': 'entailment',\n",
       " 'mediqa-678990e2-5ca1-11e9-b5f8-f45c89b91419': 'contradiction',\n",
       " 'mediqa-678992fa-5ca1-11e9-8b4a-f45c89b91419': 'neutral',\n",
       " 'mediqa-67899502-5ca1-11e9-a249-f45c89b91419': 'entailment',\n",
       " 'mediqa-67899702-5ca1-11e9-af6e-f45c89b91419': 'contradiction',\n",
       " 'mediqa-678998f6-5ca1-11e9-9647-f45c89b91419': 'neutral',\n",
       " 'mediqa-67899ae8-5ca1-11e9-bb67-f45c89b91419': 'entailment',\n",
       " 'mediqa-67899cde-5ca1-11e9-8179-f45c89b91419': 'contradiction',\n",
       " 'mediqa-67899ec8-5ca1-11e9-98fb-f45c89b91419': 'neutral',\n",
       " 'mediqa-6789a0c8-5ca1-11e9-8ddb-f45c89b91419': 'entailment',\n",
       " 'mediqa-6789a2d0-5ca1-11e9-b2d2-f45c89b91419': 'contradiction',\n",
       " 'mediqa-6789a59e-5ca1-11e9-ba65-f45c89b91419': 'neutral',\n",
       " 'mediqa-6789a92c-5ca1-11e9-ae00-f45c89b91419': 'entailment',\n",
       " 'mediqa-6789ab5c-5ca1-11e9-81ae-f45c89b91419': 'contradiction',\n",
       " 'mediqa-6789ad64-5ca1-11e9-bdab-f45c89b91419': 'neutral',\n",
       " 'mediqa-6789af6e-5ca1-11e9-af5a-f45c89b91419': 'entailment',\n",
       " 'mediqa-6789b15e-5ca1-11e9-8033-f45c89b91419': 'contradiction',\n",
       " 'mediqa-6789b354-5ca1-11e9-9072-f45c89b91419': 'neutral',\n",
       " 'mediqa-6789b566-5ca1-11e9-afc9-f45c89b91419': 'entailment',\n",
       " 'mediqa-6789b78c-5ca1-11e9-b627-f45c89b91419': 'contradiction',\n",
       " 'mediqa-6789b99e-5ca1-11e9-9860-f45c89b91419': 'neutral',\n",
       " 'mediqa-6789bcfa-5ca1-11e9-9d37-f45c89b91419': 'entailment',\n",
       " 'mediqa-6789bf2c-5ca1-11e9-992b-f45c89b91419': 'contradiction',\n",
       " 'mediqa-6789c128-5ca1-11e9-b74e-f45c89b91419': 'neutral',\n",
       " 'mediqa-6789c70c-5ca1-11e9-a754-f45c89b91419': 'entailment',\n",
       " 'mediqa-6789c9ac-5ca1-11e9-b1d8-f45c89b91419': 'contradiction',\n",
       " 'mediqa-6789cc22-5ca1-11e9-a467-f45c89b91419': 'neutral',\n",
       " 'mediqa-6789ce3e-5ca1-11e9-bd5e-f45c89b91419': 'entailment',\n",
       " 'mediqa-6789d046-5ca1-11e9-b654-f45c89b91419': 'contradiction',\n",
       " 'mediqa-6789d3a4-5ca1-11e9-b94a-f45c89b91419': 'neutral',\n",
       " 'mediqa-6789d5be-5ca1-11e9-ad10-f45c89b91419': 'entailment',\n",
       " 'mediqa-6789d7b4-5ca1-11e9-8adf-f45c89b91419': 'contradiction',\n",
       " 'mediqa-6789d992-5ca1-11e9-8365-f45c89b91419': 'neutral',\n",
       " 'mediqa-6789dba4-5ca1-11e9-be15-f45c89b91419': 'entailment',\n",
       " 'mediqa-6789deb0-5ca1-11e9-9b47-f45c89b91419': 'contradiction',\n",
       " 'mediqa-6789e0ec-5ca1-11e9-a906-f45c89b91419': 'neutral',\n",
       " 'mediqa-6789e306-5ca1-11e9-a275-f45c89b91419': 'entailment',\n",
       " 'mediqa-6789e518-5ca1-11e9-aca6-f45c89b91419': 'contradiction',\n",
       " 'mediqa-6789e72c-5ca1-11e9-ad15-f45c89b91419': 'neutral',\n",
       " 'mediqa-6789eab6-5ca1-11e9-a462-f45c89b91419': 'entailment',\n",
       " 'mediqa-6789ed06-5ca1-11e9-b15f-f45c89b91419': 'contradiction',\n",
       " 'mediqa-6789ef9a-5ca1-11e9-a2f1-f45c89b91419': 'neutral'}"
      ]
     },
     "execution_count": 110,
     "metadata": {},
     "output_type": "execute_result"
    }
   ],
   "source": [
    "# inspect dictionary\n",
    "label_dic['label']"
   ]
  },
  {
   "cell_type": "markdown",
   "metadata": {
    "id": "nFsE04LbYuFq"
   },
   "source": [
    "Add label to test set data."
   ]
  },
  {
   "cell_type": "code",
   "execution_count": null,
   "metadata": {
    "id": "IQ6cWOn1ZFSu"
   },
   "outputs": [],
   "source": [
    "for d in data:\n",
    "  d['gold_label'] = label_dic['label'][d['pairID']]"
   ]
  },
  {
   "cell_type": "markdown",
   "metadata": {
    "id": "P2q59il5bgbF"
   },
   "source": [
    "Load complete test set into a dataset."
   ]
  },
  {
   "cell_type": "code",
   "execution_count": null,
   "metadata": {
    "colab": {
     "base_uri": "https://localhost:8080/"
    },
    "id": "3N18fjFmb4ic",
    "outputId": "3fda9341-aa94-4bab-fcc5-2e0ec6255480"
   },
   "outputs": [
    {
     "data": {
      "text/plain": [
       "[{'gold_label': 'entailment',\n",
       "  'pairID': 'mediqa-6784509e-5ca1-11e9-8844-f45c89b91419',\n",
       "  'sentence1': 'She arrived with her friend, very lethargic.',\n",
       "  'sentence1_binary_parse': '( She ( ( ( ( arrived ( with ( her friend ) ) ) , ) ( very lethargic ) ) . ) )',\n",
       "  'sentence1_parse': '(ROOT (S (NP (PRP She)) (VP (VBD arrived) (PP (IN with) (NP (PRP$ her) (NN friend))) (, ,) (ADJP (RB very) (JJ lethargic))) (. .)))',\n",
       "  'sentence2': ' she  appeared unenergetic',\n",
       "  'sentence2_binary_parse': '( she ( appeared unenergetic ) )',\n",
       "  'sentence2_parse': '(ROOT (S (NP (PRP she)) (VP (VBD appeared) (ADJP (JJ unenergetic)))))'},\n",
       " {'gold_label': 'contradiction',\n",
       "  'pairID': 'mediqa-678582f4-5ca1-11e9-af66-f45c89b91419',\n",
       "  'sentence1': 'She arrived with her friend, very lethargic.',\n",
       "  'sentence1_binary_parse': '( She ( ( ( ( arrived ( with ( her friend ) ) ) , ) ( very lethargic ) ) . ) )',\n",
       "  'sentence1_parse': '(ROOT (S (NP (PRP She)) (VP (VBD arrived) (PP (IN with) (NP (PRP$ her) (NN friend))) (, ,) (ADJP (RB very) (JJ lethargic))) (. .)))',\n",
       "  'sentence2': ' she arrived alert and oriented, energetic, in no distress',\n",
       "  'sentence2_binary_parse': '( she ( ( ( ( ( ( ( arrived alert ) and ) oriented ) , ) energetic ) , ) ( in ( no distress ) ) ) )',\n",
       "  'sentence2_parse': '(ROOT (S (NP (PRP she)) (VP (VP (VP (VBD arrived) (ADJP (JJ alert))) (CC and) (VP (VBN oriented))) (, ,) (ADVP (JJ energetic)) (, ,) (PP (IN in) (NP (DT no) (NN distress))))))'}]"
      ]
     },
     "execution_count": 112,
     "metadata": {},
     "output_type": "execute_result"
    }
   ],
   "source": [
    "data[:2]"
   ]
  },
  {
   "cell_type": "code",
   "execution_count": null,
   "metadata": {
    "id": "aIEgsNEscMCs"
   },
   "outputs": [],
   "source": [
    "# convert data to a dictionary\n",
    "data = {'gold_label': [d['gold_label'] for d in data],\n",
    "        'pairID': [d['pairID'] for d in data],\n",
    "        'sentence1': [d['sentence1'] for d in data],\n",
    "        'sentence2': [d['sentence2'] for d in data]}"
   ]
  },
  {
   "cell_type": "code",
   "execution_count": null,
   "metadata": {
    "id": "UlJEI5bHbkLJ"
   },
   "outputs": [],
   "source": [
    "from datasets import Dataset\n",
    "mediqa = Dataset.from_dict(data)"
   ]
  },
  {
   "cell_type": "code",
   "execution_count": null,
   "metadata": {
    "colab": {
     "base_uri": "https://localhost:8080/"
    },
    "id": "92b419jvcp4c",
    "outputId": "12a37a6f-ef83-43f7-e17d-6ef7297a5d72"
   },
   "outputs": [
    {
     "data": {
      "text/plain": [
       "Dataset({\n",
       "    features: ['gold_label', 'pairID', 'sentence1', 'sentence2'],\n",
       "    num_rows: 405\n",
       "})"
      ]
     },
     "execution_count": 115,
     "metadata": {},
     "output_type": "execute_result"
    }
   ],
   "source": [
    "mediqa"
   ]
  },
  {
   "cell_type": "markdown",
   "metadata": {
    "id": "QAjB0UE4bcTT"
   },
   "source": [
    "Encode/Preprocess mednli test set."
   ]
  },
  {
   "cell_type": "code",
   "execution_count": null,
   "metadata": {
    "colab": {
     "base_uri": "https://localhost:8080/",
     "height": 49,
     "referenced_widgets": [
      "2576c3d88e1f4dc680b07ed20ff8038c",
      "1cd42493d86f49de85d4287f2d09a890",
      "da7d54f239af4e83bfb8e0b6b3feaec0",
      "60779f5b931645fbbc71026c5bf36278",
      "03b0b855b9624538a5cff3fb3d3de278",
      "96edf7e2638446258c6c1bf809ae176f",
      "4afaca67297748128d054cae5b5f97aa",
      "61a0eb077eb246e893802979da9f58c0",
      "740afdabaf5b471cae6893722104c3cc",
      "567a719be0c14cdcaaeacebb8d903d1f",
      "fc9e246631824acd8208b855da413273"
     ]
    },
    "id": "ggFmQ4Tict81",
    "outputId": "6c79befa-7db3-4641-864a-815d2e152f70"
   },
   "outputs": [
    {
     "data": {
      "application/vnd.jupyter.widget-view+json": {
       "model_id": "2576c3d88e1f4dc680b07ed20ff8038c",
       "version_major": 2,
       "version_minor": 0
      },
      "text/plain": [
       "  0%|          | 0/1 [00:00<?, ?ba/s]"
      ]
     },
     "metadata": {},
     "output_type": "display_data"
    }
   ],
   "source": [
    "encoded_mediqa = mediqa.map(preprocess_function, batched=True)"
   ]
  },
  {
   "cell_type": "code",
   "execution_count": null,
   "metadata": {
    "colab": {
     "base_uri": "https://localhost:8080/"
    },
    "id": "WlIUoIdhdl1p",
    "outputId": "b7067ab3-6cab-4507-f605-5e21d78c7cd7"
   },
   "outputs": [
    {
     "data": {
      "text/plain": [
       "Dataset({\n",
       "    features: ['attention_mask', 'gold_label', 'input_ids', 'label', 'pairID', 'sentence1', 'sentence2', 'token_type_ids'],\n",
       "    num_rows: 405\n",
       "})"
      ]
     },
     "execution_count": 117,
     "metadata": {},
     "output_type": "execute_result"
    }
   ],
   "source": [
    "encoded_mediqa"
   ]
  },
  {
   "cell_type": "code",
   "execution_count": null,
   "metadata": {
    "colab": {
     "base_uri": "https://localhost:8080/",
     "height": 122
    },
    "id": "CuGtnteCY0zk",
    "outputId": "37e6f897-d10b-497d-df44-99b6da5386c0"
   },
   "outputs": [
    {
     "name": "stderr",
     "output_type": "stream",
     "text": [
      "The following columns in the test set  don't have a corresponding argument in `BertForSequenceClassification.forward` and have been ignored: pairID, sentence1, sentence2, gold_label.\n",
      "***** Running Prediction *****\n",
      "  Num examples = 405\n",
      "  Batch size = 8\n"
     ]
    },
    {
     "data": {
      "text/html": [
       "\n",
       "    <div>\n",
       "      \n",
       "      <progress value='458' max='178' style='width:300px; height:20px; vertical-align: middle;'></progress>\n",
       "      [178/178 22:46]\n",
       "    </div>\n",
       "    "
      ],
      "text/plain": [
       "<IPython.core.display.HTML object>"
      ]
     },
     "metadata": {},
     "output_type": "display_data"
    }
   ],
   "source": [
    "predictions = trainer.predict(encoded_mediqa)"
   ]
  },
  {
   "cell_type": "markdown",
   "metadata": {
    "id": "Fo-IKL-0dqUo"
   },
   "source": [
    "Inspect performance."
   ]
  },
  {
   "cell_type": "code",
   "execution_count": null,
   "metadata": {
    "colab": {
     "base_uri": "https://localhost:8080/"
    },
    "id": "43HykljCwC8C",
    "outputId": "b6ad687f-71a3-4a1a-dc2b-e9c03fd1189b"
   },
   "outputs": [
    {
     "data": {
      "text/plain": [
       "{'test_accuracy': 0.8469135802469135,\n",
       " 'test_loss': 1.2830283641815186,\n",
       " 'test_runtime': 3.1996,\n",
       " 'test_samples_per_second': 126.579,\n",
       " 'test_steps_per_second': 15.94}"
      ]
     },
     "execution_count": 119,
     "metadata": {},
     "output_type": "execute_result"
    }
   ],
   "source": [
    "predictions[2]"
   ]
  },
  {
   "cell_type": "markdown",
   "metadata": {
    "id": "KcSgWegwELb5"
   },
   "source": [
    "Inspect some predictions."
   ]
  },
  {
   "cell_type": "code",
   "execution_count": null,
   "metadata": {
    "id": "FcsBLIMTEOq5"
   },
   "outputs": [],
   "source": [
    "import numpy as np\n",
    "id_to_label = {0: 'entailment', 1: 'contradiction', 2: 'neutral'}\n",
    "def show_mednli_prediction(dataset, predictions, index):\n",
    "  show_one(dataset[index])\n",
    "  prediction = np.argmax(predictions[0][index]) \n",
    "  print(f\"Predicted: {id_to_label[prediction]}\")"
   ]
  },
  {
   "cell_type": "code",
   "execution_count": null,
   "metadata": {
    "colab": {
     "base_uri": "https://localhost:8080/"
    },
    "id": "mL0v1I34Fb9F",
    "outputId": "cd1124bd-0f58-48cf-a86b-fcb77a76d8ca"
   },
   "outputs": [
    {
     "name": "stdout",
     "output_type": "stream",
     "text": [
      "Sentence 1: Post-ERCP, she was admitted to the ICU with a diagnosis of cholangitis.\n",
      "Sentence 2:  She tolerated the ERCP well and felt better post procedure\n",
      "Ground truth: contradiction\n",
      "Predicted: contradiction\n"
     ]
    }
   ],
   "source": [
    "show_mednli_prediction(mediqa, predictions, 100)"
   ]
  }
 ],
 "metadata": {
  "accelerator": "GPU",
  "colab": {
   "collapsed_sections": [
    "syn79_dWOfJv",
    "5Igax_NMQf3z"
   ],
   "name": "MIMIC-NLI.ipynb",
   "provenance": []
  },
  "kernelspec": {
   "display_name": "Python 3",
   "language": "python",
   "name": "python3"
  },
  "language_info": {
   "codemirror_mode": {
    "name": "ipython",
    "version": 3
   },
   "file_extension": ".py",
   "mimetype": "text/x-python",
   "name": "python",
   "nbconvert_exporter": "python",
   "pygments_lexer": "ipython3",
   "version": "3.7.1"
  },
  "widgets": {
   "application/vnd.jupyter.widget-state+json": {
    "0303e364915741cca60cf96ee4263db5": {
     "model_module": "@jupyter-widgets/base",
     "model_module_version": "1.2.0",
     "model_name": "LayoutModel",
     "state": {
      "_model_module": "@jupyter-widgets/base",
      "_model_module_version": "1.2.0",
      "_model_name": "LayoutModel",
      "_view_count": null,
      "_view_module": "@jupyter-widgets/base",
      "_view_module_version": "1.2.0",
      "_view_name": "LayoutView",
      "align_content": null,
      "align_items": null,
      "align_self": null,
      "border": null,
      "bottom": null,
      "display": null,
      "flex": null,
      "flex_flow": null,
      "grid_area": null,
      "grid_auto_columns": null,
      "grid_auto_flow": null,
      "grid_auto_rows": null,
      "grid_column": null,
      "grid_gap": null,
      "grid_row": null,
      "grid_template_areas": null,
      "grid_template_columns": null,
      "grid_template_rows": null,
      "height": null,
      "justify_content": null,
      "justify_items": null,
      "left": null,
      "margin": null,
      "max_height": null,
      "max_width": null,
      "min_height": null,
      "min_width": null,
      "object_fit": null,
      "object_position": null,
      "order": null,
      "overflow": null,
      "overflow_x": null,
      "overflow_y": null,
      "padding": null,
      "right": null,
      "top": null,
      "visibility": null,
      "width": null
     }
    },
    "03b0b855b9624538a5cff3fb3d3de278": {
     "model_module": "@jupyter-widgets/controls",
     "model_module_version": "1.5.0",
     "model_name": "HTMLModel",
     "state": {
      "_dom_classes": [],
      "_model_module": "@jupyter-widgets/controls",
      "_model_module_version": "1.5.0",
      "_model_name": "HTMLModel",
      "_view_count": null,
      "_view_module": "@jupyter-widgets/controls",
      "_view_module_version": "1.5.0",
      "_view_name": "HTMLView",
      "description": "",
      "description_tooltip": null,
      "layout": "IPY_MODEL_fc9e246631824acd8208b855da413273",
      "placeholder": "​",
      "style": "IPY_MODEL_567a719be0c14cdcaaeacebb8d903d1f",
      "value": " 1/1 [00:00&lt;00:00,  9.53ba/s]"
     }
    },
    "04c886721df5497dbe17816338a6f859": {
     "model_module": "@jupyter-widgets/controls",
     "model_module_version": "1.5.0",
     "model_name": "HTMLModel",
     "state": {
      "_dom_classes": [],
      "_model_module": "@jupyter-widgets/controls",
      "_model_module_version": "1.5.0",
      "_model_name": "HTMLModel",
      "_view_count": null,
      "_view_module": "@jupyter-widgets/controls",
      "_view_module_version": "1.5.0",
      "_view_name": "HTMLView",
      "description": "",
      "description_tooltip": null,
      "layout": "IPY_MODEL_4c7a398f08784d59a519be375e386bc9",
      "placeholder": "​",
      "style": "IPY_MODEL_75d40e3c3cf2434eba067f88067b31e3",
      "value": " 3/3 [00:00&lt;00:00, 73.36it/s]"
     }
    },
    "0c2eeae4c6d24b46b2f2a274847d4a4c": {
     "model_module": "@jupyter-widgets/base",
     "model_module_version": "1.2.0",
     "model_name": "LayoutModel",
     "state": {
      "_model_module": "@jupyter-widgets/base",
      "_model_module_version": "1.2.0",
      "_model_name": "LayoutModel",
      "_view_count": null,
      "_view_module": "@jupyter-widgets/base",
      "_view_module_version": "1.2.0",
      "_view_name": "LayoutView",
      "align_content": null,
      "align_items": null,
      "align_self": null,
      "border": null,
      "bottom": null,
      "display": null,
      "flex": null,
      "flex_flow": null,
      "grid_area": null,
      "grid_auto_columns": null,
      "grid_auto_flow": null,
      "grid_auto_rows": null,
      "grid_column": null,
      "grid_gap": null,
      "grid_row": null,
      "grid_template_areas": null,
      "grid_template_columns": null,
      "grid_template_rows": null,
      "height": null,
      "justify_content": null,
      "justify_items": null,
      "left": null,
      "margin": null,
      "max_height": null,
      "max_width": null,
      "min_height": null,
      "min_width": null,
      "object_fit": null,
      "object_position": null,
      "order": null,
      "overflow": null,
      "overflow_x": null,
      "overflow_y": null,
      "padding": null,
      "right": null,
      "top": null,
      "visibility": null,
      "width": null
     }
    },
    "11b4e597b21947cda0f5b8403a7a0018": {
     "model_module": "@jupyter-widgets/controls",
     "model_module_version": "1.5.0",
     "model_name": "FloatProgressModel",
     "state": {
      "_dom_classes": [],
      "_model_module": "@jupyter-widgets/controls",
      "_model_module_version": "1.5.0",
      "_model_name": "FloatProgressModel",
      "_view_count": null,
      "_view_module": "@jupyter-widgets/controls",
      "_view_module_version": "1.5.0",
      "_view_name": "ProgressView",
      "bar_style": "success",
      "description": "",
      "description_tooltip": null,
      "layout": "IPY_MODEL_0c2eeae4c6d24b46b2f2a274847d4a4c",
      "max": 226150,
      "min": 0,
      "orientation": "horizontal",
      "style": "IPY_MODEL_f9220ee3bb3c494fbdb8ccf9d931b045",
      "value": 226150
     }
    },
    "140dbe118d1b4e759976ac308760641a": {
     "model_module": "@jupyter-widgets/controls",
     "model_module_version": "1.5.0",
     "model_name": "DescriptionStyleModel",
     "state": {
      "_model_module": "@jupyter-widgets/controls",
      "_model_module_version": "1.5.0",
      "_model_name": "DescriptionStyleModel",
      "_view_count": null,
      "_view_module": "@jupyter-widgets/base",
      "_view_module_version": "1.2.0",
      "_view_name": "StyleView",
      "description_width": ""
     }
    },
    "15d9142d783543128cd29c131b10196f": {
     "model_module": "@jupyter-widgets/controls",
     "model_module_version": "1.5.0",
     "model_name": "HBoxModel",
     "state": {
      "_dom_classes": [],
      "_model_module": "@jupyter-widgets/controls",
      "_model_module_version": "1.5.0",
      "_model_name": "HBoxModel",
      "_view_count": null,
      "_view_module": "@jupyter-widgets/controls",
      "_view_module_version": "1.5.0",
      "_view_name": "HBoxView",
      "box_style": "",
      "children": [
       "IPY_MODEL_9bee536f8156458b9dee921504702b26",
       "IPY_MODEL_305f36cc08c34290853ec6d337a9fa62",
       "IPY_MODEL_608640443e84480598cf0477eba609a3"
      ],
      "layout": "IPY_MODEL_8e118f8f502b4b51bd4086815a4640de"
     }
    },
    "16bffc88a8eb428bbfd3d544efc95da3": {
     "model_module": "@jupyter-widgets/controls",
     "model_module_version": "1.5.0",
     "model_name": "HTMLModel",
     "state": {
      "_dom_classes": [],
      "_model_module": "@jupyter-widgets/controls",
      "_model_module_version": "1.5.0",
      "_model_name": "HTMLModel",
      "_view_count": null,
      "_view_module": "@jupyter-widgets/controls",
      "_view_module_version": "1.5.0",
      "_view_name": "HTMLView",
      "description": "",
      "description_tooltip": null,
      "layout": "IPY_MODEL_d2df1b07e0e144a99c21eb40216ed6e3",
      "placeholder": "​",
      "style": "IPY_MODEL_2842aa161c2a4634985308a1f783a0f1",
      "value": "Downloading: 100%"
     }
    },
    "1b5fb416ff1e413d855cf32edf289b17": {
     "model_module": "@jupyter-widgets/controls",
     "model_module_version": "1.5.0",
     "model_name": "HTMLModel",
     "state": {
      "_dom_classes": [],
      "_model_module": "@jupyter-widgets/controls",
      "_model_module_version": "1.5.0",
      "_model_name": "HTMLModel",
      "_view_count": null,
      "_view_module": "@jupyter-widgets/controls",
      "_view_module_version": "1.5.0",
      "_view_name": "HTMLView",
      "description": "",
      "description_tooltip": null,
      "layout": "IPY_MODEL_f60a9bbf94e64b2fba3c980c3dcfa6ee",
      "placeholder": "​",
      "style": "IPY_MODEL_f3833ba786a7450ea6c6837d7bf4fd5e",
      "value": "100%"
     }
    },
    "1b9e0e86711a45068a899f57f8e08518": {
     "model_module": "@jupyter-widgets/controls",
     "model_module_version": "1.5.0",
     "model_name": "HTMLModel",
     "state": {
      "_dom_classes": [],
      "_model_module": "@jupyter-widgets/controls",
      "_model_module_version": "1.5.0",
      "_model_name": "HTMLModel",
      "_view_count": null,
      "_view_module": "@jupyter-widgets/controls",
      "_view_module_version": "1.5.0",
      "_view_name": "HTMLView",
      "description": "",
      "description_tooltip": null,
      "layout": "IPY_MODEL_fe5c85b9fbd543f29893495ac8c42b27",
      "placeholder": "​",
      "style": "IPY_MODEL_869a2773da074e3aadd59d6f1248287f",
      "value": "Downloading: "
     }
    },
    "1cd42493d86f49de85d4287f2d09a890": {
     "model_module": "@jupyter-widgets/base",
     "model_module_version": "1.2.0",
     "model_name": "LayoutModel",
     "state": {
      "_model_module": "@jupyter-widgets/base",
      "_model_module_version": "1.2.0",
      "_model_name": "LayoutModel",
      "_view_count": null,
      "_view_module": "@jupyter-widgets/base",
      "_view_module_version": "1.2.0",
      "_view_name": "LayoutView",
      "align_content": null,
      "align_items": null,
      "align_self": null,
      "border": null,
      "bottom": null,
      "display": null,
      "flex": null,
      "flex_flow": null,
      "grid_area": null,
      "grid_auto_columns": null,
      "grid_auto_flow": null,
      "grid_auto_rows": null,
      "grid_column": null,
      "grid_gap": null,
      "grid_row": null,
      "grid_template_areas": null,
      "grid_template_columns": null,
      "grid_template_rows": null,
      "height": null,
      "justify_content": null,
      "justify_items": null,
      "left": null,
      "margin": null,
      "max_height": null,
      "max_width": null,
      "min_height": null,
      "min_width": null,
      "object_fit": null,
      "object_position": null,
      "order": null,
      "overflow": null,
      "overflow_x": null,
      "overflow_y": null,
      "padding": null,
      "right": null,
      "top": null,
      "visibility": null,
      "width": null
     }
    },
    "1f40f1100b5c4e0e9ec7469d85052324": {
     "model_module": "@jupyter-widgets/controls",
     "model_module_version": "1.5.0",
     "model_name": "DescriptionStyleModel",
     "state": {
      "_model_module": "@jupyter-widgets/controls",
      "_model_module_version": "1.5.0",
      "_model_name": "DescriptionStyleModel",
      "_view_count": null,
      "_view_module": "@jupyter-widgets/base",
      "_view_module_version": "1.2.0",
      "_view_name": "StyleView",
      "description_width": ""
     }
    },
    "1fb5f18968f5492a96b51de1e1c0d4fb": {
     "model_module": "@jupyter-widgets/controls",
     "model_module_version": "1.5.0",
     "model_name": "DescriptionStyleModel",
     "state": {
      "_model_module": "@jupyter-widgets/controls",
      "_model_module_version": "1.5.0",
      "_model_name": "DescriptionStyleModel",
      "_view_count": null,
      "_view_module": "@jupyter-widgets/base",
      "_view_module_version": "1.2.0",
      "_view_name": "StyleView",
      "description_width": ""
     }
    },
    "2110fc3b0536435597a0816a73d92345": {
     "model_module": "@jupyter-widgets/base",
     "model_module_version": "1.2.0",
     "model_name": "LayoutModel",
     "state": {
      "_model_module": "@jupyter-widgets/base",
      "_model_module_version": "1.2.0",
      "_model_name": "LayoutModel",
      "_view_count": null,
      "_view_module": "@jupyter-widgets/base",
      "_view_module_version": "1.2.0",
      "_view_name": "LayoutView",
      "align_content": null,
      "align_items": null,
      "align_self": null,
      "border": null,
      "bottom": null,
      "display": null,
      "flex": null,
      "flex_flow": null,
      "grid_area": null,
      "grid_auto_columns": null,
      "grid_auto_flow": null,
      "grid_auto_rows": null,
      "grid_column": null,
      "grid_gap": null,
      "grid_row": null,
      "grid_template_areas": null,
      "grid_template_columns": null,
      "grid_template_rows": null,
      "height": null,
      "justify_content": null,
      "justify_items": null,
      "left": null,
      "margin": null,
      "max_height": null,
      "max_width": null,
      "min_height": null,
      "min_width": null,
      "object_fit": null,
      "object_position": null,
      "order": null,
      "overflow": null,
      "overflow_x": null,
      "overflow_y": null,
      "padding": null,
      "right": null,
      "top": null,
      "visibility": null,
      "width": null
     }
    },
    "2265d2a6274e44b787b29c899a44f4c1": {
     "model_module": "@jupyter-widgets/base",
     "model_module_version": "1.2.0",
     "model_name": "LayoutModel",
     "state": {
      "_model_module": "@jupyter-widgets/base",
      "_model_module_version": "1.2.0",
      "_model_name": "LayoutModel",
      "_view_count": null,
      "_view_module": "@jupyter-widgets/base",
      "_view_module_version": "1.2.0",
      "_view_name": "LayoutView",
      "align_content": null,
      "align_items": null,
      "align_self": null,
      "border": null,
      "bottom": null,
      "display": null,
      "flex": null,
      "flex_flow": null,
      "grid_area": null,
      "grid_auto_columns": null,
      "grid_auto_flow": null,
      "grid_auto_rows": null,
      "grid_column": null,
      "grid_gap": null,
      "grid_row": null,
      "grid_template_areas": null,
      "grid_template_columns": null,
      "grid_template_rows": null,
      "height": null,
      "justify_content": null,
      "justify_items": null,
      "left": null,
      "margin": null,
      "max_height": null,
      "max_width": null,
      "min_height": null,
      "min_width": null,
      "object_fit": null,
      "object_position": null,
      "order": null,
      "overflow": null,
      "overflow_x": null,
      "overflow_y": null,
      "padding": null,
      "right": null,
      "top": null,
      "visibility": null,
      "width": null
     }
    },
    "23e6d3038a224584b5febb69b0e1c36c": {
     "model_module": "@jupyter-widgets/base",
     "model_module_version": "1.2.0",
     "model_name": "LayoutModel",
     "state": {
      "_model_module": "@jupyter-widgets/base",
      "_model_module_version": "1.2.0",
      "_model_name": "LayoutModel",
      "_view_count": null,
      "_view_module": "@jupyter-widgets/base",
      "_view_module_version": "1.2.0",
      "_view_name": "LayoutView",
      "align_content": null,
      "align_items": null,
      "align_self": null,
      "border": null,
      "bottom": null,
      "display": null,
      "flex": null,
      "flex_flow": null,
      "grid_area": null,
      "grid_auto_columns": null,
      "grid_auto_flow": null,
      "grid_auto_rows": null,
      "grid_column": null,
      "grid_gap": null,
      "grid_row": null,
      "grid_template_areas": null,
      "grid_template_columns": null,
      "grid_template_rows": null,
      "height": null,
      "justify_content": null,
      "justify_items": null,
      "left": null,
      "margin": null,
      "max_height": null,
      "max_width": null,
      "min_height": null,
      "min_width": null,
      "object_fit": null,
      "object_position": null,
      "order": null,
      "overflow": null,
      "overflow_x": null,
      "overflow_y": null,
      "padding": null,
      "right": null,
      "top": null,
      "visibility": null,
      "width": null
     }
    },
    "2576c3d88e1f4dc680b07ed20ff8038c": {
     "model_module": "@jupyter-widgets/controls",
     "model_module_version": "1.5.0",
     "model_name": "HBoxModel",
     "state": {
      "_dom_classes": [],
      "_model_module": "@jupyter-widgets/controls",
      "_model_module_version": "1.5.0",
      "_model_name": "HBoxModel",
      "_view_count": null,
      "_view_module": "@jupyter-widgets/controls",
      "_view_module_version": "1.5.0",
      "_view_name": "HBoxView",
      "box_style": "",
      "children": [
       "IPY_MODEL_da7d54f239af4e83bfb8e0b6b3feaec0",
       "IPY_MODEL_60779f5b931645fbbc71026c5bf36278",
       "IPY_MODEL_03b0b855b9624538a5cff3fb3d3de278"
      ],
      "layout": "IPY_MODEL_1cd42493d86f49de85d4287f2d09a890"
     }
    },
    "259d0e61165d4e16ba77212f51487186": {
     "model_module": "@jupyter-widgets/base",
     "model_module_version": "1.2.0",
     "model_name": "LayoutModel",
     "state": {
      "_model_module": "@jupyter-widgets/base",
      "_model_module_version": "1.2.0",
      "_model_name": "LayoutModel",
      "_view_count": null,
      "_view_module": "@jupyter-widgets/base",
      "_view_module_version": "1.2.0",
      "_view_name": "LayoutView",
      "align_content": null,
      "align_items": null,
      "align_self": null,
      "border": null,
      "bottom": null,
      "display": null,
      "flex": null,
      "flex_flow": null,
      "grid_area": null,
      "grid_auto_columns": null,
      "grid_auto_flow": null,
      "grid_auto_rows": null,
      "grid_column": null,
      "grid_gap": null,
      "grid_row": null,
      "grid_template_areas": null,
      "grid_template_columns": null,
      "grid_template_rows": null,
      "height": null,
      "justify_content": null,
      "justify_items": null,
      "left": null,
      "margin": null,
      "max_height": null,
      "max_width": null,
      "min_height": null,
      "min_width": null,
      "object_fit": null,
      "object_position": null,
      "order": null,
      "overflow": null,
      "overflow_x": null,
      "overflow_y": null,
      "padding": null,
      "right": null,
      "top": null,
      "visibility": null,
      "width": null
     }
    },
    "25ac361b61f54c4e8b1f7e91fcad30d7": {
     "model_module": "@jupyter-widgets/controls",
     "model_module_version": "1.5.0",
     "model_name": "HBoxModel",
     "state": {
      "_dom_classes": [],
      "_model_module": "@jupyter-widgets/controls",
      "_model_module_version": "1.5.0",
      "_model_name": "HBoxModel",
      "_view_count": null,
      "_view_module": "@jupyter-widgets/controls",
      "_view_module_version": "1.5.0",
      "_view_name": "HBoxView",
      "box_style": "",
      "children": [
       "IPY_MODEL_bd249b1f1e6d4b3a86c12370aa9d490f",
       "IPY_MODEL_8f782208def94e52b7e0e5fc4a99c592",
       "IPY_MODEL_04c886721df5497dbe17816338a6f859"
      ],
      "layout": "IPY_MODEL_c46db95e76e84286b5e3d03297ef794c"
     }
    },
    "2842aa161c2a4634985308a1f783a0f1": {
     "model_module": "@jupyter-widgets/controls",
     "model_module_version": "1.5.0",
     "model_name": "DescriptionStyleModel",
     "state": {
      "_model_module": "@jupyter-widgets/controls",
      "_model_module_version": "1.5.0",
      "_model_name": "DescriptionStyleModel",
      "_view_count": null,
      "_view_module": "@jupyter-widgets/base",
      "_view_module_version": "1.2.0",
      "_view_name": "StyleView",
      "description_width": ""
     }
    },
    "2f046b7838ef4d469310688cc6a12c0d": {
     "model_module": "@jupyter-widgets/controls",
     "model_module_version": "1.5.0",
     "model_name": "HTMLModel",
     "state": {
      "_dom_classes": [],
      "_model_module": "@jupyter-widgets/controls",
      "_model_module_version": "1.5.0",
      "_model_name": "HTMLModel",
      "_view_count": null,
      "_view_module": "@jupyter-widgets/controls",
      "_view_module_version": "1.5.0",
      "_view_name": "HTMLView",
      "description": "",
      "description_tooltip": null,
      "layout": "IPY_MODEL_60b51237afcd4a3fabe4b926c8bd03c3",
      "placeholder": "​",
      "style": "IPY_MODEL_1f40f1100b5c4e0e9ec7469d85052324",
      "value": "Downloading: 100%"
     }
    },
    "305f36cc08c34290853ec6d337a9fa62": {
     "model_module": "@jupyter-widgets/controls",
     "model_module_version": "1.5.0",
     "model_name": "FloatProgressModel",
     "state": {
      "_dom_classes": [],
      "_model_module": "@jupyter-widgets/controls",
      "_model_module_version": "1.5.0",
      "_model_name": "FloatProgressModel",
      "_view_count": null,
      "_view_module": "@jupyter-widgets/controls",
      "_view_module_version": "1.5.0",
      "_view_name": "ProgressView",
      "bar_style": "success",
      "description": "",
      "description_tooltip": null,
      "layout": "IPY_MODEL_3cdfc6b48e2d43b5bb3b0a96c986562b",
      "max": 385,
      "min": 0,
      "orientation": "horizontal",
      "style": "IPY_MODEL_a32836ef0e7241c9bb533d5d9a13e143",
      "value": 385
     }
    },
    "31b3e8fc77844aa080081fcbe23398d6": {
     "model_module": "@jupyter-widgets/controls",
     "model_module_version": "1.5.0",
     "model_name": "DescriptionStyleModel",
     "state": {
      "_model_module": "@jupyter-widgets/controls",
      "_model_module_version": "1.5.0",
      "_model_name": "DescriptionStyleModel",
      "_view_count": null,
      "_view_module": "@jupyter-widgets/base",
      "_view_module_version": "1.2.0",
      "_view_name": "StyleView",
      "description_width": ""
     }
    },
    "388caed079114e2eb10b9a65ca84ffcc": {
     "model_module": "@jupyter-widgets/controls",
     "model_module_version": "1.5.0",
     "model_name": "ProgressStyleModel",
     "state": {
      "_model_module": "@jupyter-widgets/controls",
      "_model_module_version": "1.5.0",
      "_model_name": "ProgressStyleModel",
      "_view_count": null,
      "_view_module": "@jupyter-widgets/base",
      "_view_module_version": "1.2.0",
      "_view_name": "StyleView",
      "bar_color": null,
      "description_width": ""
     }
    },
    "394b936e3cd043cab722c366fdeca863": {
     "model_module": "@jupyter-widgets/controls",
     "model_module_version": "1.5.0",
     "model_name": "DescriptionStyleModel",
     "state": {
      "_model_module": "@jupyter-widgets/controls",
      "_model_module_version": "1.5.0",
      "_model_name": "DescriptionStyleModel",
      "_view_count": null,
      "_view_module": "@jupyter-widgets/base",
      "_view_module_version": "1.2.0",
      "_view_name": "StyleView",
      "description_width": ""
     }
    },
    "3a3451443eb3455eb23eaac1d160f9d4": {
     "model_module": "@jupyter-widgets/controls",
     "model_module_version": "1.5.0",
     "model_name": "ProgressStyleModel",
     "state": {
      "_model_module": "@jupyter-widgets/controls",
      "_model_module_version": "1.5.0",
      "_model_name": "ProgressStyleModel",
      "_view_count": null,
      "_view_module": "@jupyter-widgets/base",
      "_view_module_version": "1.2.0",
      "_view_name": "StyleView",
      "bar_color": null,
      "description_width": ""
     }
    },
    "3b1ae2f3a6104a3498ccf1a1d7090c53": {
     "model_module": "@jupyter-widgets/controls",
     "model_module_version": "1.5.0",
     "model_name": "HBoxModel",
     "state": {
      "_dom_classes": [],
      "_model_module": "@jupyter-widgets/controls",
      "_model_module_version": "1.5.0",
      "_model_name": "HBoxModel",
      "_view_count": null,
      "_view_module": "@jupyter-widgets/controls",
      "_view_module_version": "1.5.0",
      "_view_name": "HBoxView",
      "box_style": "",
      "children": [
       "IPY_MODEL_16bffc88a8eb428bbfd3d544efc95da3",
       "IPY_MODEL_55e0e63410d447c0861bcccbba4be977",
       "IPY_MODEL_776efc0f188b4b10ba678b494562bc23"
      ],
      "layout": "IPY_MODEL_797b14975fd94c308d213c268d4ff0d8"
     }
    },
    "3bf8acf3d9544584848925ff69813a6e": {
     "model_module": "@jupyter-widgets/controls",
     "model_module_version": "1.5.0",
     "model_name": "HTMLModel",
     "state": {
      "_dom_classes": [],
      "_model_module": "@jupyter-widgets/controls",
      "_model_module_version": "1.5.0",
      "_model_name": "HTMLModel",
      "_view_count": null,
      "_view_module": "@jupyter-widgets/controls",
      "_view_module_version": "1.5.0",
      "_view_name": "HTMLView",
      "description": "",
      "description_tooltip": null,
      "layout": "IPY_MODEL_c52052720faf433989e2635291d2a26b",
      "placeholder": "​",
      "style": "IPY_MODEL_c6e7e6a3cc704ba896f1c00fd26c6884",
      "value": " 2/2 [00:00&lt;00:00,  2.98ba/s]"
     }
    },
    "3cdfc6b48e2d43b5bb3b0a96c986562b": {
     "model_module": "@jupyter-widgets/base",
     "model_module_version": "1.2.0",
     "model_name": "LayoutModel",
     "state": {
      "_model_module": "@jupyter-widgets/base",
      "_model_module_version": "1.2.0",
      "_model_name": "LayoutModel",
      "_view_count": null,
      "_view_module": "@jupyter-widgets/base",
      "_view_module_version": "1.2.0",
      "_view_name": "LayoutView",
      "align_content": null,
      "align_items": null,
      "align_self": null,
      "border": null,
      "bottom": null,
      "display": null,
      "flex": null,
      "flex_flow": null,
      "grid_area": null,
      "grid_auto_columns": null,
      "grid_auto_flow": null,
      "grid_auto_rows": null,
      "grid_column": null,
      "grid_gap": null,
      "grid_row": null,
      "grid_template_areas": null,
      "grid_template_columns": null,
      "grid_template_rows": null,
      "height": null,
      "justify_content": null,
      "justify_items": null,
      "left": null,
      "margin": null,
      "max_height": null,
      "max_width": null,
      "min_height": null,
      "min_width": null,
      "object_fit": null,
      "object_position": null,
      "order": null,
      "overflow": null,
      "overflow_x": null,
      "overflow_y": null,
      "padding": null,
      "right": null,
      "top": null,
      "visibility": null,
      "width": null
     }
    },
    "3d49e131175b4f50bc0a349580bc8a3c": {
     "model_module": "@jupyter-widgets/controls",
     "model_module_version": "1.5.0",
     "model_name": "HBoxModel",
     "state": {
      "_dom_classes": [],
      "_model_module": "@jupyter-widgets/controls",
      "_model_module_version": "1.5.0",
      "_model_name": "HBoxModel",
      "_view_count": null,
      "_view_module": "@jupyter-widgets/controls",
      "_view_module_version": "1.5.0",
      "_view_name": "HBoxView",
      "box_style": "",
      "children": [
       "IPY_MODEL_714291fc48b240c39bac96f7972ade36",
       "IPY_MODEL_11b4e597b21947cda0f5b8403a7a0018",
       "IPY_MODEL_a0725267a6c840c1908522a9c87933f7"
      ],
      "layout": "IPY_MODEL_88504949c31f4b8f958d0c35bc5e4850"
     }
    },
    "3f0851761efc46d4a15ea9cc8b1cb5c3": {
     "model_module": "@jupyter-widgets/controls",
     "model_module_version": "1.5.0",
     "model_name": "ProgressStyleModel",
     "state": {
      "_model_module": "@jupyter-widgets/controls",
      "_model_module_version": "1.5.0",
      "_model_name": "ProgressStyleModel",
      "_view_count": null,
      "_view_module": "@jupyter-widgets/base",
      "_view_module_version": "1.2.0",
      "_view_name": "StyleView",
      "bar_color": null,
      "description_width": ""
     }
    },
    "44c5b43f17424f4c97103602c2ca0af0": {
     "model_module": "@jupyter-widgets/base",
     "model_module_version": "1.2.0",
     "model_name": "LayoutModel",
     "state": {
      "_model_module": "@jupyter-widgets/base",
      "_model_module_version": "1.2.0",
      "_model_name": "LayoutModel",
      "_view_count": null,
      "_view_module": "@jupyter-widgets/base",
      "_view_module_version": "1.2.0",
      "_view_name": "LayoutView",
      "align_content": null,
      "align_items": null,
      "align_self": null,
      "border": null,
      "bottom": null,
      "display": null,
      "flex": null,
      "flex_flow": null,
      "grid_area": null,
      "grid_auto_columns": null,
      "grid_auto_flow": null,
      "grid_auto_rows": null,
      "grid_column": null,
      "grid_gap": null,
      "grid_row": null,
      "grid_template_areas": null,
      "grid_template_columns": null,
      "grid_template_rows": null,
      "height": null,
      "justify_content": null,
      "justify_items": null,
      "left": null,
      "margin": null,
      "max_height": null,
      "max_width": null,
      "min_height": null,
      "min_width": null,
      "object_fit": null,
      "object_position": null,
      "order": null,
      "overflow": null,
      "overflow_x": null,
      "overflow_y": null,
      "padding": null,
      "right": null,
      "top": null,
      "visibility": null,
      "width": null
     }
    },
    "48266e5b64c347859ee00967d43926c6": {
     "model_module": "@jupyter-widgets/controls",
     "model_module_version": "1.5.0",
     "model_name": "HBoxModel",
     "state": {
      "_dom_classes": [],
      "_model_module": "@jupyter-widgets/controls",
      "_model_module_version": "1.5.0",
      "_model_name": "HBoxModel",
      "_view_count": null,
      "_view_module": "@jupyter-widgets/controls",
      "_view_module_version": "1.5.0",
      "_view_name": "HBoxView",
      "box_style": "",
      "children": [
       "IPY_MODEL_dde1972b7a854edb813fc5d017369749",
       "IPY_MODEL_7f76d7b8210643b3a5f95d102bb43283",
       "IPY_MODEL_6ab30b4f36f947a7a9816af8df51a1c0"
      ],
      "layout": "IPY_MODEL_d2d23f2611394776b9d39955a04f074b"
     }
    },
    "4afaca67297748128d054cae5b5f97aa": {
     "model_module": "@jupyter-widgets/base",
     "model_module_version": "1.2.0",
     "model_name": "LayoutModel",
     "state": {
      "_model_module": "@jupyter-widgets/base",
      "_model_module_version": "1.2.0",
      "_model_name": "LayoutModel",
      "_view_count": null,
      "_view_module": "@jupyter-widgets/base",
      "_view_module_version": "1.2.0",
      "_view_name": "LayoutView",
      "align_content": null,
      "align_items": null,
      "align_self": null,
      "border": null,
      "bottom": null,
      "display": null,
      "flex": null,
      "flex_flow": null,
      "grid_area": null,
      "grid_auto_columns": null,
      "grid_auto_flow": null,
      "grid_auto_rows": null,
      "grid_column": null,
      "grid_gap": null,
      "grid_row": null,
      "grid_template_areas": null,
      "grid_template_columns": null,
      "grid_template_rows": null,
      "height": null,
      "justify_content": null,
      "justify_items": null,
      "left": null,
      "margin": null,
      "max_height": null,
      "max_width": null,
      "min_height": null,
      "min_width": null,
      "object_fit": null,
      "object_position": null,
      "order": null,
      "overflow": null,
      "overflow_x": null,
      "overflow_y": null,
      "padding": null,
      "right": null,
      "top": null,
      "visibility": null,
      "width": null
     }
    },
    "4c7a398f08784d59a519be375e386bc9": {
     "model_module": "@jupyter-widgets/base",
     "model_module_version": "1.2.0",
     "model_name": "LayoutModel",
     "state": {
      "_model_module": "@jupyter-widgets/base",
      "_model_module_version": "1.2.0",
      "_model_name": "LayoutModel",
      "_view_count": null,
      "_view_module": "@jupyter-widgets/base",
      "_view_module_version": "1.2.0",
      "_view_name": "LayoutView",
      "align_content": null,
      "align_items": null,
      "align_self": null,
      "border": null,
      "bottom": null,
      "display": null,
      "flex": null,
      "flex_flow": null,
      "grid_area": null,
      "grid_auto_columns": null,
      "grid_auto_flow": null,
      "grid_auto_rows": null,
      "grid_column": null,
      "grid_gap": null,
      "grid_row": null,
      "grid_template_areas": null,
      "grid_template_columns": null,
      "grid_template_rows": null,
      "height": null,
      "justify_content": null,
      "justify_items": null,
      "left": null,
      "margin": null,
      "max_height": null,
      "max_width": null,
      "min_height": null,
      "min_width": null,
      "object_fit": null,
      "object_position": null,
      "order": null,
      "overflow": null,
      "overflow_x": null,
      "overflow_y": null,
      "padding": null,
      "right": null,
      "top": null,
      "visibility": null,
      "width": null
     }
    },
    "4dc3c5e6224b497f8354de992a1384b0": {
     "model_module": "@jupyter-widgets/base",
     "model_module_version": "1.2.0",
     "model_name": "LayoutModel",
     "state": {
      "_model_module": "@jupyter-widgets/base",
      "_model_module_version": "1.2.0",
      "_model_name": "LayoutModel",
      "_view_count": null,
      "_view_module": "@jupyter-widgets/base",
      "_view_module_version": "1.2.0",
      "_view_name": "LayoutView",
      "align_content": null,
      "align_items": null,
      "align_self": null,
      "border": null,
      "bottom": null,
      "display": null,
      "flex": null,
      "flex_flow": null,
      "grid_area": null,
      "grid_auto_columns": null,
      "grid_auto_flow": null,
      "grid_auto_rows": null,
      "grid_column": null,
      "grid_gap": null,
      "grid_row": null,
      "grid_template_areas": null,
      "grid_template_columns": null,
      "grid_template_rows": null,
      "height": null,
      "justify_content": null,
      "justify_items": null,
      "left": null,
      "margin": null,
      "max_height": null,
      "max_width": null,
      "min_height": null,
      "min_width": null,
      "object_fit": null,
      "object_position": null,
      "order": null,
      "overflow": null,
      "overflow_x": null,
      "overflow_y": null,
      "padding": null,
      "right": null,
      "top": null,
      "visibility": null,
      "width": null
     }
    },
    "5108f5f57a6549b3987241aa997a4c0d": {
     "model_module": "@jupyter-widgets/controls",
     "model_module_version": "1.5.0",
     "model_name": "FloatProgressModel",
     "state": {
      "_dom_classes": [],
      "_model_module": "@jupyter-widgets/controls",
      "_model_module_version": "1.5.0",
      "_model_name": "FloatProgressModel",
      "_view_count": null,
      "_view_module": "@jupyter-widgets/controls",
      "_view_module_version": "1.5.0",
      "_view_name": "ProgressView",
      "bar_style": "success",
      "description": "",
      "description_tooltip": null,
      "layout": "IPY_MODEL_a00f90801f054b9189c85b4a118e452a",
      "max": 12,
      "min": 0,
      "orientation": "horizontal",
      "style": "IPY_MODEL_e2fbbe70fb154ffc8fe3a16b8bd1c1bf",
      "value": 12
     }
    },
    "5137354c74b04f54adb4f69b263d1835": {
     "model_module": "@jupyter-widgets/controls",
     "model_module_version": "1.5.0",
     "model_name": "DescriptionStyleModel",
     "state": {
      "_model_module": "@jupyter-widgets/controls",
      "_model_module_version": "1.5.0",
      "_model_name": "DescriptionStyleModel",
      "_view_count": null,
      "_view_module": "@jupyter-widgets/base",
      "_view_module_version": "1.2.0",
      "_view_name": "StyleView",
      "description_width": ""
     }
    },
    "55e0e63410d447c0861bcccbba4be977": {
     "model_module": "@jupyter-widgets/controls",
     "model_module_version": "1.5.0",
     "model_name": "FloatProgressModel",
     "state": {
      "_dom_classes": [],
      "_model_module": "@jupyter-widgets/controls",
      "_model_module_version": "1.5.0",
      "_model_name": "FloatProgressModel",
      "_view_count": null,
      "_view_module": "@jupyter-widgets/controls",
      "_view_module_version": "1.5.0",
      "_view_name": "ProgressView",
      "bar_style": "success",
      "description": "",
      "description_tooltip": null,
      "layout": "IPY_MODEL_bc53cbfe3c03467893b766c39fa19e19",
      "max": 440474434,
      "min": 0,
      "orientation": "horizontal",
      "style": "IPY_MODEL_c9ee10818a1c499b95c28970f4a28783",
      "value": 440474434
     }
    },
    "567a719be0c14cdcaaeacebb8d903d1f": {
     "model_module": "@jupyter-widgets/controls",
     "model_module_version": "1.5.0",
     "model_name": "DescriptionStyleModel",
     "state": {
      "_model_module": "@jupyter-widgets/controls",
      "_model_module_version": "1.5.0",
      "_model_name": "DescriptionStyleModel",
      "_view_count": null,
      "_view_module": "@jupyter-widgets/base",
      "_view_module_version": "1.2.0",
      "_view_name": "StyleView",
      "description_width": ""
     }
    },
    "57b3e0ef7e334ed2b3bf4f7a3ce7d433": {
     "model_module": "@jupyter-widgets/base",
     "model_module_version": "1.2.0",
     "model_name": "LayoutModel",
     "state": {
      "_model_module": "@jupyter-widgets/base",
      "_model_module_version": "1.2.0",
      "_model_name": "LayoutModel",
      "_view_count": null,
      "_view_module": "@jupyter-widgets/base",
      "_view_module_version": "1.2.0",
      "_view_name": "LayoutView",
      "align_content": null,
      "align_items": null,
      "align_self": null,
      "border": null,
      "bottom": null,
      "display": null,
      "flex": null,
      "flex_flow": null,
      "grid_area": null,
      "grid_auto_columns": null,
      "grid_auto_flow": null,
      "grid_auto_rows": null,
      "grid_column": null,
      "grid_gap": null,
      "grid_row": null,
      "grid_template_areas": null,
      "grid_template_columns": null,
      "grid_template_rows": null,
      "height": null,
      "justify_content": null,
      "justify_items": null,
      "left": null,
      "margin": null,
      "max_height": null,
      "max_width": null,
      "min_height": null,
      "min_width": null,
      "object_fit": null,
      "object_position": null,
      "order": null,
      "overflow": null,
      "overflow_x": null,
      "overflow_y": null,
      "padding": null,
      "right": null,
      "top": null,
      "visibility": null,
      "width": null
     }
    },
    "5ce9850feb5241c693b9d86e24021f0c": {
     "model_module": "@jupyter-widgets/base",
     "model_module_version": "1.2.0",
     "model_name": "LayoutModel",
     "state": {
      "_model_module": "@jupyter-widgets/base",
      "_model_module_version": "1.2.0",
      "_model_name": "LayoutModel",
      "_view_count": null,
      "_view_module": "@jupyter-widgets/base",
      "_view_module_version": "1.2.0",
      "_view_name": "LayoutView",
      "align_content": null,
      "align_items": null,
      "align_self": null,
      "border": null,
      "bottom": null,
      "display": null,
      "flex": null,
      "flex_flow": null,
      "grid_area": null,
      "grid_auto_columns": null,
      "grid_auto_flow": null,
      "grid_auto_rows": null,
      "grid_column": null,
      "grid_gap": null,
      "grid_row": null,
      "grid_template_areas": null,
      "grid_template_columns": null,
      "grid_template_rows": null,
      "height": null,
      "justify_content": null,
      "justify_items": null,
      "left": null,
      "margin": null,
      "max_height": null,
      "max_width": null,
      "min_height": null,
      "min_width": null,
      "object_fit": null,
      "object_position": null,
      "order": null,
      "overflow": null,
      "overflow_x": null,
      "overflow_y": null,
      "padding": null,
      "right": null,
      "top": null,
      "visibility": null,
      "width": null
     }
    },
    "60779f5b931645fbbc71026c5bf36278": {
     "model_module": "@jupyter-widgets/controls",
     "model_module_version": "1.5.0",
     "model_name": "FloatProgressModel",
     "state": {
      "_dom_classes": [],
      "_model_module": "@jupyter-widgets/controls",
      "_model_module_version": "1.5.0",
      "_model_name": "FloatProgressModel",
      "_view_count": null,
      "_view_module": "@jupyter-widgets/controls",
      "_view_module_version": "1.5.0",
      "_view_name": "ProgressView",
      "bar_style": "success",
      "description": "",
      "description_tooltip": null,
      "layout": "IPY_MODEL_740afdabaf5b471cae6893722104c3cc",
      "max": 1,
      "min": 0,
      "orientation": "horizontal",
      "style": "IPY_MODEL_61a0eb077eb246e893802979da9f58c0",
      "value": 1
     }
    },
    "608640443e84480598cf0477eba609a3": {
     "model_module": "@jupyter-widgets/controls",
     "model_module_version": "1.5.0",
     "model_name": "HTMLModel",
     "state": {
      "_dom_classes": [],
      "_model_module": "@jupyter-widgets/controls",
      "_model_module_version": "1.5.0",
      "_model_name": "HTMLModel",
      "_view_count": null,
      "_view_module": "@jupyter-widgets/controls",
      "_view_module_version": "1.5.0",
      "_view_name": "HTMLView",
      "description": "",
      "description_tooltip": null,
      "layout": "IPY_MODEL_772c75c6b5e64f31bf1af422ad0b11bf",
      "placeholder": "​",
      "style": "IPY_MODEL_efb9c693b43b4bcf835a4c60a71a10de",
      "value": " 385/385 [00:00&lt;00:00, 9.59kB/s]"
     }
    },
    "60b51237afcd4a3fabe4b926c8bd03c3": {
     "model_module": "@jupyter-widgets/base",
     "model_module_version": "1.2.0",
     "model_name": "LayoutModel",
     "state": {
      "_model_module": "@jupyter-widgets/base",
      "_model_module_version": "1.2.0",
      "_model_name": "LayoutModel",
      "_view_count": null,
      "_view_module": "@jupyter-widgets/base",
      "_view_module_version": "1.2.0",
      "_view_name": "LayoutView",
      "align_content": null,
      "align_items": null,
      "align_self": null,
      "border": null,
      "bottom": null,
      "display": null,
      "flex": null,
      "flex_flow": null,
      "grid_area": null,
      "grid_auto_columns": null,
      "grid_auto_flow": null,
      "grid_auto_rows": null,
      "grid_column": null,
      "grid_gap": null,
      "grid_row": null,
      "grid_template_areas": null,
      "grid_template_columns": null,
      "grid_template_rows": null,
      "height": null,
      "justify_content": null,
      "justify_items": null,
      "left": null,
      "margin": null,
      "max_height": null,
      "max_width": null,
      "min_height": null,
      "min_width": null,
      "object_fit": null,
      "object_position": null,
      "order": null,
      "overflow": null,
      "overflow_x": null,
      "overflow_y": null,
      "padding": null,
      "right": null,
      "top": null,
      "visibility": null,
      "width": null
     }
    },
    "61a0eb077eb246e893802979da9f58c0": {
     "model_module": "@jupyter-widgets/controls",
     "model_module_version": "1.5.0",
     "model_name": "ProgressStyleModel",
     "state": {
      "_model_module": "@jupyter-widgets/controls",
      "_model_module_version": "1.5.0",
      "_model_name": "ProgressStyleModel",
      "_view_count": null,
      "_view_module": "@jupyter-widgets/base",
      "_view_module_version": "1.2.0",
      "_view_name": "StyleView",
      "bar_color": null,
      "description_width": ""
     }
    },
    "61c0608314a0496f95c808eeae371a93": {
     "model_module": "@jupyter-widgets/controls",
     "model_module_version": "1.5.0",
     "model_name": "PasswordModel",
     "state": {
      "_dom_classes": [],
      "_model_module": "@jupyter-widgets/controls",
      "_model_module_version": "1.5.0",
      "_model_name": "PasswordModel",
      "_view_count": null,
      "_view_module": "@jupyter-widgets/controls",
      "_view_module_version": "1.5.0",
      "_view_name": "PasswordView",
      "continuous_update": true,
      "description": "Password:",
      "description_tooltip": null,
      "disabled": false,
      "layout": "IPY_MODEL_0303e364915741cca60cf96ee4263db5",
      "placeholder": "​",
      "style": "IPY_MODEL_fec89c3d2a444988929d7354586750e0",
      "value": ""
     }
    },
    "62661c612b82495bab5b0c1cbe1a54f6": {
     "model_module": "@jupyter-widgets/base",
     "model_module_version": "1.2.0",
     "model_name": "LayoutModel",
     "state": {
      "_model_module": "@jupyter-widgets/base",
      "_model_module_version": "1.2.0",
      "_model_name": "LayoutModel",
      "_view_count": null,
      "_view_module": "@jupyter-widgets/base",
      "_view_module_version": "1.2.0",
      "_view_name": "LayoutView",
      "align_content": null,
      "align_items": null,
      "align_self": null,
      "border": null,
      "bottom": null,
      "display": null,
      "flex": null,
      "flex_flow": null,
      "grid_area": null,
      "grid_auto_columns": null,
      "grid_auto_flow": null,
      "grid_auto_rows": null,
      "grid_column": null,
      "grid_gap": null,
      "grid_row": null,
      "grid_template_areas": null,
      "grid_template_columns": null,
      "grid_template_rows": null,
      "height": null,
      "justify_content": null,
      "justify_items": null,
      "left": null,
      "margin": null,
      "max_height": null,
      "max_width": null,
      "min_height": null,
      "min_width": null,
      "object_fit": null,
      "object_position": null,
      "order": null,
      "overflow": null,
      "overflow_x": null,
      "overflow_y": null,
      "padding": null,
      "right": null,
      "top": null,
      "visibility": null,
      "width": null
     }
    },
    "629f06d646264dcb968f970c4cfc1b5f": {
     "model_module": "@jupyter-widgets/controls",
     "model_module_version": "1.5.0",
     "model_name": "DescriptionStyleModel",
     "state": {
      "_model_module": "@jupyter-widgets/controls",
      "_model_module_version": "1.5.0",
      "_model_name": "DescriptionStyleModel",
      "_view_count": null,
      "_view_module": "@jupyter-widgets/base",
      "_view_module_version": "1.2.0",
      "_view_name": "StyleView",
      "description_width": ""
     }
    },
    "644393913a74451ca43d7a970fee4302": {
     "model_module": "@jupyter-widgets/controls",
     "model_module_version": "1.5.0",
     "model_name": "FloatProgressModel",
     "state": {
      "_dom_classes": [],
      "_model_module": "@jupyter-widgets/controls",
      "_model_module_version": "1.5.0",
      "_model_name": "FloatProgressModel",
      "_view_count": null,
      "_view_module": "@jupyter-widgets/controls",
      "_view_module_version": "1.5.0",
      "_view_name": "ProgressView",
      "bar_style": "success",
      "description": "",
      "description_tooltip": null,
      "layout": "IPY_MODEL_57b3e0ef7e334ed2b3bf4f7a3ce7d433",
      "max": 2,
      "min": 0,
      "orientation": "horizontal",
      "style": "IPY_MODEL_388caed079114e2eb10b9a65ca84ffcc",
      "value": 2
     }
    },
    "64fa91d7f9194fee8fe1ffdbdf03a1ea": {
     "model_module": "@jupyter-widgets/base",
     "model_module_version": "1.2.0",
     "model_name": "LayoutModel",
     "state": {
      "_model_module": "@jupyter-widgets/base",
      "_model_module_version": "1.2.0",
      "_model_name": "LayoutModel",
      "_view_count": null,
      "_view_module": "@jupyter-widgets/base",
      "_view_module_version": "1.2.0",
      "_view_name": "LayoutView",
      "align_content": null,
      "align_items": null,
      "align_self": null,
      "border": null,
      "bottom": null,
      "display": null,
      "flex": null,
      "flex_flow": null,
      "grid_area": null,
      "grid_auto_columns": null,
      "grid_auto_flow": null,
      "grid_auto_rows": null,
      "grid_column": null,
      "grid_gap": null,
      "grid_row": null,
      "grid_template_areas": null,
      "grid_template_columns": null,
      "grid_template_rows": null,
      "height": null,
      "justify_content": null,
      "justify_items": null,
      "left": null,
      "margin": null,
      "max_height": null,
      "max_width": null,
      "min_height": null,
      "min_width": null,
      "object_fit": null,
      "object_position": null,
      "order": null,
      "overflow": null,
      "overflow_x": null,
      "overflow_y": null,
      "padding": null,
      "right": null,
      "top": null,
      "visibility": null,
      "width": null
     }
    },
    "65d7340dede84e3281e7af8564cda247": {
     "model_module": "@jupyter-widgets/controls",
     "model_module_version": "1.5.0",
     "model_name": "TextModel",
     "state": {
      "_dom_classes": [],
      "_model_module": "@jupyter-widgets/controls",
      "_model_module_version": "1.5.0",
      "_model_name": "TextModel",
      "_view_count": null,
      "_view_module": "@jupyter-widgets/controls",
      "_view_module_version": "1.5.0",
      "_view_name": "TextView",
      "continuous_update": true,
      "description": "Username:",
      "description_tooltip": null,
      "disabled": false,
      "layout": "IPY_MODEL_8b9d4fca97c040ab85857171694570c6",
      "placeholder": "​",
      "style": "IPY_MODEL_31b3e8fc77844aa080081fcbe23398d6",
      "value": "thebigthreemvp@gmail.com"
     }
    },
    "6813c5dcea2c44669269a63a0782cdef": {
     "model_module": "@jupyter-widgets/controls",
     "model_module_version": "1.5.0",
     "model_name": "HBoxModel",
     "state": {
      "_dom_classes": [],
      "_model_module": "@jupyter-widgets/controls",
      "_model_module_version": "1.5.0",
      "_model_name": "HBoxModel",
      "_view_count": null,
      "_view_module": "@jupyter-widgets/controls",
      "_view_module_version": "1.5.0",
      "_view_name": "HBoxView",
      "box_style": "",
      "children": [
       "IPY_MODEL_2f046b7838ef4d469310688cc6a12c0d",
       "IPY_MODEL_cecf3310ef4849e2ac92eefd3650e47a",
       "IPY_MODEL_ea4691c517db4a02a7cad4b0c273e5bc"
      ],
      "layout": "IPY_MODEL_62661c612b82495bab5b0c1cbe1a54f6"
     }
    },
    "6a8ccef69a254cda916e741faf451b45": {
     "model_module": "@jupyter-widgets/controls",
     "model_module_version": "1.5.0",
     "model_name": "HBoxModel",
     "state": {
      "_dom_classes": [],
      "_model_module": "@jupyter-widgets/controls",
      "_model_module_version": "1.5.0",
      "_model_name": "HBoxModel",
      "_view_count": null,
      "_view_module": "@jupyter-widgets/controls",
      "_view_module_version": "1.5.0",
      "_view_name": "HBoxView",
      "box_style": "",
      "children": [
       "IPY_MODEL_fde9230c4a8149ddafd6070f05228f14",
       "IPY_MODEL_808c6f31ea884cd9a027e8761e669700",
       "IPY_MODEL_6d8ce074d36c46a1850b3ff8ff66fe26"
      ],
      "layout": "IPY_MODEL_c3b828d90e63485aa360be9d6a04504c"
     }
    },
    "6ab30b4f36f947a7a9816af8df51a1c0": {
     "model_module": "@jupyter-widgets/controls",
     "model_module_version": "1.5.0",
     "model_name": "HTMLModel",
     "state": {
      "_dom_classes": [],
      "_model_module": "@jupyter-widgets/controls",
      "_model_module_version": "1.5.0",
      "_model_name": "HTMLModel",
      "_view_count": null,
      "_view_module": "@jupyter-widgets/controls",
      "_view_module_version": "1.5.0",
      "_view_name": "HTMLView",
      "description": "",
      "description_tooltip": null,
      "layout": "IPY_MODEL_870497bf625f413c89ba6c92f138a4b0",
      "placeholder": "​",
      "style": "IPY_MODEL_629f06d646264dcb968f970c4cfc1b5f",
      "value": " 3/3 [00:00&lt;00:00, 55.91it/s]"
     }
    },
    "6c8c4601d6eb49be98220adc91f3c69f": {
     "model_module": "@jupyter-widgets/base",
     "model_module_version": "1.2.0",
     "model_name": "LayoutModel",
     "state": {
      "_model_module": "@jupyter-widgets/base",
      "_model_module_version": "1.2.0",
      "_model_name": "LayoutModel",
      "_view_count": null,
      "_view_module": "@jupyter-widgets/base",
      "_view_module_version": "1.2.0",
      "_view_name": "LayoutView",
      "align_content": null,
      "align_items": null,
      "align_self": null,
      "border": null,
      "bottom": null,
      "display": null,
      "flex": null,
      "flex_flow": null,
      "grid_area": null,
      "grid_auto_columns": null,
      "grid_auto_flow": null,
      "grid_auto_rows": null,
      "grid_column": null,
      "grid_gap": null,
      "grid_row": null,
      "grid_template_areas": null,
      "grid_template_columns": null,
      "grid_template_rows": null,
      "height": null,
      "justify_content": null,
      "justify_items": null,
      "left": null,
      "margin": null,
      "max_height": null,
      "max_width": null,
      "min_height": null,
      "min_width": null,
      "object_fit": null,
      "object_position": null,
      "order": null,
      "overflow": null,
      "overflow_x": null,
      "overflow_y": null,
      "padding": null,
      "right": null,
      "top": null,
      "visibility": null,
      "width": null
     }
    },
    "6d8ce074d36c46a1850b3ff8ff66fe26": {
     "model_module": "@jupyter-widgets/controls",
     "model_module_version": "1.5.0",
     "model_name": "HTMLModel",
     "state": {
      "_dom_classes": [],
      "_model_module": "@jupyter-widgets/controls",
      "_model_module_version": "1.5.0",
      "_model_name": "HTMLModel",
      "_view_count": null,
      "_view_module": "@jupyter-widgets/controls",
      "_view_module_version": "1.5.0",
      "_view_name": "HTMLView",
      "description": "",
      "description_tooltip": null,
      "layout": "IPY_MODEL_ea96da89533742899b320317ff15e22d",
      "placeholder": "​",
      "style": "IPY_MODEL_6f7935bc6b16481a81ef775e3a9d2118",
      "value": " 2/2 [00:00&lt;00:00,  5.83ba/s]"
     }
    },
    "6eb22e62480b4178b5392cd0bbbc6f61": {
     "model_module": "@jupyter-widgets/base",
     "model_module_version": "1.2.0",
     "model_name": "LayoutModel",
     "state": {
      "_model_module": "@jupyter-widgets/base",
      "_model_module_version": "1.2.0",
      "_model_name": "LayoutModel",
      "_view_count": null,
      "_view_module": "@jupyter-widgets/base",
      "_view_module_version": "1.2.0",
      "_view_name": "LayoutView",
      "align_content": null,
      "align_items": null,
      "align_self": null,
      "border": null,
      "bottom": null,
      "display": null,
      "flex": null,
      "flex_flow": null,
      "grid_area": null,
      "grid_auto_columns": null,
      "grid_auto_flow": null,
      "grid_auto_rows": null,
      "grid_column": null,
      "grid_gap": null,
      "grid_row": null,
      "grid_template_areas": null,
      "grid_template_columns": null,
      "grid_template_rows": null,
      "height": null,
      "justify_content": null,
      "justify_items": null,
      "left": null,
      "margin": null,
      "max_height": null,
      "max_width": null,
      "min_height": null,
      "min_width": null,
      "object_fit": null,
      "object_position": null,
      "order": null,
      "overflow": null,
      "overflow_x": null,
      "overflow_y": null,
      "padding": null,
      "right": null,
      "top": null,
      "visibility": null,
      "width": null
     }
    },
    "6f0765f108f34daaafddb61467aeb084": {
     "model_module": "@jupyter-widgets/base",
     "model_module_version": "1.2.0",
     "model_name": "LayoutModel",
     "state": {
      "_model_module": "@jupyter-widgets/base",
      "_model_module_version": "1.2.0",
      "_model_name": "LayoutModel",
      "_view_count": null,
      "_view_module": "@jupyter-widgets/base",
      "_view_module_version": "1.2.0",
      "_view_name": "LayoutView",
      "align_content": null,
      "align_items": null,
      "align_self": null,
      "border": null,
      "bottom": null,
      "display": null,
      "flex": null,
      "flex_flow": null,
      "grid_area": null,
      "grid_auto_columns": null,
      "grid_auto_flow": null,
      "grid_auto_rows": null,
      "grid_column": null,
      "grid_gap": null,
      "grid_row": null,
      "grid_template_areas": null,
      "grid_template_columns": null,
      "grid_template_rows": null,
      "height": null,
      "justify_content": null,
      "justify_items": null,
      "left": null,
      "margin": null,
      "max_height": null,
      "max_width": null,
      "min_height": null,
      "min_width": null,
      "object_fit": null,
      "object_position": null,
      "order": null,
      "overflow": null,
      "overflow_x": null,
      "overflow_y": null,
      "padding": null,
      "right": null,
      "top": null,
      "visibility": null,
      "width": null
     }
    },
    "6f7935bc6b16481a81ef775e3a9d2118": {
     "model_module": "@jupyter-widgets/controls",
     "model_module_version": "1.5.0",
     "model_name": "DescriptionStyleModel",
     "state": {
      "_model_module": "@jupyter-widgets/controls",
      "_model_module_version": "1.5.0",
      "_model_name": "DescriptionStyleModel",
      "_view_count": null,
      "_view_module": "@jupyter-widgets/base",
      "_view_module_version": "1.2.0",
      "_view_name": "StyleView",
      "description_width": ""
     }
    },
    "6fc6221395174cf3b19470e28f195d25": {
     "model_module": "@jupyter-widgets/base",
     "model_module_version": "1.2.0",
     "model_name": "LayoutModel",
     "state": {
      "_model_module": "@jupyter-widgets/base",
      "_model_module_version": "1.2.0",
      "_model_name": "LayoutModel",
      "_view_count": null,
      "_view_module": "@jupyter-widgets/base",
      "_view_module_version": "1.2.0",
      "_view_name": "LayoutView",
      "align_content": null,
      "align_items": null,
      "align_self": null,
      "border": null,
      "bottom": null,
      "display": null,
      "flex": null,
      "flex_flow": null,
      "grid_area": null,
      "grid_auto_columns": null,
      "grid_auto_flow": null,
      "grid_auto_rows": null,
      "grid_column": null,
      "grid_gap": null,
      "grid_row": null,
      "grid_template_areas": null,
      "grid_template_columns": null,
      "grid_template_rows": null,
      "height": null,
      "justify_content": null,
      "justify_items": null,
      "left": null,
      "margin": null,
      "max_height": null,
      "max_width": null,
      "min_height": null,
      "min_width": null,
      "object_fit": null,
      "object_position": null,
      "order": null,
      "overflow": null,
      "overflow_x": null,
      "overflow_y": null,
      "padding": null,
      "right": null,
      "top": null,
      "visibility": null,
      "width": null
     }
    },
    "714291fc48b240c39bac96f7972ade36": {
     "model_module": "@jupyter-widgets/controls",
     "model_module_version": "1.5.0",
     "model_name": "HTMLModel",
     "state": {
      "_dom_classes": [],
      "_model_module": "@jupyter-widgets/controls",
      "_model_module_version": "1.5.0",
      "_model_name": "HTMLModel",
      "_view_count": null,
      "_view_module": "@jupyter-widgets/controls",
      "_view_module_version": "1.5.0",
      "_view_name": "HTMLView",
      "description": "",
      "description_tooltip": null,
      "layout": "IPY_MODEL_2110fc3b0536435597a0816a73d92345",
      "placeholder": "​",
      "style": "IPY_MODEL_77c7085d517f468296933bd87843a39c",
      "value": "Downloading: 100%"
     }
    },
    "72247f5402b14d7c89e1dd31c3c59335": {
     "model_module": "@jupyter-widgets/controls",
     "model_module_version": "1.5.0",
     "model_name": "DescriptionStyleModel",
     "state": {
      "_model_module": "@jupyter-widgets/controls",
      "_model_module_version": "1.5.0",
      "_model_name": "DescriptionStyleModel",
      "_view_count": null,
      "_view_module": "@jupyter-widgets/base",
      "_view_module_version": "1.2.0",
      "_view_name": "StyleView",
      "description_width": ""
     }
    },
    "7371263e1a084be09132462df9a81316": {
     "model_module": "@jupyter-widgets/controls",
     "model_module_version": "1.5.0",
     "model_name": "DescriptionStyleModel",
     "state": {
      "_model_module": "@jupyter-widgets/controls",
      "_model_module_version": "1.5.0",
      "_model_name": "DescriptionStyleModel",
      "_view_count": null,
      "_view_module": "@jupyter-widgets/base",
      "_view_module_version": "1.2.0",
      "_view_name": "StyleView",
      "description_width": ""
     }
    },
    "740afdabaf5b471cae6893722104c3cc": {
     "model_module": "@jupyter-widgets/base",
     "model_module_version": "1.2.0",
     "model_name": "LayoutModel",
     "state": {
      "_model_module": "@jupyter-widgets/base",
      "_model_module_version": "1.2.0",
      "_model_name": "LayoutModel",
      "_view_count": null,
      "_view_module": "@jupyter-widgets/base",
      "_view_module_version": "1.2.0",
      "_view_name": "LayoutView",
      "align_content": null,
      "align_items": null,
      "align_self": null,
      "border": null,
      "bottom": null,
      "display": null,
      "flex": null,
      "flex_flow": null,
      "grid_area": null,
      "grid_auto_columns": null,
      "grid_auto_flow": null,
      "grid_auto_rows": null,
      "grid_column": null,
      "grid_gap": null,
      "grid_row": null,
      "grid_template_areas": null,
      "grid_template_columns": null,
      "grid_template_rows": null,
      "height": null,
      "justify_content": null,
      "justify_items": null,
      "left": null,
      "margin": null,
      "max_height": null,
      "max_width": null,
      "min_height": null,
      "min_width": null,
      "object_fit": null,
      "object_position": null,
      "order": null,
      "overflow": null,
      "overflow_x": null,
      "overflow_y": null,
      "padding": null,
      "right": null,
      "top": null,
      "visibility": null,
      "width": null
     }
    },
    "7510473fa9e847cabcb54884d6070d73": {
     "model_module": "@jupyter-widgets/base",
     "model_module_version": "1.2.0",
     "model_name": "LayoutModel",
     "state": {
      "_model_module": "@jupyter-widgets/base",
      "_model_module_version": "1.2.0",
      "_model_name": "LayoutModel",
      "_view_count": null,
      "_view_module": "@jupyter-widgets/base",
      "_view_module_version": "1.2.0",
      "_view_name": "LayoutView",
      "align_content": null,
      "align_items": null,
      "align_self": null,
      "border": null,
      "bottom": null,
      "display": null,
      "flex": null,
      "flex_flow": null,
      "grid_area": null,
      "grid_auto_columns": null,
      "grid_auto_flow": null,
      "grid_auto_rows": null,
      "grid_column": null,
      "grid_gap": null,
      "grid_row": null,
      "grid_template_areas": null,
      "grid_template_columns": null,
      "grid_template_rows": null,
      "height": null,
      "justify_content": null,
      "justify_items": null,
      "left": null,
      "margin": null,
      "max_height": null,
      "max_width": null,
      "min_height": null,
      "min_width": null,
      "object_fit": null,
      "object_position": null,
      "order": null,
      "overflow": null,
      "overflow_x": null,
      "overflow_y": null,
      "padding": null,
      "right": null,
      "top": null,
      "visibility": null,
      "width": null
     }
    },
    "75d40e3c3cf2434eba067f88067b31e3": {
     "model_module": "@jupyter-widgets/controls",
     "model_module_version": "1.5.0",
     "model_name": "DescriptionStyleModel",
     "state": {
      "_model_module": "@jupyter-widgets/controls",
      "_model_module_version": "1.5.0",
      "_model_name": "DescriptionStyleModel",
      "_view_count": null,
      "_view_module": "@jupyter-widgets/base",
      "_view_module_version": "1.2.0",
      "_view_name": "StyleView",
      "description_width": ""
     }
    },
    "772c75c6b5e64f31bf1af422ad0b11bf": {
     "model_module": "@jupyter-widgets/base",
     "model_module_version": "1.2.0",
     "model_name": "LayoutModel",
     "state": {
      "_model_module": "@jupyter-widgets/base",
      "_model_module_version": "1.2.0",
      "_model_name": "LayoutModel",
      "_view_count": null,
      "_view_module": "@jupyter-widgets/base",
      "_view_module_version": "1.2.0",
      "_view_name": "LayoutView",
      "align_content": null,
      "align_items": null,
      "align_self": null,
      "border": null,
      "bottom": null,
      "display": null,
      "flex": null,
      "flex_flow": null,
      "grid_area": null,
      "grid_auto_columns": null,
      "grid_auto_flow": null,
      "grid_auto_rows": null,
      "grid_column": null,
      "grid_gap": null,
      "grid_row": null,
      "grid_template_areas": null,
      "grid_template_columns": null,
      "grid_template_rows": null,
      "height": null,
      "justify_content": null,
      "justify_items": null,
      "left": null,
      "margin": null,
      "max_height": null,
      "max_width": null,
      "min_height": null,
      "min_width": null,
      "object_fit": null,
      "object_position": null,
      "order": null,
      "overflow": null,
      "overflow_x": null,
      "overflow_y": null,
      "padding": null,
      "right": null,
      "top": null,
      "visibility": null,
      "width": null
     }
    },
    "776efc0f188b4b10ba678b494562bc23": {
     "model_module": "@jupyter-widgets/controls",
     "model_module_version": "1.5.0",
     "model_name": "HTMLModel",
     "state": {
      "_dom_classes": [],
      "_model_module": "@jupyter-widgets/controls",
      "_model_module_version": "1.5.0",
      "_model_name": "HTMLModel",
      "_view_count": null,
      "_view_module": "@jupyter-widgets/controls",
      "_view_module_version": "1.5.0",
      "_view_name": "HTMLView",
      "description": "",
      "description_tooltip": null,
      "layout": "IPY_MODEL_a82d2da6afb842868d643397977ae5f0",
      "placeholder": "​",
      "style": "IPY_MODEL_f6900059413f4907812c259d03620750",
      "value": " 420M/420M [00:13&lt;00:00, 31.1MB/s]"
     }
    },
    "77c7085d517f468296933bd87843a39c": {
     "model_module": "@jupyter-widgets/controls",
     "model_module_version": "1.5.0",
     "model_name": "DescriptionStyleModel",
     "state": {
      "_model_module": "@jupyter-widgets/controls",
      "_model_module_version": "1.5.0",
      "_model_name": "DescriptionStyleModel",
      "_view_count": null,
      "_view_module": "@jupyter-widgets/base",
      "_view_module_version": "1.2.0",
      "_view_name": "StyleView",
      "description_width": ""
     }
    },
    "797b14975fd94c308d213c268d4ff0d8": {
     "model_module": "@jupyter-widgets/base",
     "model_module_version": "1.2.0",
     "model_name": "LayoutModel",
     "state": {
      "_model_module": "@jupyter-widgets/base",
      "_model_module_version": "1.2.0",
      "_model_name": "LayoutModel",
      "_view_count": null,
      "_view_module": "@jupyter-widgets/base",
      "_view_module_version": "1.2.0",
      "_view_name": "LayoutView",
      "align_content": null,
      "align_items": null,
      "align_self": null,
      "border": null,
      "bottom": null,
      "display": null,
      "flex": null,
      "flex_flow": null,
      "grid_area": null,
      "grid_auto_columns": null,
      "grid_auto_flow": null,
      "grid_auto_rows": null,
      "grid_column": null,
      "grid_gap": null,
      "grid_row": null,
      "grid_template_areas": null,
      "grid_template_columns": null,
      "grid_template_rows": null,
      "height": null,
      "justify_content": null,
      "justify_items": null,
      "left": null,
      "margin": null,
      "max_height": null,
      "max_width": null,
      "min_height": null,
      "min_width": null,
      "object_fit": null,
      "object_position": null,
      "order": null,
      "overflow": null,
      "overflow_x": null,
      "overflow_y": null,
      "padding": null,
      "right": null,
      "top": null,
      "visibility": null,
      "width": null
     }
    },
    "7ce43ae9f0324244b20cc0b22fbc5930": {
     "model_module": "@jupyter-widgets/controls",
     "model_module_version": "1.5.0",
     "model_name": "HBoxModel",
     "state": {
      "_dom_classes": [],
      "_model_module": "@jupyter-widgets/controls",
      "_model_module_version": "1.5.0",
      "_model_name": "HBoxModel",
      "_view_count": null,
      "_view_module": "@jupyter-widgets/controls",
      "_view_module_version": "1.5.0",
      "_view_name": "HBoxView",
      "box_style": "",
      "children": [
       "IPY_MODEL_1b5fb416ff1e413d855cf32edf289b17",
       "IPY_MODEL_5108f5f57a6549b3987241aa997a4c0d",
       "IPY_MODEL_e984368e83f940dc865e0d48aaf1c4db"
      ],
      "layout": "IPY_MODEL_f2e7562840bd477d864b8ab73a7362db"
     }
    },
    "7f76d7b8210643b3a5f95d102bb43283": {
     "model_module": "@jupyter-widgets/controls",
     "model_module_version": "1.5.0",
     "model_name": "FloatProgressModel",
     "state": {
      "_dom_classes": [],
      "_model_module": "@jupyter-widgets/controls",
      "_model_module_version": "1.5.0",
      "_model_name": "FloatProgressModel",
      "_view_count": null,
      "_view_module": "@jupyter-widgets/controls",
      "_view_module_version": "1.5.0",
      "_view_name": "ProgressView",
      "bar_style": "success",
      "description": "",
      "description_tooltip": null,
      "layout": "IPY_MODEL_cfabdb1af2d14010a9119665acbf2c6c",
      "max": 3,
      "min": 0,
      "orientation": "horizontal",
      "style": "IPY_MODEL_924c067263ef4992a087ab94ce428a57",
      "value": 3
     }
    },
    "8063ab8970344ceda9f7cf29884dd7c6": {
     "model_module": "@jupyter-widgets/controls",
     "model_module_version": "1.5.0",
     "model_name": "HBoxModel",
     "state": {
      "_dom_classes": [],
      "_model_module": "@jupyter-widgets/controls",
      "_model_module_version": "1.5.0",
      "_model_name": "HBoxModel",
      "_view_count": null,
      "_view_module": "@jupyter-widgets/controls",
      "_view_module_version": "1.5.0",
      "_view_name": "HBoxView",
      "box_style": "",
      "children": [
       "IPY_MODEL_a7f9a84111c946a9bb6f1dde46ea2c44",
       "IPY_MODEL_644393913a74451ca43d7a970fee4302",
       "IPY_MODEL_3bf8acf3d9544584848925ff69813a6e"
      ],
      "layout": "IPY_MODEL_8445e8c80b354df1a10c5c635d195833"
     }
    },
    "808c6f31ea884cd9a027e8761e669700": {
     "model_module": "@jupyter-widgets/controls",
     "model_module_version": "1.5.0",
     "model_name": "FloatProgressModel",
     "state": {
      "_dom_classes": [],
      "_model_module": "@jupyter-widgets/controls",
      "_model_module_version": "1.5.0",
      "_model_name": "FloatProgressModel",
      "_view_count": null,
      "_view_module": "@jupyter-widgets/controls",
      "_view_module_version": "1.5.0",
      "_view_name": "ProgressView",
      "bar_style": "success",
      "description": "",
      "description_tooltip": null,
      "layout": "IPY_MODEL_64fa91d7f9194fee8fe1ffdbdf03a1ea",
      "max": 2,
      "min": 0,
      "orientation": "horizontal",
      "style": "IPY_MODEL_f6bc52d8a0654c54a69147e34077794e",
      "value": 2
     }
    },
    "8445e8c80b354df1a10c5c635d195833": {
     "model_module": "@jupyter-widgets/base",
     "model_module_version": "1.2.0",
     "model_name": "LayoutModel",
     "state": {
      "_model_module": "@jupyter-widgets/base",
      "_model_module_version": "1.2.0",
      "_model_name": "LayoutModel",
      "_view_count": null,
      "_view_module": "@jupyter-widgets/base",
      "_view_module_version": "1.2.0",
      "_view_name": "LayoutView",
      "align_content": null,
      "align_items": null,
      "align_self": null,
      "border": null,
      "bottom": null,
      "display": null,
      "flex": null,
      "flex_flow": null,
      "grid_area": null,
      "grid_auto_columns": null,
      "grid_auto_flow": null,
      "grid_auto_rows": null,
      "grid_column": null,
      "grid_gap": null,
      "grid_row": null,
      "grid_template_areas": null,
      "grid_template_columns": null,
      "grid_template_rows": null,
      "height": null,
      "justify_content": null,
      "justify_items": null,
      "left": null,
      "margin": null,
      "max_height": null,
      "max_width": null,
      "min_height": null,
      "min_width": null,
      "object_fit": null,
      "object_position": null,
      "order": null,
      "overflow": null,
      "overflow_x": null,
      "overflow_y": null,
      "padding": null,
      "right": null,
      "top": null,
      "visibility": null,
      "width": null
     }
    },
    "866d2af3f834436ab1cda5c3fca88a0d": {
     "model_module": "@jupyter-widgets/controls",
     "model_module_version": "1.5.0",
     "model_name": "HTMLModel",
     "state": {
      "_dom_classes": [],
      "_model_module": "@jupyter-widgets/controls",
      "_model_module_version": "1.5.0",
      "_model_name": "HTMLModel",
      "_view_count": null,
      "_view_module": "@jupyter-widgets/controls",
      "_view_module_version": "1.5.0",
      "_view_name": "HTMLView",
      "description": "",
      "description_tooltip": null,
      "layout": "IPY_MODEL_4dc3c5e6224b497f8354de992a1384b0",
      "placeholder": "​",
      "style": "IPY_MODEL_1fb5f18968f5492a96b51de1e1c0d4fb",
      "value": " 3.20k/? [00:00&lt;00:00, 70.9kB/s]"
     }
    },
    "869a2773da074e3aadd59d6f1248287f": {
     "model_module": "@jupyter-widgets/controls",
     "model_module_version": "1.5.0",
     "model_name": "DescriptionStyleModel",
     "state": {
      "_model_module": "@jupyter-widgets/controls",
      "_model_module_version": "1.5.0",
      "_model_name": "DescriptionStyleModel",
      "_view_count": null,
      "_view_module": "@jupyter-widgets/base",
      "_view_module_version": "1.2.0",
      "_view_name": "StyleView",
      "description_width": ""
     }
    },
    "870497bf625f413c89ba6c92f138a4b0": {
     "model_module": "@jupyter-widgets/base",
     "model_module_version": "1.2.0",
     "model_name": "LayoutModel",
     "state": {
      "_model_module": "@jupyter-widgets/base",
      "_model_module_version": "1.2.0",
      "_model_name": "LayoutModel",
      "_view_count": null,
      "_view_module": "@jupyter-widgets/base",
      "_view_module_version": "1.2.0",
      "_view_name": "LayoutView",
      "align_content": null,
      "align_items": null,
      "align_self": null,
      "border": null,
      "bottom": null,
      "display": null,
      "flex": null,
      "flex_flow": null,
      "grid_area": null,
      "grid_auto_columns": null,
      "grid_auto_flow": null,
      "grid_auto_rows": null,
      "grid_column": null,
      "grid_gap": null,
      "grid_row": null,
      "grid_template_areas": null,
      "grid_template_columns": null,
      "grid_template_rows": null,
      "height": null,
      "justify_content": null,
      "justify_items": null,
      "left": null,
      "margin": null,
      "max_height": null,
      "max_width": null,
      "min_height": null,
      "min_width": null,
      "object_fit": null,
      "object_position": null,
      "order": null,
      "overflow": null,
      "overflow_x": null,
      "overflow_y": null,
      "padding": null,
      "right": null,
      "top": null,
      "visibility": null,
      "width": null
     }
    },
    "88504949c31f4b8f958d0c35bc5e4850": {
     "model_module": "@jupyter-widgets/base",
     "model_module_version": "1.2.0",
     "model_name": "LayoutModel",
     "state": {
      "_model_module": "@jupyter-widgets/base",
      "_model_module_version": "1.2.0",
      "_model_name": "LayoutModel",
      "_view_count": null,
      "_view_module": "@jupyter-widgets/base",
      "_view_module_version": "1.2.0",
      "_view_name": "LayoutView",
      "align_content": null,
      "align_items": null,
      "align_self": null,
      "border": null,
      "bottom": null,
      "display": null,
      "flex": null,
      "flex_flow": null,
      "grid_area": null,
      "grid_auto_columns": null,
      "grid_auto_flow": null,
      "grid_auto_rows": null,
      "grid_column": null,
      "grid_gap": null,
      "grid_row": null,
      "grid_template_areas": null,
      "grid_template_columns": null,
      "grid_template_rows": null,
      "height": null,
      "justify_content": null,
      "justify_items": null,
      "left": null,
      "margin": null,
      "max_height": null,
      "max_width": null,
      "min_height": null,
      "min_width": null,
      "object_fit": null,
      "object_position": null,
      "order": null,
      "overflow": null,
      "overflow_x": null,
      "overflow_y": null,
      "padding": null,
      "right": null,
      "top": null,
      "visibility": null,
      "width": null
     }
    },
    "8b9d4fca97c040ab85857171694570c6": {
     "model_module": "@jupyter-widgets/base",
     "model_module_version": "1.2.0",
     "model_name": "LayoutModel",
     "state": {
      "_model_module": "@jupyter-widgets/base",
      "_model_module_version": "1.2.0",
      "_model_name": "LayoutModel",
      "_view_count": null,
      "_view_module": "@jupyter-widgets/base",
      "_view_module_version": "1.2.0",
      "_view_name": "LayoutView",
      "align_content": null,
      "align_items": null,
      "align_self": null,
      "border": null,
      "bottom": null,
      "display": null,
      "flex": null,
      "flex_flow": null,
      "grid_area": null,
      "grid_auto_columns": null,
      "grid_auto_flow": null,
      "grid_auto_rows": null,
      "grid_column": null,
      "grid_gap": null,
      "grid_row": null,
      "grid_template_areas": null,
      "grid_template_columns": null,
      "grid_template_rows": null,
      "height": null,
      "justify_content": null,
      "justify_items": null,
      "left": null,
      "margin": null,
      "max_height": null,
      "max_width": null,
      "min_height": null,
      "min_width": null,
      "object_fit": null,
      "object_position": null,
      "order": null,
      "overflow": null,
      "overflow_x": null,
      "overflow_y": null,
      "padding": null,
      "right": null,
      "top": null,
      "visibility": null,
      "width": null
     }
    },
    "8c34c3af8e154af596492553602516ca": {
     "model_module": "@jupyter-widgets/controls",
     "model_module_version": "1.5.0",
     "model_name": "HTMLModel",
     "state": {
      "_dom_classes": [],
      "_model_module": "@jupyter-widgets/controls",
      "_model_module_version": "1.5.0",
      "_model_name": "HTMLModel",
      "_view_count": null,
      "_view_module": "@jupyter-widgets/controls",
      "_view_module_version": "1.5.0",
      "_view_name": "HTMLView",
      "description": "",
      "description_tooltip": null,
      "layout": "IPY_MODEL_6eb22e62480b4178b5392cd0bbbc6f61",
      "placeholder": "​",
      "style": "IPY_MODEL_e83cb4000ce746feaed596b8be8c715c",
      "value": "<center>\n<img src=https://huggingface.co/front/assets/huggingface_logo-noborder.svg alt='Hugging Face'>\n<br>\n<b>The AI community building the future</b>\n<br>\nImmediately click login after typing your password or it might be stored in plain text in this notebook file.\n</center>"
     }
    },
    "8e118f8f502b4b51bd4086815a4640de": {
     "model_module": "@jupyter-widgets/base",
     "model_module_version": "1.2.0",
     "model_name": "LayoutModel",
     "state": {
      "_model_module": "@jupyter-widgets/base",
      "_model_module_version": "1.2.0",
      "_model_name": "LayoutModel",
      "_view_count": null,
      "_view_module": "@jupyter-widgets/base",
      "_view_module_version": "1.2.0",
      "_view_name": "LayoutView",
      "align_content": null,
      "align_items": null,
      "align_self": null,
      "border": null,
      "bottom": null,
      "display": null,
      "flex": null,
      "flex_flow": null,
      "grid_area": null,
      "grid_auto_columns": null,
      "grid_auto_flow": null,
      "grid_auto_rows": null,
      "grid_column": null,
      "grid_gap": null,
      "grid_row": null,
      "grid_template_areas": null,
      "grid_template_columns": null,
      "grid_template_rows": null,
      "height": null,
      "justify_content": null,
      "justify_items": null,
      "left": null,
      "margin": null,
      "max_height": null,
      "max_width": null,
      "min_height": null,
      "min_width": null,
      "object_fit": null,
      "object_position": null,
      "order": null,
      "overflow": null,
      "overflow_x": null,
      "overflow_y": null,
      "padding": null,
      "right": null,
      "top": null,
      "visibility": null,
      "width": null
     }
    },
    "8f782208def94e52b7e0e5fc4a99c592": {
     "model_module": "@jupyter-widgets/controls",
     "model_module_version": "1.5.0",
     "model_name": "FloatProgressModel",
     "state": {
      "_dom_classes": [],
      "_model_module": "@jupyter-widgets/controls",
      "_model_module_version": "1.5.0",
      "_model_name": "FloatProgressModel",
      "_view_count": null,
      "_view_module": "@jupyter-widgets/controls",
      "_view_module_version": "1.5.0",
      "_view_name": "ProgressView",
      "bar_style": "success",
      "description": "",
      "description_tooltip": null,
      "layout": "IPY_MODEL_b68bce2564b848d28ca6a23762d62ef1",
      "max": 3,
      "min": 0,
      "orientation": "horizontal",
      "style": "IPY_MODEL_9138d6444a5e42afbd71c6d31f3d996e",
      "value": 3
     }
    },
    "9138d6444a5e42afbd71c6d31f3d996e": {
     "model_module": "@jupyter-widgets/controls",
     "model_module_version": "1.5.0",
     "model_name": "ProgressStyleModel",
     "state": {
      "_model_module": "@jupyter-widgets/controls",
      "_model_module_version": "1.5.0",
      "_model_name": "ProgressStyleModel",
      "_view_count": null,
      "_view_module": "@jupyter-widgets/base",
      "_view_module_version": "1.2.0",
      "_view_name": "StyleView",
      "bar_color": null,
      "description_width": ""
     }
    },
    "924c067263ef4992a087ab94ce428a57": {
     "model_module": "@jupyter-widgets/controls",
     "model_module_version": "1.5.0",
     "model_name": "ProgressStyleModel",
     "state": {
      "_model_module": "@jupyter-widgets/controls",
      "_model_module_version": "1.5.0",
      "_model_name": "ProgressStyleModel",
      "_view_count": null,
      "_view_module": "@jupyter-widgets/base",
      "_view_module_version": "1.2.0",
      "_view_name": "StyleView",
      "bar_color": null,
      "description_width": ""
     }
    },
    "96edf7e2638446258c6c1bf809ae176f": {
     "model_module": "@jupyter-widgets/controls",
     "model_module_version": "1.5.0",
     "model_name": "DescriptionStyleModel",
     "state": {
      "_model_module": "@jupyter-widgets/controls",
      "_model_module_version": "1.5.0",
      "_model_name": "DescriptionStyleModel",
      "_view_count": null,
      "_view_module": "@jupyter-widgets/base",
      "_view_module_version": "1.2.0",
      "_view_name": "StyleView",
      "description_width": ""
     }
    },
    "97c875479c2f450bbafaa8799d4619b5": {
     "model_module": "@jupyter-widgets/controls",
     "model_module_version": "1.5.0",
     "model_name": "FloatProgressModel",
     "state": {
      "_dom_classes": [],
      "_model_module": "@jupyter-widgets/controls",
      "_model_module_version": "1.5.0",
      "_model_name": "FloatProgressModel",
      "_view_count": null,
      "_view_module": "@jupyter-widgets/controls",
      "_view_module_version": "1.5.0",
      "_view_name": "ProgressView",
      "bar_style": "success",
      "description": "",
      "description_tooltip": null,
      "layout": "IPY_MODEL_9f7b03649ae44afca7a0aed3a78acb62",
      "max": 3,
      "min": 0,
      "orientation": "horizontal",
      "style": "IPY_MODEL_3a3451443eb3455eb23eaac1d160f9d4",
      "value": 3
     }
    },
    "9bee536f8156458b9dee921504702b26": {
     "model_module": "@jupyter-widgets/controls",
     "model_module_version": "1.5.0",
     "model_name": "HTMLModel",
     "state": {
      "_dom_classes": [],
      "_model_module": "@jupyter-widgets/controls",
      "_model_module_version": "1.5.0",
      "_model_name": "HTMLModel",
      "_view_count": null,
      "_view_module": "@jupyter-widgets/controls",
      "_view_module_version": "1.5.0",
      "_view_name": "HTMLView",
      "description": "",
      "description_tooltip": null,
      "layout": "IPY_MODEL_7510473fa9e847cabcb54884d6070d73",
      "placeholder": "​",
      "style": "IPY_MODEL_7371263e1a084be09132462df9a81316",
      "value": "Downloading: 100%"
     }
    },
    "9f4ea48b71d34d5fbd16226aab12604a": {
     "model_module": "@jupyter-widgets/controls",
     "model_module_version": "1.5.0",
     "model_name": "ButtonStyleModel",
     "state": {
      "_model_module": "@jupyter-widgets/controls",
      "_model_module_version": "1.5.0",
      "_model_name": "ButtonStyleModel",
      "_view_count": null,
      "_view_module": "@jupyter-widgets/base",
      "_view_module_version": "1.2.0",
      "_view_name": "StyleView",
      "button_color": null,
      "font_weight": ""
     }
    },
    "9f7b03649ae44afca7a0aed3a78acb62": {
     "model_module": "@jupyter-widgets/base",
     "model_module_version": "1.2.0",
     "model_name": "LayoutModel",
     "state": {
      "_model_module": "@jupyter-widgets/base",
      "_model_module_version": "1.2.0",
      "_model_name": "LayoutModel",
      "_view_count": null,
      "_view_module": "@jupyter-widgets/base",
      "_view_module_version": "1.2.0",
      "_view_name": "LayoutView",
      "align_content": null,
      "align_items": null,
      "align_self": null,
      "border": null,
      "bottom": null,
      "display": null,
      "flex": null,
      "flex_flow": null,
      "grid_area": null,
      "grid_auto_columns": null,
      "grid_auto_flow": null,
      "grid_auto_rows": null,
      "grid_column": null,
      "grid_gap": null,
      "grid_row": null,
      "grid_template_areas": null,
      "grid_template_columns": null,
      "grid_template_rows": null,
      "height": null,
      "justify_content": null,
      "justify_items": null,
      "left": null,
      "margin": null,
      "max_height": null,
      "max_width": null,
      "min_height": null,
      "min_width": null,
      "object_fit": null,
      "object_position": null,
      "order": null,
      "overflow": null,
      "overflow_x": null,
      "overflow_y": null,
      "padding": null,
      "right": null,
      "top": null,
      "visibility": null,
      "width": null
     }
    },
    "a00f90801f054b9189c85b4a118e452a": {
     "model_module": "@jupyter-widgets/base",
     "model_module_version": "1.2.0",
     "model_name": "LayoutModel",
     "state": {
      "_model_module": "@jupyter-widgets/base",
      "_model_module_version": "1.2.0",
      "_model_name": "LayoutModel",
      "_view_count": null,
      "_view_module": "@jupyter-widgets/base",
      "_view_module_version": "1.2.0",
      "_view_name": "LayoutView",
      "align_content": null,
      "align_items": null,
      "align_self": null,
      "border": null,
      "bottom": null,
      "display": null,
      "flex": null,
      "flex_flow": null,
      "grid_area": null,
      "grid_auto_columns": null,
      "grid_auto_flow": null,
      "grid_auto_rows": null,
      "grid_column": null,
      "grid_gap": null,
      "grid_row": null,
      "grid_template_areas": null,
      "grid_template_columns": null,
      "grid_template_rows": null,
      "height": null,
      "justify_content": null,
      "justify_items": null,
      "left": null,
      "margin": null,
      "max_height": null,
      "max_width": null,
      "min_height": null,
      "min_width": null,
      "object_fit": null,
      "object_position": null,
      "order": null,
      "overflow": null,
      "overflow_x": null,
      "overflow_y": null,
      "padding": null,
      "right": null,
      "top": null,
      "visibility": null,
      "width": null
     }
    },
    "a0725267a6c840c1908522a9c87933f7": {
     "model_module": "@jupyter-widgets/controls",
     "model_module_version": "1.5.0",
     "model_name": "HTMLModel",
     "state": {
      "_dom_classes": [],
      "_model_module": "@jupyter-widgets/controls",
      "_model_module_version": "1.5.0",
      "_model_name": "HTMLModel",
      "_view_count": null,
      "_view_module": "@jupyter-widgets/controls",
      "_view_module_version": "1.5.0",
      "_view_name": "HTMLView",
      "description": "",
      "description_tooltip": null,
      "layout": "IPY_MODEL_fb71cb2b42d745519e93dcba6125a744",
      "placeholder": "​",
      "style": "IPY_MODEL_140dbe118d1b4e759976ac308760641a",
      "value": " 221k/221k [00:00&lt;00:00, 347kB/s]"
     }
    },
    "a32836ef0e7241c9bb533d5d9a13e143": {
     "model_module": "@jupyter-widgets/controls",
     "model_module_version": "1.5.0",
     "model_name": "ProgressStyleModel",
     "state": {
      "_model_module": "@jupyter-widgets/controls",
      "_model_module_version": "1.5.0",
      "_model_name": "ProgressStyleModel",
      "_view_count": null,
      "_view_module": "@jupyter-widgets/base",
      "_view_module_version": "1.2.0",
      "_view_name": "StyleView",
      "bar_color": null,
      "description_width": ""
     }
    },
    "a592297176de4c5897aed6b6b2096593": {
     "model_module": "@jupyter-widgets/controls",
     "model_module_version": "1.5.0",
     "model_name": "HBoxModel",
     "state": {
      "_dom_classes": [],
      "_model_module": "@jupyter-widgets/controls",
      "_model_module_version": "1.5.0",
      "_model_name": "HBoxModel",
      "_view_count": null,
      "_view_module": "@jupyter-widgets/controls",
      "_view_module_version": "1.5.0",
      "_view_name": "HBoxView",
      "box_style": "",
      "children": [
       "IPY_MODEL_bd6d1a2609f9463c99899b0a7b078507",
       "IPY_MODEL_97c875479c2f450bbafaa8799d4619b5",
       "IPY_MODEL_d13b5cf0c4294fb1a77f95978d95a644"
      ],
      "layout": "IPY_MODEL_6f0765f108f34daaafddb61467aeb084"
     }
    },
    "a5d1727891314721ab62ad8125ede2ef": {
     "model_module": "@jupyter-widgets/base",
     "model_module_version": "1.2.0",
     "model_name": "LayoutModel",
     "state": {
      "_model_module": "@jupyter-widgets/base",
      "_model_module_version": "1.2.0",
      "_model_name": "LayoutModel",
      "_view_count": null,
      "_view_module": "@jupyter-widgets/base",
      "_view_module_version": "1.2.0",
      "_view_name": "LayoutView",
      "align_content": null,
      "align_items": null,
      "align_self": null,
      "border": null,
      "bottom": null,
      "display": null,
      "flex": null,
      "flex_flow": null,
      "grid_area": null,
      "grid_auto_columns": null,
      "grid_auto_flow": null,
      "grid_auto_rows": null,
      "grid_column": null,
      "grid_gap": null,
      "grid_row": null,
      "grid_template_areas": null,
      "grid_template_columns": null,
      "grid_template_rows": null,
      "height": null,
      "justify_content": null,
      "justify_items": null,
      "left": null,
      "margin": null,
      "max_height": null,
      "max_width": null,
      "min_height": null,
      "min_width": null,
      "object_fit": null,
      "object_position": null,
      "order": null,
      "overflow": null,
      "overflow_x": null,
      "overflow_y": null,
      "padding": null,
      "right": null,
      "top": null,
      "visibility": null,
      "width": null
     }
    },
    "a7f9a84111c946a9bb6f1dde46ea2c44": {
     "model_module": "@jupyter-widgets/controls",
     "model_module_version": "1.5.0",
     "model_name": "HTMLModel",
     "state": {
      "_dom_classes": [],
      "_model_module": "@jupyter-widgets/controls",
      "_model_module_version": "1.5.0",
      "_model_name": "HTMLModel",
      "_view_count": null,
      "_view_module": "@jupyter-widgets/controls",
      "_view_module_version": "1.5.0",
      "_view_name": "HTMLView",
      "description": "",
      "description_tooltip": null,
      "layout": "IPY_MODEL_6fc6221395174cf3b19470e28f195d25",
      "placeholder": "​",
      "style": "IPY_MODEL_5137354c74b04f54adb4f69b263d1835",
      "value": "100%"
     }
    },
    "a82d2da6afb842868d643397977ae5f0": {
     "model_module": "@jupyter-widgets/base",
     "model_module_version": "1.2.0",
     "model_name": "LayoutModel",
     "state": {
      "_model_module": "@jupyter-widgets/base",
      "_model_module_version": "1.2.0",
      "_model_name": "LayoutModel",
      "_view_count": null,
      "_view_module": "@jupyter-widgets/base",
      "_view_module_version": "1.2.0",
      "_view_name": "LayoutView",
      "align_content": null,
      "align_items": null,
      "align_self": null,
      "border": null,
      "bottom": null,
      "display": null,
      "flex": null,
      "flex_flow": null,
      "grid_area": null,
      "grid_auto_columns": null,
      "grid_auto_flow": null,
      "grid_auto_rows": null,
      "grid_column": null,
      "grid_gap": null,
      "grid_row": null,
      "grid_template_areas": null,
      "grid_template_columns": null,
      "grid_template_rows": null,
      "height": null,
      "justify_content": null,
      "justify_items": null,
      "left": null,
      "margin": null,
      "max_height": null,
      "max_width": null,
      "min_height": null,
      "min_width": null,
      "object_fit": null,
      "object_position": null,
      "order": null,
      "overflow": null,
      "overflow_x": null,
      "overflow_y": null,
      "padding": null,
      "right": null,
      "top": null,
      "visibility": null,
      "width": null
     }
    },
    "ad5fe3bbe7794bfe9fd8844e94181eee": {
     "model_module": "@jupyter-widgets/controls",
     "model_module_version": "1.5.0",
     "model_name": "HBoxModel",
     "state": {
      "_dom_classes": [],
      "_model_module": "@jupyter-widgets/controls",
      "_model_module_version": "1.5.0",
      "_model_name": "HBoxModel",
      "_view_count": null,
      "_view_module": "@jupyter-widgets/controls",
      "_view_module_version": "1.5.0",
      "_view_name": "HBoxView",
      "box_style": "",
      "children": [
       "IPY_MODEL_65d7340dede84e3281e7af8564cda247",
       "IPY_MODEL_61c0608314a0496f95c808eeae371a93"
      ],
      "layout": "IPY_MODEL_23e6d3038a224584b5febb69b0e1c36c"
     }
    },
    "af3d3bbbc5dd44f8a09334e7ff88a02f": {
     "model_module": "@jupyter-widgets/base",
     "model_module_version": "1.2.0",
     "model_name": "LayoutModel",
     "state": {
      "_model_module": "@jupyter-widgets/base",
      "_model_module_version": "1.2.0",
      "_model_name": "LayoutModel",
      "_view_count": null,
      "_view_module": "@jupyter-widgets/base",
      "_view_module_version": "1.2.0",
      "_view_name": "LayoutView",
      "align_content": null,
      "align_items": null,
      "align_self": null,
      "border": null,
      "bottom": null,
      "display": null,
      "flex": null,
      "flex_flow": null,
      "grid_area": null,
      "grid_auto_columns": null,
      "grid_auto_flow": null,
      "grid_auto_rows": null,
      "grid_column": null,
      "grid_gap": null,
      "grid_row": null,
      "grid_template_areas": null,
      "grid_template_columns": null,
      "grid_template_rows": null,
      "height": null,
      "justify_content": null,
      "justify_items": null,
      "left": null,
      "margin": null,
      "max_height": null,
      "max_width": null,
      "min_height": null,
      "min_width": null,
      "object_fit": null,
      "object_position": null,
      "order": null,
      "overflow": null,
      "overflow_x": null,
      "overflow_y": null,
      "padding": null,
      "right": null,
      "top": null,
      "visibility": null,
      "width": null
     }
    },
    "b2d00c3de07047ec93bc0d8cbb7dc500": {
     "model_module": "@jupyter-widgets/controls",
     "model_module_version": "1.5.0",
     "model_name": "VBoxModel",
     "state": {
      "_dom_classes": [],
      "_model_module": "@jupyter-widgets/controls",
      "_model_module_version": "1.5.0",
      "_model_name": "VBoxModel",
      "_view_count": null,
      "_view_module": "@jupyter-widgets/controls",
      "_view_module_version": "1.5.0",
      "_view_name": "VBoxView",
      "box_style": "",
      "children": [
       "IPY_MODEL_8c34c3af8e154af596492553602516ca",
       "IPY_MODEL_ad5fe3bbe7794bfe9fd8844e94181eee",
       "IPY_MODEL_d2cc920c95f34834a1fb28e211076d1e"
      ],
      "layout": "IPY_MODEL_c9cc4d0cf30a4e8eb3aa6e693532e3c2"
     }
    },
    "b33a73047c64418ab2d7c421f7a23a70": {
     "model_module": "@jupyter-widgets/base",
     "model_module_version": "1.2.0",
     "model_name": "LayoutModel",
     "state": {
      "_model_module": "@jupyter-widgets/base",
      "_model_module_version": "1.2.0",
      "_model_name": "LayoutModel",
      "_view_count": null,
      "_view_module": "@jupyter-widgets/base",
      "_view_module_version": "1.2.0",
      "_view_name": "LayoutView",
      "align_content": null,
      "align_items": null,
      "align_self": null,
      "border": null,
      "bottom": null,
      "display": null,
      "flex": null,
      "flex_flow": null,
      "grid_area": null,
      "grid_auto_columns": null,
      "grid_auto_flow": null,
      "grid_auto_rows": null,
      "grid_column": null,
      "grid_gap": null,
      "grid_row": null,
      "grid_template_areas": null,
      "grid_template_columns": null,
      "grid_template_rows": null,
      "height": null,
      "justify_content": null,
      "justify_items": null,
      "left": null,
      "margin": null,
      "max_height": null,
      "max_width": null,
      "min_height": null,
      "min_width": null,
      "object_fit": null,
      "object_position": null,
      "order": null,
      "overflow": null,
      "overflow_x": null,
      "overflow_y": null,
      "padding": null,
      "right": null,
      "top": null,
      "visibility": null,
      "width": null
     }
    },
    "b3f674b815c44ab29360be4350cdc5a1": {
     "model_module": "@jupyter-widgets/controls",
     "model_module_version": "1.5.0",
     "model_name": "ProgressStyleModel",
     "state": {
      "_model_module": "@jupyter-widgets/controls",
      "_model_module_version": "1.5.0",
      "_model_name": "ProgressStyleModel",
      "_view_count": null,
      "_view_module": "@jupyter-widgets/base",
      "_view_module_version": "1.2.0",
      "_view_name": "StyleView",
      "bar_color": null,
      "description_width": ""
     }
    },
    "b68bce2564b848d28ca6a23762d62ef1": {
     "model_module": "@jupyter-widgets/base",
     "model_module_version": "1.2.0",
     "model_name": "LayoutModel",
     "state": {
      "_model_module": "@jupyter-widgets/base",
      "_model_module_version": "1.2.0",
      "_model_name": "LayoutModel",
      "_view_count": null,
      "_view_module": "@jupyter-widgets/base",
      "_view_module_version": "1.2.0",
      "_view_name": "LayoutView",
      "align_content": null,
      "align_items": null,
      "align_self": null,
      "border": null,
      "bottom": null,
      "display": null,
      "flex": null,
      "flex_flow": null,
      "grid_area": null,
      "grid_auto_columns": null,
      "grid_auto_flow": null,
      "grid_auto_rows": null,
      "grid_column": null,
      "grid_gap": null,
      "grid_row": null,
      "grid_template_areas": null,
      "grid_template_columns": null,
      "grid_template_rows": null,
      "height": null,
      "justify_content": null,
      "justify_items": null,
      "left": null,
      "margin": null,
      "max_height": null,
      "max_width": null,
      "min_height": null,
      "min_width": null,
      "object_fit": null,
      "object_position": null,
      "order": null,
      "overflow": null,
      "overflow_x": null,
      "overflow_y": null,
      "padding": null,
      "right": null,
      "top": null,
      "visibility": null,
      "width": null
     }
    },
    "bc53cbfe3c03467893b766c39fa19e19": {
     "model_module": "@jupyter-widgets/base",
     "model_module_version": "1.2.0",
     "model_name": "LayoutModel",
     "state": {
      "_model_module": "@jupyter-widgets/base",
      "_model_module_version": "1.2.0",
      "_model_name": "LayoutModel",
      "_view_count": null,
      "_view_module": "@jupyter-widgets/base",
      "_view_module_version": "1.2.0",
      "_view_name": "LayoutView",
      "align_content": null,
      "align_items": null,
      "align_self": null,
      "border": null,
      "bottom": null,
      "display": null,
      "flex": null,
      "flex_flow": null,
      "grid_area": null,
      "grid_auto_columns": null,
      "grid_auto_flow": null,
      "grid_auto_rows": null,
      "grid_column": null,
      "grid_gap": null,
      "grid_row": null,
      "grid_template_areas": null,
      "grid_template_columns": null,
      "grid_template_rows": null,
      "height": null,
      "justify_content": null,
      "justify_items": null,
      "left": null,
      "margin": null,
      "max_height": null,
      "max_width": null,
      "min_height": null,
      "min_width": null,
      "object_fit": null,
      "object_position": null,
      "order": null,
      "overflow": null,
      "overflow_x": null,
      "overflow_y": null,
      "padding": null,
      "right": null,
      "top": null,
      "visibility": null,
      "width": null
     }
    },
    "bd249b1f1e6d4b3a86c12370aa9d490f": {
     "model_module": "@jupyter-widgets/controls",
     "model_module_version": "1.5.0",
     "model_name": "HTMLModel",
     "state": {
      "_dom_classes": [],
      "_model_module": "@jupyter-widgets/controls",
      "_model_module_version": "1.5.0",
      "_model_name": "HTMLModel",
      "_view_count": null,
      "_view_module": "@jupyter-widgets/controls",
      "_view_module_version": "1.5.0",
      "_view_name": "HTMLView",
      "description": "",
      "description_tooltip": null,
      "layout": "IPY_MODEL_5ce9850feb5241c693b9d86e24021f0c",
      "placeholder": "​",
      "style": "IPY_MODEL_eee2b84261bd41d68bb523397b029145",
      "value": "100%"
     }
    },
    "bd5ff05958f24f7eb1c54846cd6541a2": {
     "model_module": "@jupyter-widgets/controls",
     "model_module_version": "1.5.0",
     "model_name": "FloatProgressModel",
     "state": {
      "_dom_classes": [],
      "_model_module": "@jupyter-widgets/controls",
      "_model_module_version": "1.5.0",
      "_model_name": "FloatProgressModel",
      "_view_count": null,
      "_view_module": "@jupyter-widgets/controls",
      "_view_module_version": "1.5.0",
      "_view_name": "ProgressView",
      "bar_style": "success",
      "description": "",
      "description_tooltip": null,
      "layout": "IPY_MODEL_259d0e61165d4e16ba77212f51487186",
      "max": 1420,
      "min": 0,
      "orientation": "horizontal",
      "style": "IPY_MODEL_3f0851761efc46d4a15ea9cc8b1cb5c3",
      "value": 1420
     }
    },
    "bd6d1a2609f9463c99899b0a7b078507": {
     "model_module": "@jupyter-widgets/controls",
     "model_module_version": "1.5.0",
     "model_name": "HTMLModel",
     "state": {
      "_dom_classes": [],
      "_model_module": "@jupyter-widgets/controls",
      "_model_module_version": "1.5.0",
      "_model_name": "HTMLModel",
      "_view_count": null,
      "_view_module": "@jupyter-widgets/controls",
      "_view_module_version": "1.5.0",
      "_view_name": "HTMLView",
      "description": "",
      "description_tooltip": null,
      "layout": "IPY_MODEL_d7e7c8457d9d4e5a9d8deb3e83efb415",
      "placeholder": "​",
      "style": "IPY_MODEL_c614a350235d4d0cb3c36b1ef95cc5b6",
      "value": "100%"
     }
    },
    "c3b828d90e63485aa360be9d6a04504c": {
     "model_module": "@jupyter-widgets/base",
     "model_module_version": "1.2.0",
     "model_name": "LayoutModel",
     "state": {
      "_model_module": "@jupyter-widgets/base",
      "_model_module_version": "1.2.0",
      "_model_name": "LayoutModel",
      "_view_count": null,
      "_view_module": "@jupyter-widgets/base",
      "_view_module_version": "1.2.0",
      "_view_name": "LayoutView",
      "align_content": null,
      "align_items": null,
      "align_self": null,
      "border": null,
      "bottom": null,
      "display": null,
      "flex": null,
      "flex_flow": null,
      "grid_area": null,
      "grid_auto_columns": null,
      "grid_auto_flow": null,
      "grid_auto_rows": null,
      "grid_column": null,
      "grid_gap": null,
      "grid_row": null,
      "grid_template_areas": null,
      "grid_template_columns": null,
      "grid_template_rows": null,
      "height": null,
      "justify_content": null,
      "justify_items": null,
      "left": null,
      "margin": null,
      "max_height": null,
      "max_width": null,
      "min_height": null,
      "min_width": null,
      "object_fit": null,
      "object_position": null,
      "order": null,
      "overflow": null,
      "overflow_x": null,
      "overflow_y": null,
      "padding": null,
      "right": null,
      "top": null,
      "visibility": null,
      "width": null
     }
    },
    "c46db95e76e84286b5e3d03297ef794c": {
     "model_module": "@jupyter-widgets/base",
     "model_module_version": "1.2.0",
     "model_name": "LayoutModel",
     "state": {
      "_model_module": "@jupyter-widgets/base",
      "_model_module_version": "1.2.0",
      "_model_name": "LayoutModel",
      "_view_count": null,
      "_view_module": "@jupyter-widgets/base",
      "_view_module_version": "1.2.0",
      "_view_name": "LayoutView",
      "align_content": null,
      "align_items": null,
      "align_self": null,
      "border": null,
      "bottom": null,
      "display": null,
      "flex": null,
      "flex_flow": null,
      "grid_area": null,
      "grid_auto_columns": null,
      "grid_auto_flow": null,
      "grid_auto_rows": null,
      "grid_column": null,
      "grid_gap": null,
      "grid_row": null,
      "grid_template_areas": null,
      "grid_template_columns": null,
      "grid_template_rows": null,
      "height": null,
      "justify_content": null,
      "justify_items": null,
      "left": null,
      "margin": null,
      "max_height": null,
      "max_width": null,
      "min_height": null,
      "min_width": null,
      "object_fit": null,
      "object_position": null,
      "order": null,
      "overflow": null,
      "overflow_x": null,
      "overflow_y": null,
      "padding": null,
      "right": null,
      "top": null,
      "visibility": null,
      "width": null
     }
    },
    "c4a8c7aaf3d84e06889e1e41e71f7cf6": {
     "model_module": "@jupyter-widgets/controls",
     "model_module_version": "1.5.0",
     "model_name": "DescriptionStyleModel",
     "state": {
      "_model_module": "@jupyter-widgets/controls",
      "_model_module_version": "1.5.0",
      "_model_name": "DescriptionStyleModel",
      "_view_count": null,
      "_view_module": "@jupyter-widgets/base",
      "_view_module_version": "1.2.0",
      "_view_name": "StyleView",
      "description_width": ""
     }
    },
    "c52052720faf433989e2635291d2a26b": {
     "model_module": "@jupyter-widgets/base",
     "model_module_version": "1.2.0",
     "model_name": "LayoutModel",
     "state": {
      "_model_module": "@jupyter-widgets/base",
      "_model_module_version": "1.2.0",
      "_model_name": "LayoutModel",
      "_view_count": null,
      "_view_module": "@jupyter-widgets/base",
      "_view_module_version": "1.2.0",
      "_view_name": "LayoutView",
      "align_content": null,
      "align_items": null,
      "align_self": null,
      "border": null,
      "bottom": null,
      "display": null,
      "flex": null,
      "flex_flow": null,
      "grid_area": null,
      "grid_auto_columns": null,
      "grid_auto_flow": null,
      "grid_auto_rows": null,
      "grid_column": null,
      "grid_gap": null,
      "grid_row": null,
      "grid_template_areas": null,
      "grid_template_columns": null,
      "grid_template_rows": null,
      "height": null,
      "justify_content": null,
      "justify_items": null,
      "left": null,
      "margin": null,
      "max_height": null,
      "max_width": null,
      "min_height": null,
      "min_width": null,
      "object_fit": null,
      "object_position": null,
      "order": null,
      "overflow": null,
      "overflow_x": null,
      "overflow_y": null,
      "padding": null,
      "right": null,
      "top": null,
      "visibility": null,
      "width": null
     }
    },
    "c614a350235d4d0cb3c36b1ef95cc5b6": {
     "model_module": "@jupyter-widgets/controls",
     "model_module_version": "1.5.0",
     "model_name": "DescriptionStyleModel",
     "state": {
      "_model_module": "@jupyter-widgets/controls",
      "_model_module_version": "1.5.0",
      "_model_name": "DescriptionStyleModel",
      "_view_count": null,
      "_view_module": "@jupyter-widgets/base",
      "_view_module_version": "1.2.0",
      "_view_name": "StyleView",
      "description_width": ""
     }
    },
    "c6e7e6a3cc704ba896f1c00fd26c6884": {
     "model_module": "@jupyter-widgets/controls",
     "model_module_version": "1.5.0",
     "model_name": "DescriptionStyleModel",
     "state": {
      "_model_module": "@jupyter-widgets/controls",
      "_model_module_version": "1.5.0",
      "_model_name": "DescriptionStyleModel",
      "_view_count": null,
      "_view_module": "@jupyter-widgets/base",
      "_view_module_version": "1.2.0",
      "_view_name": "StyleView",
      "description_width": ""
     }
    },
    "c9cc4d0cf30a4e8eb3aa6e693532e3c2": {
     "model_module": "@jupyter-widgets/base",
     "model_module_version": "1.2.0",
     "model_name": "LayoutModel",
     "state": {
      "_model_module": "@jupyter-widgets/base",
      "_model_module_version": "1.2.0",
      "_model_name": "LayoutModel",
      "_view_count": null,
      "_view_module": "@jupyter-widgets/base",
      "_view_module_version": "1.2.0",
      "_view_name": "LayoutView",
      "align_content": null,
      "align_items": "center",
      "align_self": null,
      "border": null,
      "bottom": null,
      "display": "flex",
      "flex": null,
      "flex_flow": "column",
      "grid_area": null,
      "grid_auto_columns": null,
      "grid_auto_flow": null,
      "grid_auto_rows": null,
      "grid_column": null,
      "grid_gap": null,
      "grid_row": null,
      "grid_template_areas": null,
      "grid_template_columns": null,
      "grid_template_rows": null,
      "height": null,
      "justify_content": null,
      "justify_items": null,
      "left": null,
      "margin": null,
      "max_height": null,
      "max_width": null,
      "min_height": null,
      "min_width": null,
      "object_fit": null,
      "object_position": null,
      "order": null,
      "overflow": null,
      "overflow_x": null,
      "overflow_y": null,
      "padding": null,
      "right": null,
      "top": null,
      "visibility": null,
      "width": "50%"
     }
    },
    "c9ee10818a1c499b95c28970f4a28783": {
     "model_module": "@jupyter-widgets/controls",
     "model_module_version": "1.5.0",
     "model_name": "ProgressStyleModel",
     "state": {
      "_model_module": "@jupyter-widgets/controls",
      "_model_module_version": "1.5.0",
      "_model_name": "ProgressStyleModel",
      "_view_count": null,
      "_view_module": "@jupyter-widgets/base",
      "_view_module_version": "1.2.0",
      "_view_name": "StyleView",
      "bar_color": null,
      "description_width": ""
     }
    },
    "cbe2aaeab6b34ef58f712dec891b16f3": {
     "model_module": "@jupyter-widgets/base",
     "model_module_version": "1.2.0",
     "model_name": "LayoutModel",
     "state": {
      "_model_module": "@jupyter-widgets/base",
      "_model_module_version": "1.2.0",
      "_model_name": "LayoutModel",
      "_view_count": null,
      "_view_module": "@jupyter-widgets/base",
      "_view_module_version": "1.2.0",
      "_view_name": "LayoutView",
      "align_content": null,
      "align_items": null,
      "align_self": null,
      "border": null,
      "bottom": null,
      "display": null,
      "flex": null,
      "flex_flow": null,
      "grid_area": null,
      "grid_auto_columns": null,
      "grid_auto_flow": null,
      "grid_auto_rows": null,
      "grid_column": null,
      "grid_gap": null,
      "grid_row": null,
      "grid_template_areas": null,
      "grid_template_columns": null,
      "grid_template_rows": null,
      "height": null,
      "justify_content": null,
      "justify_items": null,
      "left": null,
      "margin": null,
      "max_height": null,
      "max_width": null,
      "min_height": null,
      "min_width": null,
      "object_fit": null,
      "object_position": null,
      "order": null,
      "overflow": null,
      "overflow_x": null,
      "overflow_y": null,
      "padding": null,
      "right": null,
      "top": null,
      "visibility": null,
      "width": null
     }
    },
    "cecf3310ef4849e2ac92eefd3650e47a": {
     "model_module": "@jupyter-widgets/controls",
     "model_module_version": "1.5.0",
     "model_name": "FloatProgressModel",
     "state": {
      "_dom_classes": [],
      "_model_module": "@jupyter-widgets/controls",
      "_model_module_version": "1.5.0",
      "_model_name": "FloatProgressModel",
      "_view_count": null,
      "_view_module": "@jupyter-widgets/controls",
      "_view_module_version": "1.5.0",
      "_view_name": "ProgressView",
      "bar_style": "success",
      "description": "",
      "description_tooltip": null,
      "layout": "IPY_MODEL_cbe2aaeab6b34ef58f712dec891b16f3",
      "max": 28,
      "min": 0,
      "orientation": "horizontal",
      "style": "IPY_MODEL_b3f674b815c44ab29360be4350cdc5a1",
      "value": 28
     }
    },
    "cfabdb1af2d14010a9119665acbf2c6c": {
     "model_module": "@jupyter-widgets/base",
     "model_module_version": "1.2.0",
     "model_name": "LayoutModel",
     "state": {
      "_model_module": "@jupyter-widgets/base",
      "_model_module_version": "1.2.0",
      "_model_name": "LayoutModel",
      "_view_count": null,
      "_view_module": "@jupyter-widgets/base",
      "_view_module_version": "1.2.0",
      "_view_name": "LayoutView",
      "align_content": null,
      "align_items": null,
      "align_self": null,
      "border": null,
      "bottom": null,
      "display": null,
      "flex": null,
      "flex_flow": null,
      "grid_area": null,
      "grid_auto_columns": null,
      "grid_auto_flow": null,
      "grid_auto_rows": null,
      "grid_column": null,
      "grid_gap": null,
      "grid_row": null,
      "grid_template_areas": null,
      "grid_template_columns": null,
      "grid_template_rows": null,
      "height": null,
      "justify_content": null,
      "justify_items": null,
      "left": null,
      "margin": null,
      "max_height": null,
      "max_width": null,
      "min_height": null,
      "min_width": null,
      "object_fit": null,
      "object_position": null,
      "order": null,
      "overflow": null,
      "overflow_x": null,
      "overflow_y": null,
      "padding": null,
      "right": null,
      "top": null,
      "visibility": null,
      "width": null
     }
    },
    "d13b5cf0c4294fb1a77f95978d95a644": {
     "model_module": "@jupyter-widgets/controls",
     "model_module_version": "1.5.0",
     "model_name": "HTMLModel",
     "state": {
      "_dom_classes": [],
      "_model_module": "@jupyter-widgets/controls",
      "_model_module_version": "1.5.0",
      "_model_name": "HTMLModel",
      "_view_count": null,
      "_view_module": "@jupyter-widgets/controls",
      "_view_module_version": "1.5.0",
      "_view_name": "HTMLView",
      "description": "",
      "description_tooltip": null,
      "layout": "IPY_MODEL_6c8c4601d6eb49be98220adc91f3c69f",
      "placeholder": "​",
      "style": "IPY_MODEL_e6c746c86c944ffab60020ab265722ea",
      "value": " 3/3 [00:00&lt;00:00, 31.79it/s]"
     }
    },
    "d2cc920c95f34834a1fb28e211076d1e": {
     "model_module": "@jupyter-widgets/controls",
     "model_module_version": "1.5.0",
     "model_name": "ButtonModel",
     "state": {
      "_dom_classes": [],
      "_model_module": "@jupyter-widgets/controls",
      "_model_module_version": "1.5.0",
      "_model_name": "ButtonModel",
      "_view_count": null,
      "_view_module": "@jupyter-widgets/controls",
      "_view_module_version": "1.5.0",
      "_view_name": "ButtonView",
      "button_style": "",
      "description": "Login",
      "disabled": false,
      "icon": "",
      "layout": "IPY_MODEL_fbe97f7690d749628561ab34acf70177",
      "style": "IPY_MODEL_9f4ea48b71d34d5fbd16226aab12604a",
      "tooltip": ""
     }
    },
    "d2d23f2611394776b9d39955a04f074b": {
     "model_module": "@jupyter-widgets/base",
     "model_module_version": "1.2.0",
     "model_name": "LayoutModel",
     "state": {
      "_model_module": "@jupyter-widgets/base",
      "_model_module_version": "1.2.0",
      "_model_name": "LayoutModel",
      "_view_count": null,
      "_view_module": "@jupyter-widgets/base",
      "_view_module_version": "1.2.0",
      "_view_name": "LayoutView",
      "align_content": null,
      "align_items": null,
      "align_self": null,
      "border": null,
      "bottom": null,
      "display": null,
      "flex": null,
      "flex_flow": null,
      "grid_area": null,
      "grid_auto_columns": null,
      "grid_auto_flow": null,
      "grid_auto_rows": null,
      "grid_column": null,
      "grid_gap": null,
      "grid_row": null,
      "grid_template_areas": null,
      "grid_template_columns": null,
      "grid_template_rows": null,
      "height": null,
      "justify_content": null,
      "justify_items": null,
      "left": null,
      "margin": null,
      "max_height": null,
      "max_width": null,
      "min_height": null,
      "min_width": null,
      "object_fit": null,
      "object_position": null,
      "order": null,
      "overflow": null,
      "overflow_x": null,
      "overflow_y": null,
      "padding": null,
      "right": null,
      "top": null,
      "visibility": null,
      "width": null
     }
    },
    "d2df1b07e0e144a99c21eb40216ed6e3": {
     "model_module": "@jupyter-widgets/base",
     "model_module_version": "1.2.0",
     "model_name": "LayoutModel",
     "state": {
      "_model_module": "@jupyter-widgets/base",
      "_model_module_version": "1.2.0",
      "_model_name": "LayoutModel",
      "_view_count": null,
      "_view_module": "@jupyter-widgets/base",
      "_view_module_version": "1.2.0",
      "_view_name": "LayoutView",
      "align_content": null,
      "align_items": null,
      "align_self": null,
      "border": null,
      "bottom": null,
      "display": null,
      "flex": null,
      "flex_flow": null,
      "grid_area": null,
      "grid_auto_columns": null,
      "grid_auto_flow": null,
      "grid_auto_rows": null,
      "grid_column": null,
      "grid_gap": null,
      "grid_row": null,
      "grid_template_areas": null,
      "grid_template_columns": null,
      "grid_template_rows": null,
      "height": null,
      "justify_content": null,
      "justify_items": null,
      "left": null,
      "margin": null,
      "max_height": null,
      "max_width": null,
      "min_height": null,
      "min_width": null,
      "object_fit": null,
      "object_position": null,
      "order": null,
      "overflow": null,
      "overflow_x": null,
      "overflow_y": null,
      "padding": null,
      "right": null,
      "top": null,
      "visibility": null,
      "width": null
     }
    },
    "d7e7c8457d9d4e5a9d8deb3e83efb415": {
     "model_module": "@jupyter-widgets/base",
     "model_module_version": "1.2.0",
     "model_name": "LayoutModel",
     "state": {
      "_model_module": "@jupyter-widgets/base",
      "_model_module_version": "1.2.0",
      "_model_name": "LayoutModel",
      "_view_count": null,
      "_view_module": "@jupyter-widgets/base",
      "_view_module_version": "1.2.0",
      "_view_name": "LayoutView",
      "align_content": null,
      "align_items": null,
      "align_self": null,
      "border": null,
      "bottom": null,
      "display": null,
      "flex": null,
      "flex_flow": null,
      "grid_area": null,
      "grid_auto_columns": null,
      "grid_auto_flow": null,
      "grid_auto_rows": null,
      "grid_column": null,
      "grid_gap": null,
      "grid_row": null,
      "grid_template_areas": null,
      "grid_template_columns": null,
      "grid_template_rows": null,
      "height": null,
      "justify_content": null,
      "justify_items": null,
      "left": null,
      "margin": null,
      "max_height": null,
      "max_width": null,
      "min_height": null,
      "min_width": null,
      "object_fit": null,
      "object_position": null,
      "order": null,
      "overflow": null,
      "overflow_x": null,
      "overflow_y": null,
      "padding": null,
      "right": null,
      "top": null,
      "visibility": null,
      "width": null
     }
    },
    "da7d54f239af4e83bfb8e0b6b3feaec0": {
     "model_module": "@jupyter-widgets/controls",
     "model_module_version": "1.5.0",
     "model_name": "HTMLModel",
     "state": {
      "_dom_classes": [],
      "_model_module": "@jupyter-widgets/controls",
      "_model_module_version": "1.5.0",
      "_model_name": "HTMLModel",
      "_view_count": null,
      "_view_module": "@jupyter-widgets/controls",
      "_view_module_version": "1.5.0",
      "_view_name": "HTMLView",
      "description": "",
      "description_tooltip": null,
      "layout": "IPY_MODEL_4afaca67297748128d054cae5b5f97aa",
      "placeholder": "​",
      "style": "IPY_MODEL_96edf7e2638446258c6c1bf809ae176f",
      "value": "100%"
     }
    },
    "dde1972b7a854edb813fc5d017369749": {
     "model_module": "@jupyter-widgets/controls",
     "model_module_version": "1.5.0",
     "model_name": "HTMLModel",
     "state": {
      "_dom_classes": [],
      "_model_module": "@jupyter-widgets/controls",
      "_model_module_version": "1.5.0",
      "_model_name": "HTMLModel",
      "_view_count": null,
      "_view_module": "@jupyter-widgets/controls",
      "_view_module_version": "1.5.0",
      "_view_name": "HTMLView",
      "description": "",
      "description_tooltip": null,
      "layout": "IPY_MODEL_44c5b43f17424f4c97103602c2ca0af0",
      "placeholder": "​",
      "style": "IPY_MODEL_c4a8c7aaf3d84e06889e1e41e71f7cf6",
      "value": "100%"
     }
    },
    "e2fbbe70fb154ffc8fe3a16b8bd1c1bf": {
     "model_module": "@jupyter-widgets/controls",
     "model_module_version": "1.5.0",
     "model_name": "ProgressStyleModel",
     "state": {
      "_model_module": "@jupyter-widgets/controls",
      "_model_module_version": "1.5.0",
      "_model_name": "ProgressStyleModel",
      "_view_count": null,
      "_view_module": "@jupyter-widgets/base",
      "_view_module_version": "1.2.0",
      "_view_name": "StyleView",
      "bar_color": null,
      "description_width": ""
     }
    },
    "e6c746c86c944ffab60020ab265722ea": {
     "model_module": "@jupyter-widgets/controls",
     "model_module_version": "1.5.0",
     "model_name": "DescriptionStyleModel",
     "state": {
      "_model_module": "@jupyter-widgets/controls",
      "_model_module_version": "1.5.0",
      "_model_name": "DescriptionStyleModel",
      "_view_count": null,
      "_view_module": "@jupyter-widgets/base",
      "_view_module_version": "1.2.0",
      "_view_name": "StyleView",
      "description_width": ""
     }
    },
    "e83cb4000ce746feaed596b8be8c715c": {
     "model_module": "@jupyter-widgets/controls",
     "model_module_version": "1.5.0",
     "model_name": "DescriptionStyleModel",
     "state": {
      "_model_module": "@jupyter-widgets/controls",
      "_model_module_version": "1.5.0",
      "_model_name": "DescriptionStyleModel",
      "_view_count": null,
      "_view_module": "@jupyter-widgets/base",
      "_view_module_version": "1.2.0",
      "_view_name": "StyleView",
      "description_width": ""
     }
    },
    "e984368e83f940dc865e0d48aaf1c4db": {
     "model_module": "@jupyter-widgets/controls",
     "model_module_version": "1.5.0",
     "model_name": "HTMLModel",
     "state": {
      "_dom_classes": [],
      "_model_module": "@jupyter-widgets/controls",
      "_model_module_version": "1.5.0",
      "_model_name": "HTMLModel",
      "_view_count": null,
      "_view_module": "@jupyter-widgets/controls",
      "_view_module_version": "1.5.0",
      "_view_name": "HTMLView",
      "description": "",
      "description_tooltip": null,
      "layout": "IPY_MODEL_af3d3bbbc5dd44f8a09334e7ff88a02f",
      "placeholder": "​",
      "style": "IPY_MODEL_394b936e3cd043cab722c366fdeca863",
      "value": " 12/12 [00:01&lt;00:00,  8.81ba/s]"
     }
    },
    "ea4691c517db4a02a7cad4b0c273e5bc": {
     "model_module": "@jupyter-widgets/controls",
     "model_module_version": "1.5.0",
     "model_name": "HTMLModel",
     "state": {
      "_dom_classes": [],
      "_model_module": "@jupyter-widgets/controls",
      "_model_module_version": "1.5.0",
      "_model_name": "HTMLModel",
      "_view_count": null,
      "_view_module": "@jupyter-widgets/controls",
      "_view_module_version": "1.5.0",
      "_view_name": "HTMLView",
      "description": "",
      "description_tooltip": null,
      "layout": "IPY_MODEL_a5d1727891314721ab62ad8125ede2ef",
      "placeholder": "​",
      "style": "IPY_MODEL_f4940e1744214affa8dfe870c5228dab",
      "value": " 28.0/28.0 [00:00&lt;00:00, 602B/s]"
     }
    },
    "ea96da89533742899b320317ff15e22d": {
     "model_module": "@jupyter-widgets/base",
     "model_module_version": "1.2.0",
     "model_name": "LayoutModel",
     "state": {
      "_model_module": "@jupyter-widgets/base",
      "_model_module_version": "1.2.0",
      "_model_name": "LayoutModel",
      "_view_count": null,
      "_view_module": "@jupyter-widgets/base",
      "_view_module_version": "1.2.0",
      "_view_name": "LayoutView",
      "align_content": null,
      "align_items": null,
      "align_self": null,
      "border": null,
      "bottom": null,
      "display": null,
      "flex": null,
      "flex_flow": null,
      "grid_area": null,
      "grid_auto_columns": null,
      "grid_auto_flow": null,
      "grid_auto_rows": null,
      "grid_column": null,
      "grid_gap": null,
      "grid_row": null,
      "grid_template_areas": null,
      "grid_template_columns": null,
      "grid_template_rows": null,
      "height": null,
      "justify_content": null,
      "justify_items": null,
      "left": null,
      "margin": null,
      "max_height": null,
      "max_width": null,
      "min_height": null,
      "min_width": null,
      "object_fit": null,
      "object_position": null,
      "order": null,
      "overflow": null,
      "overflow_x": null,
      "overflow_y": null,
      "padding": null,
      "right": null,
      "top": null,
      "visibility": null,
      "width": null
     }
    },
    "eee2b84261bd41d68bb523397b029145": {
     "model_module": "@jupyter-widgets/controls",
     "model_module_version": "1.5.0",
     "model_name": "DescriptionStyleModel",
     "state": {
      "_model_module": "@jupyter-widgets/controls",
      "_model_module_version": "1.5.0",
      "_model_name": "DescriptionStyleModel",
      "_view_count": null,
      "_view_module": "@jupyter-widgets/base",
      "_view_module_version": "1.2.0",
      "_view_name": "StyleView",
      "description_width": ""
     }
    },
    "efb9c693b43b4bcf835a4c60a71a10de": {
     "model_module": "@jupyter-widgets/controls",
     "model_module_version": "1.5.0",
     "model_name": "DescriptionStyleModel",
     "state": {
      "_model_module": "@jupyter-widgets/controls",
      "_model_module_version": "1.5.0",
      "_model_name": "DescriptionStyleModel",
      "_view_count": null,
      "_view_module": "@jupyter-widgets/base",
      "_view_module_version": "1.2.0",
      "_view_name": "StyleView",
      "description_width": ""
     }
    },
    "f148ebc401a841c9877ad00b6e1dabd0": {
     "model_module": "@jupyter-widgets/controls",
     "model_module_version": "1.5.0",
     "model_name": "HBoxModel",
     "state": {
      "_dom_classes": [],
      "_model_module": "@jupyter-widgets/controls",
      "_model_module_version": "1.5.0",
      "_model_name": "HBoxModel",
      "_view_count": null,
      "_view_module": "@jupyter-widgets/controls",
      "_view_module_version": "1.5.0",
      "_view_name": "HBoxView",
      "box_style": "",
      "children": [
       "IPY_MODEL_1b9e0e86711a45068a899f57f8e08518",
       "IPY_MODEL_bd5ff05958f24f7eb1c54846cd6541a2",
       "IPY_MODEL_866d2af3f834436ab1cda5c3fca88a0d"
      ],
      "layout": "IPY_MODEL_2265d2a6274e44b787b29c899a44f4c1"
     }
    },
    "f2e7562840bd477d864b8ab73a7362db": {
     "model_module": "@jupyter-widgets/base",
     "model_module_version": "1.2.0",
     "model_name": "LayoutModel",
     "state": {
      "_model_module": "@jupyter-widgets/base",
      "_model_module_version": "1.2.0",
      "_model_name": "LayoutModel",
      "_view_count": null,
      "_view_module": "@jupyter-widgets/base",
      "_view_module_version": "1.2.0",
      "_view_name": "LayoutView",
      "align_content": null,
      "align_items": null,
      "align_self": null,
      "border": null,
      "bottom": null,
      "display": null,
      "flex": null,
      "flex_flow": null,
      "grid_area": null,
      "grid_auto_columns": null,
      "grid_auto_flow": null,
      "grid_auto_rows": null,
      "grid_column": null,
      "grid_gap": null,
      "grid_row": null,
      "grid_template_areas": null,
      "grid_template_columns": null,
      "grid_template_rows": null,
      "height": null,
      "justify_content": null,
      "justify_items": null,
      "left": null,
      "margin": null,
      "max_height": null,
      "max_width": null,
      "min_height": null,
      "min_width": null,
      "object_fit": null,
      "object_position": null,
      "order": null,
      "overflow": null,
      "overflow_x": null,
      "overflow_y": null,
      "padding": null,
      "right": null,
      "top": null,
      "visibility": null,
      "width": null
     }
    },
    "f3833ba786a7450ea6c6837d7bf4fd5e": {
     "model_module": "@jupyter-widgets/controls",
     "model_module_version": "1.5.0",
     "model_name": "DescriptionStyleModel",
     "state": {
      "_model_module": "@jupyter-widgets/controls",
      "_model_module_version": "1.5.0",
      "_model_name": "DescriptionStyleModel",
      "_view_count": null,
      "_view_module": "@jupyter-widgets/base",
      "_view_module_version": "1.2.0",
      "_view_name": "StyleView",
      "description_width": ""
     }
    },
    "f4940e1744214affa8dfe870c5228dab": {
     "model_module": "@jupyter-widgets/controls",
     "model_module_version": "1.5.0",
     "model_name": "DescriptionStyleModel",
     "state": {
      "_model_module": "@jupyter-widgets/controls",
      "_model_module_version": "1.5.0",
      "_model_name": "DescriptionStyleModel",
      "_view_count": null,
      "_view_module": "@jupyter-widgets/base",
      "_view_module_version": "1.2.0",
      "_view_name": "StyleView",
      "description_width": ""
     }
    },
    "f60a9bbf94e64b2fba3c980c3dcfa6ee": {
     "model_module": "@jupyter-widgets/base",
     "model_module_version": "1.2.0",
     "model_name": "LayoutModel",
     "state": {
      "_model_module": "@jupyter-widgets/base",
      "_model_module_version": "1.2.0",
      "_model_name": "LayoutModel",
      "_view_count": null,
      "_view_module": "@jupyter-widgets/base",
      "_view_module_version": "1.2.0",
      "_view_name": "LayoutView",
      "align_content": null,
      "align_items": null,
      "align_self": null,
      "border": null,
      "bottom": null,
      "display": null,
      "flex": null,
      "flex_flow": null,
      "grid_area": null,
      "grid_auto_columns": null,
      "grid_auto_flow": null,
      "grid_auto_rows": null,
      "grid_column": null,
      "grid_gap": null,
      "grid_row": null,
      "grid_template_areas": null,
      "grid_template_columns": null,
      "grid_template_rows": null,
      "height": null,
      "justify_content": null,
      "justify_items": null,
      "left": null,
      "margin": null,
      "max_height": null,
      "max_width": null,
      "min_height": null,
      "min_width": null,
      "object_fit": null,
      "object_position": null,
      "order": null,
      "overflow": null,
      "overflow_x": null,
      "overflow_y": null,
      "padding": null,
      "right": null,
      "top": null,
      "visibility": null,
      "width": null
     }
    },
    "f6900059413f4907812c259d03620750": {
     "model_module": "@jupyter-widgets/controls",
     "model_module_version": "1.5.0",
     "model_name": "DescriptionStyleModel",
     "state": {
      "_model_module": "@jupyter-widgets/controls",
      "_model_module_version": "1.5.0",
      "_model_name": "DescriptionStyleModel",
      "_view_count": null,
      "_view_module": "@jupyter-widgets/base",
      "_view_module_version": "1.2.0",
      "_view_name": "StyleView",
      "description_width": ""
     }
    },
    "f6bc52d8a0654c54a69147e34077794e": {
     "model_module": "@jupyter-widgets/controls",
     "model_module_version": "1.5.0",
     "model_name": "ProgressStyleModel",
     "state": {
      "_model_module": "@jupyter-widgets/controls",
      "_model_module_version": "1.5.0",
      "_model_name": "ProgressStyleModel",
      "_view_count": null,
      "_view_module": "@jupyter-widgets/base",
      "_view_module_version": "1.2.0",
      "_view_name": "StyleView",
      "bar_color": null,
      "description_width": ""
     }
    },
    "f9220ee3bb3c494fbdb8ccf9d931b045": {
     "model_module": "@jupyter-widgets/controls",
     "model_module_version": "1.5.0",
     "model_name": "ProgressStyleModel",
     "state": {
      "_model_module": "@jupyter-widgets/controls",
      "_model_module_version": "1.5.0",
      "_model_name": "ProgressStyleModel",
      "_view_count": null,
      "_view_module": "@jupyter-widgets/base",
      "_view_module_version": "1.2.0",
      "_view_name": "StyleView",
      "bar_color": null,
      "description_width": ""
     }
    },
    "fb71cb2b42d745519e93dcba6125a744": {
     "model_module": "@jupyter-widgets/base",
     "model_module_version": "1.2.0",
     "model_name": "LayoutModel",
     "state": {
      "_model_module": "@jupyter-widgets/base",
      "_model_module_version": "1.2.0",
      "_model_name": "LayoutModel",
      "_view_count": null,
      "_view_module": "@jupyter-widgets/base",
      "_view_module_version": "1.2.0",
      "_view_name": "LayoutView",
      "align_content": null,
      "align_items": null,
      "align_self": null,
      "border": null,
      "bottom": null,
      "display": null,
      "flex": null,
      "flex_flow": null,
      "grid_area": null,
      "grid_auto_columns": null,
      "grid_auto_flow": null,
      "grid_auto_rows": null,
      "grid_column": null,
      "grid_gap": null,
      "grid_row": null,
      "grid_template_areas": null,
      "grid_template_columns": null,
      "grid_template_rows": null,
      "height": null,
      "justify_content": null,
      "justify_items": null,
      "left": null,
      "margin": null,
      "max_height": null,
      "max_width": null,
      "min_height": null,
      "min_width": null,
      "object_fit": null,
      "object_position": null,
      "order": null,
      "overflow": null,
      "overflow_x": null,
      "overflow_y": null,
      "padding": null,
      "right": null,
      "top": null,
      "visibility": null,
      "width": null
     }
    },
    "fbe97f7690d749628561ab34acf70177": {
     "model_module": "@jupyter-widgets/base",
     "model_module_version": "1.2.0",
     "model_name": "LayoutModel",
     "state": {
      "_model_module": "@jupyter-widgets/base",
      "_model_module_version": "1.2.0",
      "_model_name": "LayoutModel",
      "_view_count": null,
      "_view_module": "@jupyter-widgets/base",
      "_view_module_version": "1.2.0",
      "_view_name": "LayoutView",
      "align_content": null,
      "align_items": null,
      "align_self": null,
      "border": null,
      "bottom": null,
      "display": null,
      "flex": null,
      "flex_flow": null,
      "grid_area": null,
      "grid_auto_columns": null,
      "grid_auto_flow": null,
      "grid_auto_rows": null,
      "grid_column": null,
      "grid_gap": null,
      "grid_row": null,
      "grid_template_areas": null,
      "grid_template_columns": null,
      "grid_template_rows": null,
      "height": null,
      "justify_content": null,
      "justify_items": null,
      "left": null,
      "margin": null,
      "max_height": null,
      "max_width": null,
      "min_height": null,
      "min_width": null,
      "object_fit": null,
      "object_position": null,
      "order": null,
      "overflow": null,
      "overflow_x": null,
      "overflow_y": null,
      "padding": null,
      "right": null,
      "top": null,
      "visibility": null,
      "width": null
     }
    },
    "fc9e246631824acd8208b855da413273": {
     "model_module": "@jupyter-widgets/base",
     "model_module_version": "1.2.0",
     "model_name": "LayoutModel",
     "state": {
      "_model_module": "@jupyter-widgets/base",
      "_model_module_version": "1.2.0",
      "_model_name": "LayoutModel",
      "_view_count": null,
      "_view_module": "@jupyter-widgets/base",
      "_view_module_version": "1.2.0",
      "_view_name": "LayoutView",
      "align_content": null,
      "align_items": null,
      "align_self": null,
      "border": null,
      "bottom": null,
      "display": null,
      "flex": null,
      "flex_flow": null,
      "grid_area": null,
      "grid_auto_columns": null,
      "grid_auto_flow": null,
      "grid_auto_rows": null,
      "grid_column": null,
      "grid_gap": null,
      "grid_row": null,
      "grid_template_areas": null,
      "grid_template_columns": null,
      "grid_template_rows": null,
      "height": null,
      "justify_content": null,
      "justify_items": null,
      "left": null,
      "margin": null,
      "max_height": null,
      "max_width": null,
      "min_height": null,
      "min_width": null,
      "object_fit": null,
      "object_position": null,
      "order": null,
      "overflow": null,
      "overflow_x": null,
      "overflow_y": null,
      "padding": null,
      "right": null,
      "top": null,
      "visibility": null,
      "width": null
     }
    },
    "fde9230c4a8149ddafd6070f05228f14": {
     "model_module": "@jupyter-widgets/controls",
     "model_module_version": "1.5.0",
     "model_name": "HTMLModel",
     "state": {
      "_dom_classes": [],
      "_model_module": "@jupyter-widgets/controls",
      "_model_module_version": "1.5.0",
      "_model_name": "HTMLModel",
      "_view_count": null,
      "_view_module": "@jupyter-widgets/controls",
      "_view_module_version": "1.5.0",
      "_view_name": "HTMLView",
      "description": "",
      "description_tooltip": null,
      "layout": "IPY_MODEL_b33a73047c64418ab2d7c421f7a23a70",
      "placeholder": "​",
      "style": "IPY_MODEL_72247f5402b14d7c89e1dd31c3c59335",
      "value": "100%"
     }
    },
    "fe5c85b9fbd543f29893495ac8c42b27": {
     "model_module": "@jupyter-widgets/base",
     "model_module_version": "1.2.0",
     "model_name": "LayoutModel",
     "state": {
      "_model_module": "@jupyter-widgets/base",
      "_model_module_version": "1.2.0",
      "_model_name": "LayoutModel",
      "_view_count": null,
      "_view_module": "@jupyter-widgets/base",
      "_view_module_version": "1.2.0",
      "_view_name": "LayoutView",
      "align_content": null,
      "align_items": null,
      "align_self": null,
      "border": null,
      "bottom": null,
      "display": null,
      "flex": null,
      "flex_flow": null,
      "grid_area": null,
      "grid_auto_columns": null,
      "grid_auto_flow": null,
      "grid_auto_rows": null,
      "grid_column": null,
      "grid_gap": null,
      "grid_row": null,
      "grid_template_areas": null,
      "grid_template_columns": null,
      "grid_template_rows": null,
      "height": null,
      "justify_content": null,
      "justify_items": null,
      "left": null,
      "margin": null,
      "max_height": null,
      "max_width": null,
      "min_height": null,
      "min_width": null,
      "object_fit": null,
      "object_position": null,
      "order": null,
      "overflow": null,
      "overflow_x": null,
      "overflow_y": null,
      "padding": null,
      "right": null,
      "top": null,
      "visibility": null,
      "width": null
     }
    },
    "fec89c3d2a444988929d7354586750e0": {
     "model_module": "@jupyter-widgets/controls",
     "model_module_version": "1.5.0",
     "model_name": "DescriptionStyleModel",
     "state": {
      "_model_module": "@jupyter-widgets/controls",
      "_model_module_version": "1.5.0",
      "_model_name": "DescriptionStyleModel",
      "_view_count": null,
      "_view_module": "@jupyter-widgets/base",
      "_view_module_version": "1.2.0",
      "_view_name": "StyleView",
      "description_width": ""
     }
    }
   }
  }
 },
 "nbformat": 4,
 "nbformat_minor": 1
}
